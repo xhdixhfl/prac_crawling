{
 "cells": [
  {
   "cell_type": "code",
   "execution_count": 1,
   "id": "cd7a6dce-ef76-4407-bd92-c0332fa8397a",
   "metadata": {},
   "outputs": [],
   "source": [
    "# 필수 라이브러리 로딩\n",
    "from selenium import webdriver\n",
    "from selenium.webdriver.chrome.service import Service\n",
    "from selenium.webdriver.common.by import By\n",
    "import csv\n",
    "import time"
   ]
  },
  {
   "cell_type": "code",
   "execution_count": 2,
   "id": "ca6eea73-d7fa-4a2b-bce4-e7e76ee961ca",
   "metadata": {},
   "outputs": [],
   "source": [
    "# driver 설정\n",
    "URL = 'https://www.oliveyoung.co.kr/store/goods/getGoodsDetail.do?goodsNo=A000000166294&dispCatNo=90000010002&trackingCd=Today&curation&egcode&rccode&egrankcode'\n",
    "ops = webdriver.ChromeOptions()\n",
    "ops.add_experimental_option('excludeSwitches', ['enable-logging'])\n",
    "\n",
    "sv = Service(executable_path= 'C:\\\\Users\\\\admin\\\\Downloads\\\\chroemdriver')\n",
    "driver = webdriver.Chrome(service=sv, options=ops)\n",
    "\n",
    "driver.get(url=URL)\n",
    "driver.find_element(By.XPATH,f'//*[@id=\"reviewInfo\"]/a').click()"
   ]
  },
  {
   "cell_type": "code",
   "execution_count": 20,
   "id": "88018cd3-b7a4-456b-8489-d478c75220d5",
   "metadata": {},
   "outputs": [
    {
     "data": {
      "text/plain": [
       "'5점만점에 3점'"
      ]
     },
     "execution_count": 20,
     "metadata": {},
     "output_type": "execute_result"
    }
   ],
   "source": [
    "driver.find_element(By.XPATH, '//*[@id=\"gdasList\"]/li[1]/div[2]/div[1]/span[1]/span').text"
   ]
  },
  {
   "cell_type": "code",
   "execution_count": 12,
   "id": "02a20707-f602-452a-b040-a6735a39ad51",
   "metadata": {},
   "outputs": [
    {
     "data": {
      "text/plain": [
       "\"하,, 저처럼 선쿠션 고민하고 또 고민하는 사람들의 위해, 이런 리뷰 안남기는데 도움되시길 바라며 리뷰남길게요. 좋아요 같은거 안눌러도 되구요 그냥 눈팅으로 읽고 참고해주세요. 리뷰엔 왠만해서 '좋다', '이전꺼보다 아쉬운데 좋다'되어있는데 이거 꼭 보세요 ㅠ\\n\\n➡️ 예민, 속건성 피부타임 \\n\\n☑️구매사유\\n기미 레이저치료 진행중이라 하루에 몇번씩 선크림을 발라야하는데,퇴근할 때 되면 옆머리가 기름짐\\n친구가 셀*젼 선쿠션 쓰는데 빌려써봤더니 편하긴하나 얼굴이 건조해져서 다른제품을 알아봄\\n인생 리무버인 식물나라 탄산수  아이리무버, 폼클렌징때문에 식물나라에 마음이 가던 중  극찬의 리뷰랑 1위했다는 문구보고 구매. \\n다만, 리뷰중에 단종되기 전에 제품이 좋다하던데 그건 써본 적도 없고 구할 수 없어서 리뉴얼된걸 구매하러 매장감\\n\\n복숭아톤은 선쿠션과 우유빛톤 선쿠션 두가지 있음\\n복숭아톤은 비비크림 같이 베이지컬러에 커버력 있어서 몇분 고민함\\n\\n테스트할 때 뽀얀쿠션은 커버력 없었음.\\n아무튼 베이지톤 싫어서 뽀얀쿠션인 우유빛 쿠션 구매를 하고 기대하면서(나름 빨리 발라보고싶어서 설렘) 출근하자마자 아침에 발랐음\\n\\n☑️ 장점\\n진짜 동동뜨는 백탁이 아니라서 너무 만족했고, 수분감도 있어서 촉촉하게 발리고, 식물나라 퍼프도 보들보들하고, 눈 화장이 살짝 묻어서 더러워진 부분 바로 손가락으로 미니까 원상복구되길래 만족. 심지어 피부 민감한데 자극없었음 내 나름 정말 잘샀다고 리필형 기획까지 산 나 자신에게 칭찬해줬음\\n\\n-퍼프 보들보들\\n-발랐을 땐 들뜨는 백탁아님\\n-촉촉함(나중엔 건조)\\n\\n☑️ 단점\\n이런,, 맙소사 \\n이거 2번 펌핑한 후 마스크 착용한 채로2시간 지나니까 얼굴에 발린 선쿠션이 다 밀리고 지워지고 얼룩덜룩해지고, 모공보이고 밀린 자국 다 남고, 코 옆 주름에 다 끼이고 최악이네요,,\\n\\n-커버력X\\n-밀림,끼임,뜨는 현상 다 있음\\n-너무 하얗게 되어 머리 묶을 때 목,뒷목 다 발라야함\\n-하얀 제품이라 마스크에 묻는지는 모르겠지만 마스크 닿이는 부분도 다 밀리고 마스크 안에 안 닿여도 막힌 부분은 다 들뜸현상 끼임현상임. (kf94기준)\\n\\n시도때도 없이 덧바르지만 마스크 벗을 때 계속 리터치해야하고,,,두번 다시 살 일 없을 것 같아요...\\n\\n장점에 비해 제가 극혐하는 단점들이 너무 도드라져서 후..사진도 아이폰11프로 후면카메라로 촬영한 보정없는 사진 업로드할게요., 톤 반반 차이나는거도 확인하세요. 아침에 다 바르면 토시오같고 목은 누렇고 얼굴은 하애서 목 졸린 사람 마냥 ㅎ,,,선택은 알아서 하시길,, 저도 기미부분에 테스트해보고 샀으나 부분 테스트와 실제 내가 구매 후 제품을 온전히 발라보는거랑 달라요\""
      ]
     },
     "execution_count": 12,
     "metadata": {},
     "output_type": "execute_result"
    }
   ],
   "source": [
    "driver.find_element(By.XPATH, '//*[@id=\"gdasList\"]/li[1]/div[2]/div[3]').text"
   ]
  },
  {
   "cell_type": "code",
   "execution_count": 17,
   "id": "e6e323b4-d02d-4437-83b9-e6eeb35633a3",
   "metadata": {},
   "outputs": [
    {
     "name": "stdout",
     "output_type": "stream",
     "text": [
      "==2==\n",
      "아직도 요거 사용하고 있네요\n",
      "막 하얘지지 않아서 아쉽긴 한데 그래도 그냥저냥 괜찮아요 ㅎㅎ\n",
      "==3==\n",
      "우와! 이거 엄청 좋아요! 한 듯 안 한 듯 가벼운 톤업 선케어가 되어 저는 정말 잘 쓰고 있답니다. ❤️❤️\n",
      "\n",
      "✔️구매 이유: 손에 덕지덕지 묻는 선케어가 싫어서 깔끔하게 바를 수 있는 걸 원해서 구매했어요!\n",
      "\n",
      "✔️색상: 저는 2호를 골랐는데요, 하얗게 뜨지 않아서 좋은 것 같아요. 내 피부에 자연스럽게 어우러지면서 톤업이 되는데 봄브라이트 기준 둥둥 뜨지 않았습니다. \n",
      "\n",
      "✔️지속력: 지속력은 그냥인 것 같아요. 원래 선크림은 3시간마다 발라줘야 한다고 하니까 그냥저냥 만족합니다. 현실에서 실제로 3시간마다 바르기 어렵지만 여건이 되신다면 이걸로 편하게 바르실 수 있어요!\n",
      "\n",
      "✔️유분: 수부지인데 유분이 많다는 느낌 없어서 알맞게 잘 사용했어요!☺️☺️\n",
      "\n",
      "재구매: 재구매 할 예정이에요! 마음에 듭니다. 👍👍\n",
      "==4==\n",
      "정말좋아하는제품 \n",
      "첫째 자극없이순한제품\n",
      "둘째 시간단축 (출근길 가능 진짜 대박 ㅠㅠ 십분줄임)\n",
      "셋째 손에도 안묻고 넘나편함 ㅠㅠ\n",
      "\n",
      "단점 바르는크림제형보단 가격대가 잇는편 \n",
      "팩트타입이라 그런지 용량이 많지안ㄹ음 금방떨어짐 \n",
      "\n",
      "그래도 넘편햐서 잘쓰구 잇어영 자연스럽고 백탁도앖음\n"
     ]
    }
   ],
   "source": [
    "for i in range(2,5):\n",
    "    print(f'=={i}==')\n",
    "    a = driver.find_element(By.XPATH, f'//*[@id=\"gdasList\"]/li[{i}]/div[2]/div[3]').text\n",
    "    print(a)"
   ]
  },
  {
   "cell_type": "code",
   "execution_count": 38,
   "id": "cd31df9a-f3a5-4fd3-a80d-a54c776677c3",
   "metadata": {},
   "outputs": [
    {
     "data": {
      "text/plain": [
       "'피부타입\\n지성에 좋아요\\n발림성\\n아주 만족해요\\n자극도\\n자극없이 순해요'"
      ]
     },
     "execution_count": 38,
     "metadata": {},
     "output_type": "execute_result"
    }
   ],
   "source": [
    "# driver.find_element(By.XPATH, '//*[@id=\"gdasList\"]/li[1]/div[2]/div[3]').text\n",
    "driver.find_element(By.XPATH, f'//*[@id=\"gdasList\"]/li[1]/div[2]/div[2]').text\n",
    "//*[@id=\"gdasList\"]/li[2]/div[2]/div[2]\n",
    "# //*[@id=\"gdasList\"]/li[2]/div[2]/div[2]/dl[2]/dd/span"
   ]
  },
  {
   "cell_type": "code",
   "execution_count": 11,
   "id": "0ebaa253-412b-4fad-a3fc-90aadd10d109",
   "metadata": {},
   "outputs": [
    {
     "data": {
      "text/plain": [
       "[<selenium.webdriver.remote.webelement.WebElement (session=\"8b2d40bc15f0b99cd37789ba13f26338\", element=\"fd3dc39f-a095-4fee-a97a-beb5e89b820f\")>,\n",
       " <selenium.webdriver.remote.webelement.WebElement (session=\"8b2d40bc15f0b99cd37789ba13f26338\", element=\"4debd471-238a-43e4-9ea0-6defc26183fe\")>,\n",
       " <selenium.webdriver.remote.webelement.WebElement (session=\"8b2d40bc15f0b99cd37789ba13f26338\", element=\"c5c59a46-153d-4e94-b432-3319d4f537ee\")>,\n",
       " <selenium.webdriver.remote.webelement.WebElement (session=\"8b2d40bc15f0b99cd37789ba13f26338\", element=\"115bca72-8745-4460-a29b-80ae0698bb7e\")>,\n",
       " <selenium.webdriver.remote.webelement.WebElement (session=\"8b2d40bc15f0b99cd37789ba13f26338\", element=\"4f2fcbfc-9424-4224-9d1a-38fc6b7b1394\")>,\n",
       " <selenium.webdriver.remote.webelement.WebElement (session=\"8b2d40bc15f0b99cd37789ba13f26338\", element=\"6a9978f7-2b85-4f76-a20d-b7726227391b\")>,\n",
       " <selenium.webdriver.remote.webelement.WebElement (session=\"8b2d40bc15f0b99cd37789ba13f26338\", element=\"cfb86430-fe68-45ef-a129-99fe56af904b\")>,\n",
       " <selenium.webdriver.remote.webelement.WebElement (session=\"8b2d40bc15f0b99cd37789ba13f26338\", element=\"324874e2-44a9-4583-acfa-c9b4e9c61933\")>,\n",
       " <selenium.webdriver.remote.webelement.WebElement (session=\"8b2d40bc15f0b99cd37789ba13f26338\", element=\"b60eafd2-e9fb-40a6-a412-5383b8a31ad8\")>,\n",
       " <selenium.webdriver.remote.webelement.WebElement (session=\"8b2d40bc15f0b99cd37789ba13f26338\", element=\"a6c9dc55-5f43-4d08-ae4d-7f117b272e54\")>]"
      ]
     },
     "execution_count": 11,
     "metadata": {},
     "output_type": "execute_result"
    }
   ],
   "source": [
    "driver.find_elements(By.CLASS_NAME, 'review_cont')"
   ]
  },
  {
   "cell_type": "markdown",
   "id": "ad049e6e-5037-4d7a-af59-576847b08887",
   "metadata": {},
   "source": [
    "## XPATH모음집\n",
    "- 별점 <br>\n",
    "'//*[@id=\"gdasList\"]/li[1]/div[2]/div[1]/span[1]/span'<br>\n",
    "'//*[@id=\"gdasList\"]/li[2]/div[2]/div[1]/span[1]/span'\n",
    "- 키워드<br>\n",
    "0. 전체 \n",
    "'//*[@id=\"gdasList\"]/li[1]/div[2]/div[2]'\n",
    "'//*[@id=\"gdasList\"]/li[2]/div[2]/div[2]'\n",
    "1. 키워드 갯수(토픽 3)<br>\n",
    "'//*[@id=\"gdasList\"]/li[2]/div[2]/div[2]/dl[1]/dd/span'<br>\n",
    "'//*[@id=\"gdasList\"]/li[2]/div[2]/div[2]/dl[2]/dd/span'<br>\n",
    "\n",
    "2. 한명당 키워드<br>\n",
    "'//*[@id=\"gdasList\"]/li[1]/div[2]/div[2]/dl[1]/dd/span'<br>\n",
    "'//*[@id=\"gdasList\"]/li[2]/div[2]/div[2]/dl[1]/dd/span'<br>\n",
    "- 리뷰 <br>\n",
    "'//*[@id=\"gdasList\"]/li[1]/div[2]/div[3]'<br>\n",
    "'//*[@id=\"gdasList\"]/li[2]/div[2]/div[3]'<br>"
   ]
  },
  {
   "cell_type": "code",
   "execution_count": 42,
   "id": "2e217ceb-f704-467f-a9a5-b84018a83687",
   "metadata": {
    "tags": []
   },
   "outputs": [
    {
     "name": "stdout",
     "output_type": "stream",
     "text": [
      "5점만점에 3점\n",
      "['지성에 좋아요', '아주 만족해요', '자극없이 순해요']\n",
      "하,, 저처럼 선쿠션 고민하고 또 고민하는 사람들의 위해, 이런 리뷰 안남기는데 도움되시길 바라며 리뷰남길게요. 좋아요 같은거 안눌러도 되구요 그냥 눈팅으로 읽고 참고해주세요. 리뷰엔 왠만해서 '좋다', '이전꺼보다 아쉬운데 좋다'되어있는데 이거 꼭 보세요 ㅠ\n",
      "\n",
      "➡️ 예민, 속건성 피부타임 \n",
      "\n",
      "☑️구매사유\n",
      "기미 레이저치료 진행중이라 하루에 몇번씩 선크림을 발라야하는데,퇴근할 때 되면 옆머리가 기름짐\n",
      "친구가 셀*젼 선쿠션 쓰는데 빌려써봤더니 편하긴하나 얼굴이 건조해져서 다른제품을 알아봄\n",
      "인생 리무버인 식물나라 탄산수  아이리무버, 폼클렌징때문에 식물나라에 마음이 가던 중  극찬의 리뷰랑 1위했다는 문구보고 구매. \n",
      "다만, 리뷰중에 단종되기 전에 제품이 좋다하던데 그건 써본 적도 없고 구할 수 없어서 리뉴얼된걸 구매하러 매장감\n",
      "\n",
      "복숭아톤은 선쿠션과 우유빛톤 선쿠션 두가지 있음\n",
      "복숭아톤은 비비크림 같이 베이지컬러에 커버력 있어서 몇분 고민함\n",
      "\n",
      "테스트할 때 뽀얀쿠션은 커버력 없었음.\n",
      "아무튼 베이지톤 싫어서 뽀얀쿠션인 우유빛 쿠션 구매를 하고 기대하면서(나름 빨리 발라보고싶어서 설렘) 출근하자마자 아침에 발랐음\n",
      "\n",
      "☑️ 장점\n",
      "진짜 동동뜨는 백탁이 아니라서 너무 만족했고, 수분감도 있어서 촉촉하게 발리고, 식물나라 퍼프도 보들보들하고, 눈 화장이 살짝 묻어서 더러워진 부분 바로 손가락으로 미니까 원상복구되길래 만족. 심지어 피부 민감한데 자극없었음 내 나름 정말 잘샀다고 리필형 기획까지 산 나 자신에게 칭찬해줬음\n",
      "\n",
      "-퍼프 보들보들\n",
      "-발랐을 땐 들뜨는 백탁아님\n",
      "-촉촉함(나중엔 건조)\n",
      "\n",
      "☑️ 단점\n",
      "이런,, 맙소사 \n",
      "이거 2번 펌핑한 후 마스크 착용한 채로2시간 지나니까 얼굴에 발린 선쿠션이 다 밀리고 지워지고 얼룩덜룩해지고, 모공보이고 밀린 자국 다 남고, 코 옆 주름에 다 끼이고 최악이네요,,\n",
      "\n",
      "-커버력X\n",
      "-밀림,끼임,뜨는 현상 다 있음\n",
      "-너무 하얗게 되어 머리 묶을 때 목,뒷목 다 발라야함\n",
      "-하얀 제품이라 마스크에 묻는지는 모르겠지만 마스크 닿이는 부분도 다 밀리고 마스크 안에 안 닿여도 막힌 부분은 다 들뜸현상 끼임현상임. (kf94기준)\n",
      "\n",
      "시도때도 없이 덧바르지만 마스크 벗을 때 계속 리터치해야하고,,,두번 다시 살 일 없을 것 같아요...\n",
      "\n",
      "장점에 비해 제가 극혐하는 단점들이 너무 도드라져서 후..사진도 아이폰11프로 후면카메라로 촬영한 보정없는 사진 업로드할게요., 톤 반반 차이나는거도 확인하세요. 아침에 다 바르면 토시오같고 목은 누렇고 얼굴은 하애서 목 졸린 사람 마냥 ㅎ,,,선택은 알아서 하시길,, 저도 기미부분에 테스트해보고 샀으나 부분 테스트와 실제 내가 구매 후 제품을 온전히 발라보는거랑 달라요\n",
      "5점만점에 5점\n",
      "['지성에 좋아요', '아주 만족해요', '자극없이 순해요']\n",
      "아직도 요거 사용하고 있네요\n",
      "막 하얘지지 않아서 아쉽긴 한데 그래도 그냥저냥 괜찮아요 ㅎㅎ\n"
     ]
    }
   ],
   "source": [
    "\n",
    "for i in range(1,3):\n",
    "    star = driver.find_element(By.XPATH, f'//*[@id=\"gdasList\"]/li[{i}]/div[2]/div[1]/span[1]').text\n",
    "    print(star)\n",
    "    keyword = [driver.find_element(By.XPATH, f'//*[@id=\"gdasList\"]/li[{i}]/div[2]/div[2]/dl[{j}]/dd/span').text for j in range(1,4)]\n",
    "    print(keyword)\n",
    "    rv_text = driver.find_element(By.XPATH, f'//*[@id=\"gdasList\"]/li[{i}]/div[2]/div[3]').text\n",
    "    print(rv_text)\n",
    "    # csv_writer.writerows((star, keyword, rv_text))"
   ]
  },
  {
   "cell_type": "markdown",
   "id": "e4e479e1-e900-476f-a1aa-ce7a6a0274ba",
   "metadata": {},
   "source": [
    "## csv파일로 출력"
   ]
  },
  {
   "cell_type": "code",
   "execution_count": 33,
   "id": "4d65e88c-ae7c-46ff-8531-47c43c91c6ad",
   "metadata": {},
   "outputs": [
    {
     "data": {
      "text/plain": [
       "14"
      ]
     },
     "execution_count": 33,
     "metadata": {},
     "output_type": "execute_result"
    }
   ],
   "source": [
    "# 데이터 저장파일\n",
    "csv_filename = 'test1.csv'\n",
    "csv_open = open(csv_filename, 'w+', encoding = 'utf-8')\n",
    "csv_writer = csv.writer(csv_open)\n",
    "csv_writer.writerow(('star', 'rv_text'))"
   ]
  },
  {
   "cell_type": "code",
   "execution_count": 51,
   "id": "36267a52-7737-4a9c-a781-24e223a6241d",
   "metadata": {},
   "outputs": [
    {
     "name": "stdout",
     "output_type": "stream",
     "text": [
      "5점만점에 3점\n",
      "하,, 저처럼 선쿠션 고민하고 또 고민하는 사람들의 위해, 이런 리뷰 안남기는데 도움되시길 바라며 리뷰남길게요. 좋아요 같은거 안눌러도 되구요 그냥 눈팅으로 읽고 참고해주세요. 리뷰엔 왠만해서 '좋다', '이전꺼보다 아쉬운데 좋다'되어있는데 이거 꼭 보세요 ㅠ\n",
      "\n",
      "➡️ 예민, 속건성 피부타임 \n",
      "\n",
      "☑️구매사유\n",
      "기미 레이저치료 진행중이라 하루에 몇번씩 선크림을 발라야하는데,퇴근할 때 되면 옆머리가 기름짐\n",
      "친구가 셀*젼 선쿠션 쓰는데 빌려써봤더니 편하긴하나 얼굴이 건조해져서 다른제품을 알아봄\n",
      "인생 리무버인 식물나라 탄산수  아이리무버, 폼클렌징때문에 식물나라에 마음이 가던 중  극찬의 리뷰랑 1위했다는 문구보고 구매. \n",
      "다만, 리뷰중에 단종되기 전에 제품이 좋다하던데 그건 써본 적도 없고 구할 수 없어서 리뉴얼된걸 구매하러 매장감\n",
      "\n",
      "복숭아톤은 선쿠션과 우유빛톤 선쿠션 두가지 있음\n",
      "복숭아톤은 비비크림 같이 베이지컬러에 커버력 있어서 몇분 고민함\n",
      "\n",
      "테스트할 때 뽀얀쿠션은 커버력 없었음.\n",
      "아무튼 베이지톤 싫어서 뽀얀쿠션인 우유빛 쿠션 구매를 하고 기대하면서(나름 빨리 발라보고싶어서 설렘) 출근하자마자 아침에 발랐음\n",
      "\n",
      "☑️ 장점\n",
      "진짜 동동뜨는 백탁이 아니라서 너무 만족했고, 수분감도 있어서 촉촉하게 발리고, 식물나라 퍼프도 보들보들하고, 눈 화장이 살짝 묻어서 더러워진 부분 바로 손가락으로 미니까 원상복구되길래 만족. 심지어 피부 민감한데 자극없었음 내 나름 정말 잘샀다고 리필형 기획까지 산 나 자신에게 칭찬해줬음\n",
      "\n",
      "-퍼프 보들보들\n",
      "-발랐을 땐 들뜨는 백탁아님\n",
      "-촉촉함(나중엔 건조)\n",
      "\n",
      "☑️ 단점\n",
      "이런,, 맙소사 \n",
      "이거 2번 펌핑한 후 마스크 착용한 채로2시간 지나니까 얼굴에 발린 선쿠션이 다 밀리고 지워지고 얼룩덜룩해지고, 모공보이고 밀린 자국 다 남고, 코 옆 주름에 다 끼이고 최악이네요,,\n",
      "\n",
      "-커버력X\n",
      "-밀림,끼임,뜨는 현상 다 있음\n",
      "-너무 하얗게 되어 머리 묶을 때 목,뒷목 다 발라야함\n",
      "-하얀 제품이라 마스크에 묻는지는 모르겠지만 마스크 닿이는 부분도 다 밀리고 마스크 안에 안 닿여도 막힌 부분은 다 들뜸현상 끼임현상임. (kf94기준)\n",
      "\n",
      "시도때도 없이 덧바르지만 마스크 벗을 때 계속 리터치해야하고,,,두번 다시 살 일 없을 것 같아요...\n",
      "\n",
      "장점에 비해 제가 극혐하는 단점들이 너무 도드라져서 후..사진도 아이폰11프로 후면카메라로 촬영한 보정없는 사진 업로드할게요., 톤 반반 차이나는거도 확인하세요. 아침에 다 바르면 토시오같고 목은 누렇고 얼굴은 하애서 목 졸린 사람 마냥 ㅎ,,,선택은 알아서 하시길,, 저도 기미부분에 테스트해보고 샀으나 부분 테스트와 실제 내가 구매 후 제품을 온전히 발라보는거랑 달라요\n",
      "5점만점에 5점\n",
      "아직도 요거 사용하고 있네요\n",
      "막 하얘지지 않아서 아쉽긴 한데 그래도 그냥저냥 괜찮아요 ㅎㅎ\n"
     ]
    }
   ],
   "source": [
    "for i in range(1,3):\n",
    "    star = driver.find_element(By.XPATH, f'//*[@id=\"gdasList\"]/li[{i}]/div[2]/div[1]/span[1]').text\n",
    "    print(star)\n",
    "    # keyword = [driver.find_elements(By.XPATH, f'//*[@id=\"gdasList\"]/li[{i}]/div[2]/div[2]/dl[{j}]/dd/span').text for j in range(1,4)]\n",
    "    rv_text = driver.find_element(By.XPATH, f'//*[@id=\"gdasList\"]/li[{i}]/div[2]/div[3]').text\n",
    "    print(rv_text)\n",
    "    csv_writer.writerows((star, rv_text))\n",
    "    "
   ]
  },
  {
   "cell_type": "code",
   "execution_count": 55,
   "id": "908cadcf-a8fd-459d-be11-77f9a2c9fa43",
   "metadata": {},
   "outputs": [],
   "source": [
    "csv_open.close()"
   ]
  },
  {
   "cell_type": "code",
   "execution_count": 50,
   "id": "272e7d56-2d27-4d7d-b1f1-a2574563e35f",
   "metadata": {},
   "outputs": [],
   "source": [
    "# 데이터 저장파일\n",
    "csv_filename = 'test2.csv'\n",
    "csv_open = open(csv_filename, 'w+', encoding = 'utf-8')\n",
    "csv_writer = csv.writer(csv_open)\n",
    "csv_writer.writerows(('star','keyword', 'rv_text'))"
   ]
  },
  {
   "cell_type": "code",
   "execution_count": 53,
   "id": "bfcad2a5-231d-4022-893e-3bd413e6ad6d",
   "metadata": {},
   "outputs": [
    {
     "data": {
      "text/plain": [
       "22"
      ]
     },
     "execution_count": 53,
     "metadata": {},
     "output_type": "execute_result"
    }
   ],
   "source": [
    "# 데이터 저장파일\n",
    "csv_filename = 'test3.csv'\n",
    "csv_open = open(csv_filename, 'w+', encoding = 'utf-8')\n",
    "csv_writer = csv.writer(csv_open)\n",
    "csv_writer.writerow(('star','keyword', 'rv_text'))"
   ]
  },
  {
   "cell_type": "code",
   "execution_count": 54,
   "id": "46d91c82-3710-498c-9aac-20ab756badd5",
   "metadata": {},
   "outputs": [
    {
     "name": "stdout",
     "output_type": "stream",
     "text": [
      "5점만점에 3점\n",
      "하,, 저처럼 선쿠션 고민하고 또 고민하는 사람들의 위해, 이런 리뷰 안남기는데 도움되시길 바라며 리뷰남길게요. 좋아요 같은거 안눌러도 되구요 그냥 눈팅으로 읽고 참고해주세요. 리뷰엔 왠만해서 '좋다', '이전꺼보다 아쉬운데 좋다'되어있는데 이거 꼭 보세요 ㅠ\n",
      "\n",
      "➡️ 예민, 속건성 피부타임 \n",
      "\n",
      "☑️구매사유\n",
      "기미 레이저치료 진행중이라 하루에 몇번씩 선크림을 발라야하는데,퇴근할 때 되면 옆머리가 기름짐\n",
      "친구가 셀*젼 선쿠션 쓰는데 빌려써봤더니 편하긴하나 얼굴이 건조해져서 다른제품을 알아봄\n",
      "인생 리무버인 식물나라 탄산수  아이리무버, 폼클렌징때문에 식물나라에 마음이 가던 중  극찬의 리뷰랑 1위했다는 문구보고 구매. \n",
      "다만, 리뷰중에 단종되기 전에 제품이 좋다하던데 그건 써본 적도 없고 구할 수 없어서 리뉴얼된걸 구매하러 매장감\n",
      "\n",
      "복숭아톤은 선쿠션과 우유빛톤 선쿠션 두가지 있음\n",
      "복숭아톤은 비비크림 같이 베이지컬러에 커버력 있어서 몇분 고민함\n",
      "\n",
      "테스트할 때 뽀얀쿠션은 커버력 없었음.\n",
      "아무튼 베이지톤 싫어서 뽀얀쿠션인 우유빛 쿠션 구매를 하고 기대하면서(나름 빨리 발라보고싶어서 설렘) 출근하자마자 아침에 발랐음\n",
      "\n",
      "☑️ 장점\n",
      "진짜 동동뜨는 백탁이 아니라서 너무 만족했고, 수분감도 있어서 촉촉하게 발리고, 식물나라 퍼프도 보들보들하고, 눈 화장이 살짝 묻어서 더러워진 부분 바로 손가락으로 미니까 원상복구되길래 만족. 심지어 피부 민감한데 자극없었음 내 나름 정말 잘샀다고 리필형 기획까지 산 나 자신에게 칭찬해줬음\n",
      "\n",
      "-퍼프 보들보들\n",
      "-발랐을 땐 들뜨는 백탁아님\n",
      "-촉촉함(나중엔 건조)\n",
      "\n",
      "☑️ 단점\n",
      "이런,, 맙소사 \n",
      "이거 2번 펌핑한 후 마스크 착용한 채로2시간 지나니까 얼굴에 발린 선쿠션이 다 밀리고 지워지고 얼룩덜룩해지고, 모공보이고 밀린 자국 다 남고, 코 옆 주름에 다 끼이고 최악이네요,,\n",
      "\n",
      "-커버력X\n",
      "-밀림,끼임,뜨는 현상 다 있음\n",
      "-너무 하얗게 되어 머리 묶을 때 목,뒷목 다 발라야함\n",
      "-하얀 제품이라 마스크에 묻는지는 모르겠지만 마스크 닿이는 부분도 다 밀리고 마스크 안에 안 닿여도 막힌 부분은 다 들뜸현상 끼임현상임. (kf94기준)\n",
      "\n",
      "시도때도 없이 덧바르지만 마스크 벗을 때 계속 리터치해야하고,,,두번 다시 살 일 없을 것 같아요...\n",
      "\n",
      "장점에 비해 제가 극혐하는 단점들이 너무 도드라져서 후..사진도 아이폰11프로 후면카메라로 촬영한 보정없는 사진 업로드할게요., 톤 반반 차이나는거도 확인하세요. 아침에 다 바르면 토시오같고 목은 누렇고 얼굴은 하애서 목 졸린 사람 마냥 ㅎ,,,선택은 알아서 하시길,, 저도 기미부분에 테스트해보고 샀으나 부분 테스트와 실제 내가 구매 후 제품을 온전히 발라보는거랑 달라요\n",
      "5점만점에 5점\n",
      "아직도 요거 사용하고 있네요\n",
      "막 하얘지지 않아서 아쉽긴 한데 그래도 그냥저냥 괜찮아요 ㅎㅎ\n"
     ]
    }
   ],
   "source": [
    "for i in range(1,3):\n",
    "    star = driver.find_element(By.XPATH, f'//*[@id=\"gdasList\"]/li[{i}]/div[2]/div[1]/span[1]').text\n",
    "    print(star)\n",
    "    # keyword = [driver.find_elements(By.XPATH, f'//*[@id=\"gdasList\"]/li[{i}]/div[2]/div[2]/dl[{j}]/dd/span').text for j in range(1,4)]\n",
    "    rv_text = driver.find_element(By.XPATH, f'//*[@id=\"gdasList\"]/li[{i}]/div[2]/div[3]').text\n",
    "    print(rv_text)\n",
    "    csv_writer.writerow((star, rv_text))\n",
    "    "
   ]
  },
  {
   "cell_type": "code",
   "execution_count": 58,
   "id": "92de18cd-6d5d-49b8-a405-c0d513128c2d",
   "metadata": {},
   "outputs": [
    {
     "data": {
      "text/plain": [
       "22"
      ]
     },
     "execution_count": 58,
     "metadata": {},
     "output_type": "execute_result"
    }
   ],
   "source": [
    "# 데이터 저장파일\n",
    "# 생성 및 설정\n",
    "csv_filename = 'test4.csv'\n",
    "csv_open = open(csv_filename, 'w+', encoding = 'utf-8')\n",
    "csv_writer = csv.writer(csv_open)\n",
    "csv_writer.writerow(('star','keyword', 'rv_text'))"
   ]
  },
  {
   "cell_type": "code",
   "execution_count": 59,
   "id": "0832edf7-a610-4c83-ac92-89b8bdc5a610",
   "metadata": {},
   "outputs": [
    {
     "name": "stdout",
     "output_type": "stream",
     "text": [
      "5점만점에 3점\n",
      "['지성에 좋아요', '아주 만족해요', '자극없이 순해요']\n",
      "하,, 저처럼 선쿠션 고민하고 또 고민하는 사람들의 위해, 이런 리뷰 안남기는데 도움되시길 바라며 리뷰남길게요. 좋아요 같은거 안눌러도 되구요 그냥 눈팅으로 읽고 참고해주세요. 리뷰엔 왠만해서 '좋다', '이전꺼보다 아쉬운데 좋다'되어있는데 이거 꼭 보세요 ㅠ\n",
      "\n",
      "➡️ 예민, 속건성 피부타임 \n",
      "\n",
      "☑️구매사유\n",
      "기미 레이저치료 진행중이라 하루에 몇번씩 선크림을 발라야하는데,퇴근할 때 되면 옆머리가 기름짐\n",
      "친구가 셀*젼 선쿠션 쓰는데 빌려써봤더니 편하긴하나 얼굴이 건조해져서 다른제품을 알아봄\n",
      "인생 리무버인 식물나라 탄산수  아이리무버, 폼클렌징때문에 식물나라에 마음이 가던 중  극찬의 리뷰랑 1위했다는 문구보고 구매. \n",
      "다만, 리뷰중에 단종되기 전에 제품이 좋다하던데 그건 써본 적도 없고 구할 수 없어서 리뉴얼된걸 구매하러 매장감\n",
      "\n",
      "복숭아톤은 선쿠션과 우유빛톤 선쿠션 두가지 있음\n",
      "복숭아톤은 비비크림 같이 베이지컬러에 커버력 있어서 몇분 고민함\n",
      "\n",
      "테스트할 때 뽀얀쿠션은 커버력 없었음.\n",
      "아무튼 베이지톤 싫어서 뽀얀쿠션인 우유빛 쿠션 구매를 하고 기대하면서(나름 빨리 발라보고싶어서 설렘) 출근하자마자 아침에 발랐음\n",
      "\n",
      "☑️ 장점\n",
      "진짜 동동뜨는 백탁이 아니라서 너무 만족했고, 수분감도 있어서 촉촉하게 발리고, 식물나라 퍼프도 보들보들하고, 눈 화장이 살짝 묻어서 더러워진 부분 바로 손가락으로 미니까 원상복구되길래 만족. 심지어 피부 민감한데 자극없었음 내 나름 정말 잘샀다고 리필형 기획까지 산 나 자신에게 칭찬해줬음\n",
      "\n",
      "-퍼프 보들보들\n",
      "-발랐을 땐 들뜨는 백탁아님\n",
      "-촉촉함(나중엔 건조)\n",
      "\n",
      "☑️ 단점\n",
      "이런,, 맙소사 \n",
      "이거 2번 펌핑한 후 마스크 착용한 채로2시간 지나니까 얼굴에 발린 선쿠션이 다 밀리고 지워지고 얼룩덜룩해지고, 모공보이고 밀린 자국 다 남고, 코 옆 주름에 다 끼이고 최악이네요,,\n",
      "\n",
      "-커버력X\n",
      "-밀림,끼임,뜨는 현상 다 있음\n",
      "-너무 하얗게 되어 머리 묶을 때 목,뒷목 다 발라야함\n",
      "-하얀 제품이라 마스크에 묻는지는 모르겠지만 마스크 닿이는 부분도 다 밀리고 마스크 안에 안 닿여도 막힌 부분은 다 들뜸현상 끼임현상임. (kf94기준)\n",
      "\n",
      "시도때도 없이 덧바르지만 마스크 벗을 때 계속 리터치해야하고,,,두번 다시 살 일 없을 것 같아요...\n",
      "\n",
      "장점에 비해 제가 극혐하는 단점들이 너무 도드라져서 후..사진도 아이폰11프로 후면카메라로 촬영한 보정없는 사진 업로드할게요., 톤 반반 차이나는거도 확인하세요. 아침에 다 바르면 토시오같고 목은 누렇고 얼굴은 하애서 목 졸린 사람 마냥 ㅎ,,,선택은 알아서 하시길,, 저도 기미부분에 테스트해보고 샀으나 부분 테스트와 실제 내가 구매 후 제품을 온전히 발라보는거랑 달라요\n",
      "5점만점에 5점\n",
      "['지성에 좋아요', '아주 만족해요', '자극없이 순해요']\n",
      "아직도 요거 사용하고 있네요\n",
      "막 하얘지지 않아서 아쉽긴 한데 그래도 그냥저냥 괜찮아요 ㅎㅎ\n"
     ]
    }
   ],
   "source": [
    "for i in range(1,3):\n",
    "    star = driver.find_element(By.XPATH, f'//*[@id=\"gdasList\"]/li[{i}]/div[2]/div[1]/span[1]').text\n",
    "    print(star)\n",
    "    keyword = [driver.find_element(By.XPATH, f'//*[@id=\"gdasList\"]/li[{i}]/div[2]/div[2]/dl[{j}]/dd/span').text for j in range(1,4)]\n",
    "    print(keyword)\n",
    "    rv_text = driver.find_element(By.XPATH, f'//*[@id=\"gdasList\"]/li[{i}]/div[2]/div[3]').text\n",
    "    print(rv_text)\n",
    "    csv_writer.writerow((star, keyword, rv_text)) # 내용작성\n",
    "    \n",
    "csv_open.close()"
   ]
  },
  {
   "cell_type": "code",
   "execution_count": null,
   "id": "a332dcc4-ac60-43ad-8a83-808d23b30834",
   "metadata": {},
   "outputs": [],
   "source": []
  }
 ],
 "metadata": {
  "kernelspec": {
   "display_name": "Python 3 (ipykernel)",
   "language": "python",
   "name": "python3"
  },
  "language_info": {
   "codemirror_mode": {
    "name": "ipython",
    "version": 3
   },
   "file_extension": ".py",
   "mimetype": "text/x-python",
   "name": "python",
   "nbconvert_exporter": "python",
   "pygments_lexer": "ipython3",
   "version": "3.9.7"
  }
 },
 "nbformat": 4,
 "nbformat_minor": 5
}
