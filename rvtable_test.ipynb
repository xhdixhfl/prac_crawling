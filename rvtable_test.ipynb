{
 "cells": [
  {
   "cell_type": "markdown",
   "id": "887b9948-a5f7-48c9-988b-c9cf8c65b691",
   "metadata": {},
   "source": [
    "# library loading"
   ]
  },
  {
   "cell_type": "code",
   "execution_count": 1,
   "id": "011c4072-408f-44ce-ba5a-39cb088ade27",
   "metadata": {},
   "outputs": [],
   "source": [
    "# 필수 라이브러리 로딩\n",
    "from selenium import webdriver\n",
    "from selenium.webdriver.chrome.service import Service\n",
    "from selenium.webdriver.common.by import By\n",
    "import csv\n",
    "import time"
   ]
  },
  {
   "cell_type": "markdown",
   "id": "2a6456c6-ad45-4e86-af78-35b998182460",
   "metadata": {},
   "source": [
    "# driver setting"
   ]
  },
  {
   "cell_type": "code",
   "execution_count": 2,
   "id": "91e61e89-8c32-47fb-bd07-cab1e8e49f8a",
   "metadata": {},
   "outputs": [],
   "source": [
    "URL = 'https://www.oliveyoung.co.kr/store/main/main.do?oy=0' # 첫화면\n",
    "ops = webdriver.ChromeOptions()\n",
    "ops.add_experimental_option('excludeSwitches', ['enable-logging'])\n",
    "\n",
    "# chromedriver path\n",
    "sv = Service(executable_path= 'C:\\\\Users\\\\admin\\\\Downloads\\\\chroemdriver')\n",
    "driver = webdriver.Chrome(service=sv, options=ops)\n",
    "\n",
    "# 화면 띄우기\n",
    "driver.get(url=URL)"
   ]
  },
  {
   "cell_type": "code",
   "execution_count": 7,
   "id": "2fd0e226-e081-4f94-8dee-9c42bb5ba570",
   "metadata": {},
   "outputs": [],
   "source": [
    "# 화면 주소 정의\n",
    "## 스킨케어\n",
    "a = 'https://www.oliveyoung.co.kr/store/display/getCategoryShop.do?dispCatNo=10000010001'\n",
    "## 마스크팩\n",
    "b = 'https://www.oliveyoung.co.kr/store/display/getCategoryShop.do?dispCatNo=10000010009&gateCd=Drawer'\n",
    "## 클렌징\n",
    "c = 'https://www.oliveyoung.co.kr/store/display/getCategoryShop.do?dispCatNo=10000010010&gateCd=Drawer'\n",
    "## 선케어\n",
    "d = 'https://www.oliveyoung.co.kr/store/display/getCategoryShop.do?dispCatNo=10000010011&gateCd=Drawer'"
   ]
  },
  {
   "cell_type": "markdown",
   "id": "f983c392-ce7a-4093-8753-5faa19dd2936",
   "metadata": {},
   "source": [
    "# 필요한 경로 설정\n",
    "- 목표: 기초케어 부분의 전상품 리뷰 뽑아오기.\n",
    "- 리뷰에는 별점, 키워드, 텍스트가 포함되고, 상품명과 카테고리도 필요하다.\n",
    "\n",
    "-- 페이지 넘기기\n",
    "\n",
    "- //*[@id=\"gdasContentsArea\"]/div/div[7]/a[1]  2페이지\n",
    "- //*[@id=\"gdasContentsArea\"]/div/div[7]/a[2]  3페이지\n",
    "- //*[@id=\"gdasContentsArea\"]/div/div[7]/a[9] 10페이지\n",
    "- //*[@id=\"gdasContentsArea\"]/div/div[7]/a[10] >> 버튼\n",
    "- //*[@id=\"gdasContentsArea\"]/div/div[7]/a[2] 12페이지\n",
    "- //*[@id=\"gdasContentsArea\"]/div/div[7]/a[2] 22페이지\n",
    "- //*[@id=\"Container\"]/div[2]/a[11] 상품선택에서 2째 라인에서 >>버튼\n",
    "- //*[@id=\"gdasContentsArea\"]/div/div[7]/a[11]\n",
    "--> 2페이지부터는 반복인데 1~10페이지의 경우는 페이지가 다르니깐 따로수집하고<br>\n",
    "11 ~ 끝까지는 포문으로 반복하기."
   ]
  },
  {
   "cell_type": "code",
   "execution_count": 4,
   "id": "04427d57-374e-42e0-adf6-91b092d2e628",
   "metadata": {},
   "outputs": [],
   "source": [
    "driver.get(url = 'https://www.oliveyoung.co.kr/store/goods/getGoodsDetail.do?goodsNo=A000000176104&dispCatNo=100000100010008&trackingCd=Cat100000100010008_Small')\n",
    "\n"
   ]
  },
  {
   "cell_type": "code",
   "execution_count": 6,
   "id": "7c1a9883-75b0-4c7f-9832-acfa0e39b43f",
   "metadata": {},
   "outputs": [],
   "source": [
    "driver.find_element(By.XPATH,f'//*[@id=\"reviewInfo\"]/a').click()"
   ]
  },
  {
   "cell_type": "code",
   "execution_count": 8,
   "id": "14547d5c-0fdd-44f3-88be-b6de6b08ce0b",
   "metadata": {},
   "outputs": [],
   "source": [
    "driver.find_element(By.XPATH,f'//*[@id=\"gdasContentsArea\"]/div/div[7]/a[10]').click()\n",
    "\n",
    "# //*[@id=\"gdasContentsArea\"]/div/div[7]/a[1]  2페이지\n",
    "# //*[@id=\"gdasContentsArea\"]/div/div[7]/a[2]  3페이지\n",
    "# //*[@id=\"gdasContentsArea\"]/div/div[7]/a[9] 10페이지\n",
    "# //*[@id=\"gdasContentsArea\"]/div/div[7]/a[10] >> 버튼\n",
    "# //*[@id=\"gdasContentsArea\"]/div/div[7]/a[2] 12페이지.\n",
    "# //*[@id=\"gdasContentsArea\"]/div/div[7]/a[2] 22페이지\n",
    "# //*[@id=\"Container\"]/div[2]/a[11] 상품선택에서 2째 라인에서 >>버튼\n",
    "#//*[@id=\"gdasContentsArea\"]/div/div[7]/a[11]"
   ]
  },
  {
   "cell_type": "code",
   "execution_count": 12,
   "id": "80e3b579-5099-45dc-810b-332c3d54cbdb",
   "metadata": {},
   "outputs": [
    {
     "ename": "NoSuchElementException",
     "evalue": "Message: no such element: Unable to locate element: {\"method\":\"xpath\",\"selector\":\"//*[@id=\"Contents\"]/ul[2]/li[1]/div/a/img\"}\n  (Session info: chrome=109.0.5414.75)\nStacktrace:\nBacktrace:\n\t(No symbol) [0x008B6643]\n\t(No symbol) [0x0084BE21]\n\t(No symbol) [0x0074DA9D]\n\t(No symbol) [0x00781342]\n\t(No symbol) [0x0078147B]\n\t(No symbol) [0x007B8DC2]\n\t(No symbol) [0x0079FDC4]\n\t(No symbol) [0x007B6B09]\n\t(No symbol) [0x0079FB76]\n\t(No symbol) [0x007749C1]\n\t(No symbol) [0x00775E5D]\n\tGetHandleVerifier [0x00B2A142+2497106]\n\tGetHandleVerifier [0x00B585D3+2686691]\n\tGetHandleVerifier [0x00B5BB9C+2700460]\n\tGetHandleVerifier [0x00963B10+635936]\n\t(No symbol) [0x00854A1F]\n\t(No symbol) [0x0085A418]\n\t(No symbol) [0x0085A505]\n\t(No symbol) [0x0086508B]\n\tBaseThreadInitThunk [0x776400F9+25]\n\tRtlGetAppContainerNamedObjectPath [0x779E7BBE+286]\n\tRtlGetAppContainerNamedObjectPath [0x779E7B8E+238]\n",
     "output_type": "error",
     "traceback": [
      "\u001b[1;31m---------------------------------------------------------------------------\u001b[0m",
      "\u001b[1;31mNoSuchElementException\u001b[0m                    Traceback (most recent call last)",
      "\u001b[1;32m~\\AppData\\Local\\Temp/ipykernel_12440/1071571062.py\u001b[0m in \u001b[0;36m<module>\u001b[1;34m\u001b[0m\n\u001b[0;32m      2\u001b[0m \u001b[1;32mfor\u001b[0m \u001b[0ml\u001b[0m \u001b[1;32min\u001b[0m \u001b[0mrange\u001b[0m\u001b[1;33m(\u001b[0m\u001b[1;36m1\u001b[0m\u001b[1;33m,\u001b[0m \u001b[1;36m7\u001b[0m\u001b[1;33m)\u001b[0m\u001b[1;33m:\u001b[0m\u001b[1;33m\u001b[0m\u001b[1;33m\u001b[0m\u001b[0m\n\u001b[0;32m      3\u001b[0m         \u001b[1;32mfor\u001b[0m \u001b[0mj\u001b[0m \u001b[1;32min\u001b[0m \u001b[0mrange\u001b[0m\u001b[1;33m(\u001b[0m\u001b[1;36m1\u001b[0m\u001b[1;33m,\u001b[0m\u001b[1;36m5\u001b[0m\u001b[1;33m)\u001b[0m\u001b[1;33m:\u001b[0m\u001b[1;33m\u001b[0m\u001b[1;33m\u001b[0m\u001b[0m\n\u001b[1;32m----> 4\u001b[1;33m             \u001b[0mdriver\u001b[0m\u001b[1;33m.\u001b[0m\u001b[0mfind_element\u001b[0m\u001b[1;33m(\u001b[0m\u001b[0mBy\u001b[0m\u001b[1;33m.\u001b[0m\u001b[0mXPATH\u001b[0m\u001b[1;33m,\u001b[0m\u001b[1;34mf'//*[@id=\"Contents\"]/ul[{i+1}]/li[{j}]/div/a/img'\u001b[0m\u001b[1;33m)\u001b[0m\u001b[1;33m.\u001b[0m\u001b[0mclick\u001b[0m\u001b[1;33m(\u001b[0m\u001b[1;33m)\u001b[0m\u001b[1;33m\u001b[0m\u001b[1;33m\u001b[0m\u001b[0m\n\u001b[0m\u001b[0;32m      5\u001b[0m             \u001b[0mdriver\u001b[0m\u001b[1;33m.\u001b[0m\u001b[0mfind_element\u001b[0m\u001b[1;33m(\u001b[0m\u001b[0mBy\u001b[0m\u001b[1;33m.\u001b[0m\u001b[0mXPATH\u001b[0m\u001b[1;33m,\u001b[0m\u001b[1;34mf'//*[@id=\"reviewInfo\"]/a'\u001b[0m\u001b[1;33m)\u001b[0m\u001b[1;33m.\u001b[0m\u001b[0mclick\u001b[0m\u001b[1;33m(\u001b[0m\u001b[1;33m)\u001b[0m\u001b[1;33m\u001b[0m\u001b[1;33m\u001b[0m\u001b[0m\n\u001b[0;32m      6\u001b[0m             \u001b[0mtime\u001b[0m\u001b[1;33m.\u001b[0m\u001b[0msleep\u001b[0m\u001b[1;33m(\u001b[0m\u001b[1;36m3\u001b[0m\u001b[1;33m)\u001b[0m\u001b[1;33m\u001b[0m\u001b[1;33m\u001b[0m\u001b[0m\n",
      "\u001b[1;32mC:\\Anaconda3\\lib\\site-packages\\selenium\\webdriver\\remote\\webdriver.py\u001b[0m in \u001b[0;36mfind_element\u001b[1;34m(self, by, value)\u001b[0m\n\u001b[0;32m    859\u001b[0m             \u001b[0mvalue\u001b[0m \u001b[1;33m=\u001b[0m \u001b[1;34m'[name=\"%s\"]'\u001b[0m \u001b[1;33m%\u001b[0m \u001b[0mvalue\u001b[0m\u001b[1;33m\u001b[0m\u001b[1;33m\u001b[0m\u001b[0m\n\u001b[0;32m    860\u001b[0m \u001b[1;33m\u001b[0m\u001b[0m\n\u001b[1;32m--> 861\u001b[1;33m         \u001b[1;32mreturn\u001b[0m \u001b[0mself\u001b[0m\u001b[1;33m.\u001b[0m\u001b[0mexecute\u001b[0m\u001b[1;33m(\u001b[0m\u001b[0mCommand\u001b[0m\u001b[1;33m.\u001b[0m\u001b[0mFIND_ELEMENT\u001b[0m\u001b[1;33m,\u001b[0m \u001b[1;33m{\u001b[0m\u001b[1;34m\"using\"\u001b[0m\u001b[1;33m:\u001b[0m \u001b[0mby\u001b[0m\u001b[1;33m,\u001b[0m \u001b[1;34m\"value\"\u001b[0m\u001b[1;33m:\u001b[0m \u001b[0mvalue\u001b[0m\u001b[1;33m}\u001b[0m\u001b[1;33m)\u001b[0m\u001b[1;33m[\u001b[0m\u001b[1;34m\"value\"\u001b[0m\u001b[1;33m]\u001b[0m\u001b[1;33m\u001b[0m\u001b[1;33m\u001b[0m\u001b[0m\n\u001b[0m\u001b[0;32m    862\u001b[0m \u001b[1;33m\u001b[0m\u001b[0m\n\u001b[0;32m    863\u001b[0m     \u001b[1;32mdef\u001b[0m \u001b[0mfind_elements\u001b[0m\u001b[1;33m(\u001b[0m\u001b[0mself\u001b[0m\u001b[1;33m,\u001b[0m \u001b[0mby\u001b[0m\u001b[1;33m=\u001b[0m\u001b[0mBy\u001b[0m\u001b[1;33m.\u001b[0m\u001b[0mID\u001b[0m\u001b[1;33m,\u001b[0m \u001b[0mvalue\u001b[0m\u001b[1;33m:\u001b[0m \u001b[0mOptional\u001b[0m\u001b[1;33m[\u001b[0m\u001b[0mstr\u001b[0m\u001b[1;33m]\u001b[0m \u001b[1;33m=\u001b[0m \u001b[1;32mNone\u001b[0m\u001b[1;33m)\u001b[0m \u001b[1;33m->\u001b[0m \u001b[0mList\u001b[0m\u001b[1;33m[\u001b[0m\u001b[0mWebElement\u001b[0m\u001b[1;33m]\u001b[0m\u001b[1;33m:\u001b[0m\u001b[1;33m\u001b[0m\u001b[1;33m\u001b[0m\u001b[0m\n",
      "\u001b[1;32mC:\\Anaconda3\\lib\\site-packages\\selenium\\webdriver\\remote\\webdriver.py\u001b[0m in \u001b[0;36mexecute\u001b[1;34m(self, driver_command, params)\u001b[0m\n\u001b[0;32m    442\u001b[0m         \u001b[0mresponse\u001b[0m \u001b[1;33m=\u001b[0m \u001b[0mself\u001b[0m\u001b[1;33m.\u001b[0m\u001b[0mcommand_executor\u001b[0m\u001b[1;33m.\u001b[0m\u001b[0mexecute\u001b[0m\u001b[1;33m(\u001b[0m\u001b[0mdriver_command\u001b[0m\u001b[1;33m,\u001b[0m \u001b[0mparams\u001b[0m\u001b[1;33m)\u001b[0m\u001b[1;33m\u001b[0m\u001b[1;33m\u001b[0m\u001b[0m\n\u001b[0;32m    443\u001b[0m         \u001b[1;32mif\u001b[0m \u001b[0mresponse\u001b[0m\u001b[1;33m:\u001b[0m\u001b[1;33m\u001b[0m\u001b[1;33m\u001b[0m\u001b[0m\n\u001b[1;32m--> 444\u001b[1;33m             \u001b[0mself\u001b[0m\u001b[1;33m.\u001b[0m\u001b[0merror_handler\u001b[0m\u001b[1;33m.\u001b[0m\u001b[0mcheck_response\u001b[0m\u001b[1;33m(\u001b[0m\u001b[0mresponse\u001b[0m\u001b[1;33m)\u001b[0m\u001b[1;33m\u001b[0m\u001b[1;33m\u001b[0m\u001b[0m\n\u001b[0m\u001b[0;32m    445\u001b[0m             \u001b[0mresponse\u001b[0m\u001b[1;33m[\u001b[0m\u001b[1;34m\"value\"\u001b[0m\u001b[1;33m]\u001b[0m \u001b[1;33m=\u001b[0m \u001b[0mself\u001b[0m\u001b[1;33m.\u001b[0m\u001b[0m_unwrap_value\u001b[0m\u001b[1;33m(\u001b[0m\u001b[0mresponse\u001b[0m\u001b[1;33m.\u001b[0m\u001b[0mget\u001b[0m\u001b[1;33m(\u001b[0m\u001b[1;34m\"value\"\u001b[0m\u001b[1;33m,\u001b[0m \u001b[1;32mNone\u001b[0m\u001b[1;33m)\u001b[0m\u001b[1;33m)\u001b[0m\u001b[1;33m\u001b[0m\u001b[1;33m\u001b[0m\u001b[0m\n\u001b[0;32m    446\u001b[0m             \u001b[1;32mreturn\u001b[0m \u001b[0mresponse\u001b[0m\u001b[1;33m\u001b[0m\u001b[1;33m\u001b[0m\u001b[0m\n",
      "\u001b[1;32mC:\\Anaconda3\\lib\\site-packages\\selenium\\webdriver\\remote\\errorhandler.py\u001b[0m in \u001b[0;36mcheck_response\u001b[1;34m(self, response)\u001b[0m\n\u001b[0;32m    247\u001b[0m                 \u001b[0malert_text\u001b[0m \u001b[1;33m=\u001b[0m \u001b[0mvalue\u001b[0m\u001b[1;33m[\u001b[0m\u001b[1;34m\"alert\"\u001b[0m\u001b[1;33m]\u001b[0m\u001b[1;33m.\u001b[0m\u001b[0mget\u001b[0m\u001b[1;33m(\u001b[0m\u001b[1;34m\"text\"\u001b[0m\u001b[1;33m)\u001b[0m\u001b[1;33m\u001b[0m\u001b[1;33m\u001b[0m\u001b[0m\n\u001b[0;32m    248\u001b[0m             \u001b[1;32mraise\u001b[0m \u001b[0mexception_class\u001b[0m\u001b[1;33m(\u001b[0m\u001b[0mmessage\u001b[0m\u001b[1;33m,\u001b[0m \u001b[0mscreen\u001b[0m\u001b[1;33m,\u001b[0m \u001b[0mstacktrace\u001b[0m\u001b[1;33m,\u001b[0m \u001b[0malert_text\u001b[0m\u001b[1;33m)\u001b[0m  \u001b[1;31m# type: ignore[call-arg]  # mypy is not smart enough here\u001b[0m\u001b[1;33m\u001b[0m\u001b[1;33m\u001b[0m\u001b[0m\n\u001b[1;32m--> 249\u001b[1;33m         \u001b[1;32mraise\u001b[0m \u001b[0mexception_class\u001b[0m\u001b[1;33m(\u001b[0m\u001b[0mmessage\u001b[0m\u001b[1;33m,\u001b[0m \u001b[0mscreen\u001b[0m\u001b[1;33m,\u001b[0m \u001b[0mstacktrace\u001b[0m\u001b[1;33m)\u001b[0m\u001b[1;33m\u001b[0m\u001b[1;33m\u001b[0m\u001b[0m\n\u001b[0m",
      "\u001b[1;31mNoSuchElementException\u001b[0m: Message: no such element: Unable to locate element: {\"method\":\"xpath\",\"selector\":\"//*[@id=\"Contents\"]/ul[2]/li[1]/div/a/img\"}\n  (Session info: chrome=109.0.5414.75)\nStacktrace:\nBacktrace:\n\t(No symbol) [0x008B6643]\n\t(No symbol) [0x0084BE21]\n\t(No symbol) [0x0074DA9D]\n\t(No symbol) [0x00781342]\n\t(No symbol) [0x0078147B]\n\t(No symbol) [0x007B8DC2]\n\t(No symbol) [0x0079FDC4]\n\t(No symbol) [0x007B6B09]\n\t(No symbol) [0x0079FB76]\n\t(No symbol) [0x007749C1]\n\t(No symbol) [0x00775E5D]\n\tGetHandleVerifier [0x00B2A142+2497106]\n\tGetHandleVerifier [0x00B585D3+2686691]\n\tGetHandleVerifier [0x00B5BB9C+2700460]\n\tGetHandleVerifier [0x00963B10+635936]\n\t(No symbol) [0x00854A1F]\n\t(No symbol) [0x0085A418]\n\t(No symbol) [0x0085A505]\n\t(No symbol) [0x0086508B]\n\tBaseThreadInitThunk [0x776400F9+25]\n\tRtlGetAppContainerNamedObjectPath [0x779E7BBE+286]\n\tRtlGetAppContainerNamedObjectPath [0x779E7B8E+238]\n"
     ]
    }
   ],
   "source": [
    "# 11페이지 부터\n",
    "for l in range(1, 7):\n",
    "        for j in range(1,5):\n",
    "            driver.find_element(By.XPATH,f'//*[@id=\"Contents\"]/ul[{i+1}]/li[{j}]/div/a/img').click()\n",
    "            driver.find_element(By.XPATH,f'//*[@id=\"reviewInfo\"]/a').click()\n",
    "            time.sleep(3)\n",
    "            try:\n",
    "                driver.find_element(By.XPATH, f'//*[@id=\"gdasContentsArea\"]/div/div[7]/a[10]').click()\n",
    "                time.sleep(2)\n",
    "                for l in range(2,13):\n",
    "                    driver.find_element(By.XPATH, f'//*[@id=\"gdasContentsArea\"]/div/div[7]/a[{l-1}]').click()\n",
    "                    time.sleep(2)\n",
    "                    for n in range(1,11):\n",
    "                        pname = driver.find_element(By.XPATH,'//*[@id=\"Contents\"]/div[2]/div[2]/div/p[2]').text\n",
    "                        rstar = driver.find_element(By.XPATH, f'//*[@id=\"gdasList\"]/li[{n}]/div[2]/div[1]/span[1]/span').text\n",
    "                        keyword = driver.find_element(By.XPATH, f'//*[@id=\"gdasList\"]/li[{n}]/div[2]/div[2]').text\n",
    "                        rtext = driver.find_element(By.XPATH, f'//*[@id=\"gdasList\"]/li[{n}]/div[2]/div[3]').text\n",
    "                        csv_writer.writerow((pname, rstar, keyword,rtext))\n",
    "                        print(f'__{n}__')\n",
    "                        time.sleep(1)\n",
    "            except:\n",
    "                pass\n"
   ]
  },
  {
   "cell_type": "code",
   "execution_count": 13,
   "id": "8b0f9c0b-3a08-4b25-bc3c-e98b0561d658",
   "metadata": {},
   "outputs": [],
   "source": [
    "# 10~ 전체까지.\n",
    "# 어성초 페이지 리뷰칸에서 실시함.\n",
    "try:\n",
    "    # >>버튼 클릭\n",
    "    for l in range(1,11):\n",
    "        driver.find_element(By.XPATH, f'//*[@id=\"gdasContentsArea\"]/div/div[7]/a[{l-1}]').click()\n",
    "        time.sleep(2)\n",
    "        for n in range(1,11):\n",
    "            pname = driver.find_element(By.XPATH,'//*[@id=\"Contents\"]/div[2]/div[2]/div/p[2]').text\n",
    "            rstar = driver.find_element(By.XPATH, f'//*[@id=\"gdasList\"]/li[{n}]/div[2]/div[1]/span[1]/span').text\n",
    "            keyword = driver.find_element(By.XPATH, f'//*[@id=\"gdasList\"]/li[{n}]/div[2]/div[2]').text\n",
    "            rtext = driver.find_element(By.XPATH, f'//*[@id=\"gdasList\"]/li[{n}]/div[2]/div[3]').text\n",
    "            csv_writer.writerow((pname, rstar, keyword,rtext))\n",
    "            print(n, pname)\n",
    "            time.sleep(1)\n",
    "        \n",
    "    driver.find_element(By.XPATH, f'//*[@id=\"gdasContentsArea\"]/div/div[7]/a[10]').click()\n",
    "    time.sleep(2)\n",
    "    for l in range(2,13):\n",
    "        driver.find_element(By.XPATH, f'//*[@id=\"gdasContentsArea\"]/div/div[7]/a[{l-1}]').click()\n",
    "        time.sleep(2)\n",
    "        for n in range(1,11):\n",
    "            pname = driver.find_element(By.XPATH,'//*[@id=\"Contents\"]/div[2]/div[2]/div/p[2]').text\n",
    "            rstar = driver.find_element(By.XPATH, f'//*[@id=\"gdasList\"]/li[{n}]/div[2]/div[1]/span[1]/span').text\n",
    "            keyword = driver.find_element(By.XPATH, f'//*[@id=\"gdasList\"]/li[{n}]/div[2]/div[2]').text\n",
    "            rtext = driver.find_element(By.XPATH, f'//*[@id=\"gdasList\"]/li[{n}]/div[2]/div[3]').text\n",
    "            csv_writer.writerow((pname, rstar, keyword,rtext))\n",
    "            print(n, pname)\n",
    "            time.sleep(1)\n",
    "except:\n",
    "    pass"
   ]
  },
  {
   "cell_type": "code",
   "execution_count": 16,
   "id": "2e945e04-02d3-4ea2-ba0a-46824f509db1",
   "metadata": {},
   "outputs": [
    {
     "name": "stdout",
     "output_type": "stream",
     "text": [
      "1 [2022어워즈]아누아 어성초 77 토너 어워즈 한정 기획 (500ml+250ml)\n",
      "2 [2022어워즈]아누아 어성초 77 토너 어워즈 한정 기획 (500ml+250ml)\n",
      "3 [2022어워즈]아누아 어성초 77 토너 어워즈 한정 기획 (500ml+250ml)\n",
      "4 [2022어워즈]아누아 어성초 77 토너 어워즈 한정 기획 (500ml+250ml)\n",
      "5 [2022어워즈]아누아 어성초 77 토너 어워즈 한정 기획 (500ml+250ml)\n",
      "6 [2022어워즈]아누아 어성초 77 토너 어워즈 한정 기획 (500ml+250ml)\n",
      "7 [2022어워즈]아누아 어성초 77 토너 어워즈 한정 기획 (500ml+250ml)\n",
      "8 [2022어워즈]아누아 어성초 77 토너 어워즈 한정 기획 (500ml+250ml)\n",
      "9 [2022어워즈]아누아 어성초 77 토너 어워즈 한정 기획 (500ml+250ml)\n",
      "10 [2022어워즈]아누아 어성초 77 토너 어워즈 한정 기획 (500ml+250ml)\n",
      "1 [2022어워즈]아누아 어성초 77 토너 어워즈 한정 기획 (500ml+250ml)\n",
      "2 [2022어워즈]아누아 어성초 77 토너 어워즈 한정 기획 (500ml+250ml)\n",
      "3 [2022어워즈]아누아 어성초 77 토너 어워즈 한정 기획 (500ml+250ml)\n",
      "4 [2022어워즈]아누아 어성초 77 토너 어워즈 한정 기획 (500ml+250ml)\n",
      "5 [2022어워즈]아누아 어성초 77 토너 어워즈 한정 기획 (500ml+250ml)\n",
      "6 [2022어워즈]아누아 어성초 77 토너 어워즈 한정 기획 (500ml+250ml)\n",
      "7 [2022어워즈]아누아 어성초 77 토너 어워즈 한정 기획 (500ml+250ml)\n",
      "8 [2022어워즈]아누아 어성초 77 토너 어워즈 한정 기획 (500ml+250ml)\n",
      "9 [2022어워즈]아누아 어성초 77 토너 어워즈 한정 기획 (500ml+250ml)\n",
      "10 [2022어워즈]아누아 어성초 77 토너 어워즈 한정 기획 (500ml+250ml)\n",
      "1 [2022어워즈]아누아 어성초 77 토너 어워즈 한정 기획 (500ml+250ml)\n",
      "2 [2022어워즈]아누아 어성초 77 토너 어워즈 한정 기획 (500ml+250ml)\n",
      "3 [2022어워즈]아누아 어성초 77 토너 어워즈 한정 기획 (500ml+250ml)\n",
      "4 [2022어워즈]아누아 어성초 77 토너 어워즈 한정 기획 (500ml+250ml)\n",
      "5 [2022어워즈]아누아 어성초 77 토너 어워즈 한정 기획 (500ml+250ml)\n",
      "6 [2022어워즈]아누아 어성초 77 토너 어워즈 한정 기획 (500ml+250ml)\n",
      "7 [2022어워즈]아누아 어성초 77 토너 어워즈 한정 기획 (500ml+250ml)\n",
      "8 [2022어워즈]아누아 어성초 77 토너 어워즈 한정 기획 (500ml+250ml)\n",
      "9 [2022어워즈]아누아 어성초 77 토너 어워즈 한정 기획 (500ml+250ml)\n",
      "10 [2022어워즈]아누아 어성초 77 토너 어워즈 한정 기획 (500ml+250ml)\n",
      "1 [2022어워즈]아누아 어성초 77 토너 어워즈 한정 기획 (500ml+250ml)\n",
      "2 [2022어워즈]아누아 어성초 77 토너 어워즈 한정 기획 (500ml+250ml)\n",
      "3 [2022어워즈]아누아 어성초 77 토너 어워즈 한정 기획 (500ml+250ml)\n",
      "4 [2022어워즈]아누아 어성초 77 토너 어워즈 한정 기획 (500ml+250ml)\n",
      "5 [2022어워즈]아누아 어성초 77 토너 어워즈 한정 기획 (500ml+250ml)\n",
      "6 [2022어워즈]아누아 어성초 77 토너 어워즈 한정 기획 (500ml+250ml)\n",
      "7 [2022어워즈]아누아 어성초 77 토너 어워즈 한정 기획 (500ml+250ml)\n",
      "8 [2022어워즈]아누아 어성초 77 토너 어워즈 한정 기획 (500ml+250ml)\n",
      "9 [2022어워즈]아누아 어성초 77 토너 어워즈 한정 기획 (500ml+250ml)\n",
      "10 [2022어워즈]아누아 어성초 77 토너 어워즈 한정 기획 (500ml+250ml)\n",
      "1 [2022어워즈]아누아 어성초 77 토너 어워즈 한정 기획 (500ml+250ml)\n",
      "2 [2022어워즈]아누아 어성초 77 토너 어워즈 한정 기획 (500ml+250ml)\n",
      "3 [2022어워즈]아누아 어성초 77 토너 어워즈 한정 기획 (500ml+250ml)\n",
      "4 [2022어워즈]아누아 어성초 77 토너 어워즈 한정 기획 (500ml+250ml)\n",
      "5 [2022어워즈]아누아 어성초 77 토너 어워즈 한정 기획 (500ml+250ml)\n",
      "6 [2022어워즈]아누아 어성초 77 토너 어워즈 한정 기획 (500ml+250ml)\n",
      "7 [2022어워즈]아누아 어성초 77 토너 어워즈 한정 기획 (500ml+250ml)\n",
      "8 [2022어워즈]아누아 어성초 77 토너 어워즈 한정 기획 (500ml+250ml)\n",
      "9 [2022어워즈]아누아 어성초 77 토너 어워즈 한정 기획 (500ml+250ml)\n",
      "10 [2022어워즈]아누아 어성초 77 토너 어워즈 한정 기획 (500ml+250ml)\n",
      "1 [2022어워즈]아누아 어성초 77 토너 어워즈 한정 기획 (500ml+250ml)\n",
      "2 [2022어워즈]아누아 어성초 77 토너 어워즈 한정 기획 (500ml+250ml)\n",
      "3 [2022어워즈]아누아 어성초 77 토너 어워즈 한정 기획 (500ml+250ml)\n",
      "4 [2022어워즈]아누아 어성초 77 토너 어워즈 한정 기획 (500ml+250ml)\n",
      "5 [2022어워즈]아누아 어성초 77 토너 어워즈 한정 기획 (500ml+250ml)\n",
      "6 [2022어워즈]아누아 어성초 77 토너 어워즈 한정 기획 (500ml+250ml)\n",
      "7 [2022어워즈]아누아 어성초 77 토너 어워즈 한정 기획 (500ml+250ml)\n",
      "8 [2022어워즈]아누아 어성초 77 토너 어워즈 한정 기획 (500ml+250ml)\n",
      "9 [2022어워즈]아누아 어성초 77 토너 어워즈 한정 기획 (500ml+250ml)\n",
      "10 [2022어워즈]아누아 어성초 77 토너 어워즈 한정 기획 (500ml+250ml)\n",
      "1 [2022어워즈]아누아 어성초 77 토너 어워즈 한정 기획 (500ml+250ml)\n",
      "2 [2022어워즈]아누아 어성초 77 토너 어워즈 한정 기획 (500ml+250ml)\n",
      "3 [2022어워즈]아누아 어성초 77 토너 어워즈 한정 기획 (500ml+250ml)\n",
      "4 [2022어워즈]아누아 어성초 77 토너 어워즈 한정 기획 (500ml+250ml)\n",
      "5 [2022어워즈]아누아 어성초 77 토너 어워즈 한정 기획 (500ml+250ml)\n",
      "6 [2022어워즈]아누아 어성초 77 토너 어워즈 한정 기획 (500ml+250ml)\n",
      "7 [2022어워즈]아누아 어성초 77 토너 어워즈 한정 기획 (500ml+250ml)\n",
      "8 [2022어워즈]아누아 어성초 77 토너 어워즈 한정 기획 (500ml+250ml)\n",
      "9 [2022어워즈]아누아 어성초 77 토너 어워즈 한정 기획 (500ml+250ml)\n",
      "10 [2022어워즈]아누아 어성초 77 토너 어워즈 한정 기획 (500ml+250ml)\n",
      "1 [2022어워즈]아누아 어성초 77 토너 어워즈 한정 기획 (500ml+250ml)\n",
      "2 [2022어워즈]아누아 어성초 77 토너 어워즈 한정 기획 (500ml+250ml)\n",
      "3 [2022어워즈]아누아 어성초 77 토너 어워즈 한정 기획 (500ml+250ml)\n",
      "4 [2022어워즈]아누아 어성초 77 토너 어워즈 한정 기획 (500ml+250ml)\n",
      "5 [2022어워즈]아누아 어성초 77 토너 어워즈 한정 기획 (500ml+250ml)\n",
      "6 [2022어워즈]아누아 어성초 77 토너 어워즈 한정 기획 (500ml+250ml)\n",
      "7 [2022어워즈]아누아 어성초 77 토너 어워즈 한정 기획 (500ml+250ml)\n",
      "8 [2022어워즈]아누아 어성초 77 토너 어워즈 한정 기획 (500ml+250ml)\n",
      "9 [2022어워즈]아누아 어성초 77 토너 어워즈 한정 기획 (500ml+250ml)\n",
      "10 [2022어워즈]아누아 어성초 77 토너 어워즈 한정 기획 (500ml+250ml)\n",
      "1 [2022어워즈]아누아 어성초 77 토너 어워즈 한정 기획 (500ml+250ml)\n",
      "2 [2022어워즈]아누아 어성초 77 토너 어워즈 한정 기획 (500ml+250ml)\n",
      "3 [2022어워즈]아누아 어성초 77 토너 어워즈 한정 기획 (500ml+250ml)\n",
      "4 [2022어워즈]아누아 어성초 77 토너 어워즈 한정 기획 (500ml+250ml)\n",
      "5 [2022어워즈]아누아 어성초 77 토너 어워즈 한정 기획 (500ml+250ml)\n",
      "6 [2022어워즈]아누아 어성초 77 토너 어워즈 한정 기획 (500ml+250ml)\n",
      "7 [2022어워즈]아누아 어성초 77 토너 어워즈 한정 기획 (500ml+250ml)\n",
      "8 [2022어워즈]아누아 어성초 77 토너 어워즈 한정 기획 (500ml+250ml)\n",
      "9 [2022어워즈]아누아 어성초 77 토너 어워즈 한정 기획 (500ml+250ml)\n",
      "10 [2022어워즈]아누아 어성초 77 토너 어워즈 한정 기획 (500ml+250ml)\n",
      "1 [2022어워즈]아누아 어성초 77 토너 어워즈 한정 기획 (500ml+250ml)\n",
      "2 [2022어워즈]아누아 어성초 77 토너 어워즈 한정 기획 (500ml+250ml)\n",
      "3 [2022어워즈]아누아 어성초 77 토너 어워즈 한정 기획 (500ml+250ml)\n",
      "4 [2022어워즈]아누아 어성초 77 토너 어워즈 한정 기획 (500ml+250ml)\n",
      "5 [2022어워즈]아누아 어성초 77 토너 어워즈 한정 기획 (500ml+250ml)\n",
      "6 [2022어워즈]아누아 어성초 77 토너 어워즈 한정 기획 (500ml+250ml)\n",
      "7 [2022어워즈]아누아 어성초 77 토너 어워즈 한정 기획 (500ml+250ml)\n",
      "8 [2022어워즈]아누아 어성초 77 토너 어워즈 한정 기획 (500ml+250ml)\n",
      "9 [2022어워즈]아누아 어성초 77 토너 어워즈 한정 기획 (500ml+250ml)\n",
      "10 [2022어워즈]아누아 어성초 77 토너 어워즈 한정 기획 (500ml+250ml)\n",
      "1 [2022어워즈]아누아 어성초 77 토너 어워즈 한정 기획 (500ml+250ml)\n",
      "2 [2022어워즈]아누아 어성초 77 토너 어워즈 한정 기획 (500ml+250ml)\n",
      "3 [2022어워즈]아누아 어성초 77 토너 어워즈 한정 기획 (500ml+250ml)\n",
      "4 [2022어워즈]아누아 어성초 77 토너 어워즈 한정 기획 (500ml+250ml)\n",
      "5 [2022어워즈]아누아 어성초 77 토너 어워즈 한정 기획 (500ml+250ml)\n",
      "6 [2022어워즈]아누아 어성초 77 토너 어워즈 한정 기획 (500ml+250ml)\n",
      "7 [2022어워즈]아누아 어성초 77 토너 어워즈 한정 기획 (500ml+250ml)\n",
      "8 [2022어워즈]아누아 어성초 77 토너 어워즈 한정 기획 (500ml+250ml)\n",
      "9 [2022어워즈]아누아 어성초 77 토너 어워즈 한정 기획 (500ml+250ml)\n",
      "10 [2022어워즈]아누아 어성초 77 토너 어워즈 한정 기획 (500ml+250ml)\n",
      "1 [2022어워즈]아누아 어성초 77 토너 어워즈 한정 기획 (500ml+250ml)\n",
      "2 [2022어워즈]아누아 어성초 77 토너 어워즈 한정 기획 (500ml+250ml)\n",
      "3 [2022어워즈]아누아 어성초 77 토너 어워즈 한정 기획 (500ml+250ml)\n",
      "4 [2022어워즈]아누아 어성초 77 토너 어워즈 한정 기획 (500ml+250ml)\n",
      "5 [2022어워즈]아누아 어성초 77 토너 어워즈 한정 기획 (500ml+250ml)\n",
      "6 [2022어워즈]아누아 어성초 77 토너 어워즈 한정 기획 (500ml+250ml)\n",
      "7 [2022어워즈]아누아 어성초 77 토너 어워즈 한정 기획 (500ml+250ml)\n",
      "8 [2022어워즈]아누아 어성초 77 토너 어워즈 한정 기획 (500ml+250ml)\n",
      "9 [2022어워즈]아누아 어성초 77 토너 어워즈 한정 기획 (500ml+250ml)\n",
      "10 [2022어워즈]아누아 어성초 77 토너 어워즈 한정 기획 (500ml+250ml)\n",
      "1 [2022어워즈]아누아 어성초 77 토너 어워즈 한정 기획 (500ml+250ml)\n",
      "2 [2022어워즈]아누아 어성초 77 토너 어워즈 한정 기획 (500ml+250ml)\n",
      "3 [2022어워즈]아누아 어성초 77 토너 어워즈 한정 기획 (500ml+250ml)\n",
      "4 [2022어워즈]아누아 어성초 77 토너 어워즈 한정 기획 (500ml+250ml)\n",
      "5 [2022어워즈]아누아 어성초 77 토너 어워즈 한정 기획 (500ml+250ml)\n",
      "6 [2022어워즈]아누아 어성초 77 토너 어워즈 한정 기획 (500ml+250ml)\n",
      "7 [2022어워즈]아누아 어성초 77 토너 어워즈 한정 기획 (500ml+250ml)\n",
      "8 [2022어워즈]아누아 어성초 77 토너 어워즈 한정 기획 (500ml+250ml)\n",
      "9 [2022어워즈]아누아 어성초 77 토너 어워즈 한정 기획 (500ml+250ml)\n",
      "10 [2022어워즈]아누아 어성초 77 토너 어워즈 한정 기획 (500ml+250ml)\n",
      "1 [2022어워즈]아누아 어성초 77 토너 어워즈 한정 기획 (500ml+250ml)\n",
      "2 [2022어워즈]아누아 어성초 77 토너 어워즈 한정 기획 (500ml+250ml)\n",
      "3 [2022어워즈]아누아 어성초 77 토너 어워즈 한정 기획 (500ml+250ml)\n",
      "4 [2022어워즈]아누아 어성초 77 토너 어워즈 한정 기획 (500ml+250ml)\n",
      "5 [2022어워즈]아누아 어성초 77 토너 어워즈 한정 기획 (500ml+250ml)\n",
      "6 [2022어워즈]아누아 어성초 77 토너 어워즈 한정 기획 (500ml+250ml)\n",
      "7 [2022어워즈]아누아 어성초 77 토너 어워즈 한정 기획 (500ml+250ml)\n",
      "8 [2022어워즈]아누아 어성초 77 토너 어워즈 한정 기획 (500ml+250ml)\n",
      "9 [2022어워즈]아누아 어성초 77 토너 어워즈 한정 기획 (500ml+250ml)\n",
      "10 [2022어워즈]아누아 어성초 77 토너 어워즈 한정 기획 (500ml+250ml)\n",
      "1 [2022어워즈]아누아 어성초 77 토너 어워즈 한정 기획 (500ml+250ml)\n",
      "2 [2022어워즈]아누아 어성초 77 토너 어워즈 한정 기획 (500ml+250ml)\n",
      "3 [2022어워즈]아누아 어성초 77 토너 어워즈 한정 기획 (500ml+250ml)\n",
      "4 [2022어워즈]아누아 어성초 77 토너 어워즈 한정 기획 (500ml+250ml)\n",
      "5 [2022어워즈]아누아 어성초 77 토너 어워즈 한정 기획 (500ml+250ml)\n",
      "6 [2022어워즈]아누아 어성초 77 토너 어워즈 한정 기획 (500ml+250ml)\n",
      "7 [2022어워즈]아누아 어성초 77 토너 어워즈 한정 기획 (500ml+250ml)\n",
      "8 [2022어워즈]아누아 어성초 77 토너 어워즈 한정 기획 (500ml+250ml)\n",
      "9 [2022어워즈]아누아 어성초 77 토너 어워즈 한정 기획 (500ml+250ml)\n",
      "10 [2022어워즈]아누아 어성초 77 토너 어워즈 한정 기획 (500ml+250ml)\n",
      "1 [2022어워즈]아누아 어성초 77 토너 어워즈 한정 기획 (500ml+250ml)\n",
      "2 [2022어워즈]아누아 어성초 77 토너 어워즈 한정 기획 (500ml+250ml)\n",
      "3 [2022어워즈]아누아 어성초 77 토너 어워즈 한정 기획 (500ml+250ml)\n",
      "4 [2022어워즈]아누아 어성초 77 토너 어워즈 한정 기획 (500ml+250ml)\n",
      "5 [2022어워즈]아누아 어성초 77 토너 어워즈 한정 기획 (500ml+250ml)\n",
      "6 [2022어워즈]아누아 어성초 77 토너 어워즈 한정 기획 (500ml+250ml)\n",
      "7 [2022어워즈]아누아 어성초 77 토너 어워즈 한정 기획 (500ml+250ml)\n",
      "8 [2022어워즈]아누아 어성초 77 토너 어워즈 한정 기획 (500ml+250ml)\n",
      "9 [2022어워즈]아누아 어성초 77 토너 어워즈 한정 기획 (500ml+250ml)\n",
      "10 [2022어워즈]아누아 어성초 77 토너 어워즈 한정 기획 (500ml+250ml)\n",
      "1 [2022어워즈]아누아 어성초 77 토너 어워즈 한정 기획 (500ml+250ml)\n",
      "2 [2022어워즈]아누아 어성초 77 토너 어워즈 한정 기획 (500ml+250ml)\n",
      "3 [2022어워즈]아누아 어성초 77 토너 어워즈 한정 기획 (500ml+250ml)\n",
      "4 [2022어워즈]아누아 어성초 77 토너 어워즈 한정 기획 (500ml+250ml)\n",
      "5 [2022어워즈]아누아 어성초 77 토너 어워즈 한정 기획 (500ml+250ml)\n",
      "6 [2022어워즈]아누아 어성초 77 토너 어워즈 한정 기획 (500ml+250ml)\n",
      "7 [2022어워즈]아누아 어성초 77 토너 어워즈 한정 기획 (500ml+250ml)\n"
     ]
    },
    {
     "ename": "KeyboardInterrupt",
     "evalue": "",
     "output_type": "error",
     "traceback": [
      "\u001b[1;31m---------------------------------------------------------------------------\u001b[0m",
      "\u001b[1;31mKeyboardInterrupt\u001b[0m                         Traceback (most recent call last)",
      "\u001b[1;32m~\\AppData\\Local\\Temp/ipykernel_12440/102650472.py\u001b[0m in \u001b[0;36m<module>\u001b[1;34m\u001b[0m\n\u001b[0;32m     23\u001b[0m         \u001b[1;31m# csv_writer.writerow((pname, rstar, keyword,rtext))\u001b[0m\u001b[1;33m\u001b[0m\u001b[1;33m\u001b[0m\u001b[0m\n\u001b[0;32m     24\u001b[0m         \u001b[0mprint\u001b[0m\u001b[1;33m(\u001b[0m\u001b[0mn\u001b[0m\u001b[1;33m,\u001b[0m \u001b[0mpname\u001b[0m\u001b[1;33m)\u001b[0m\u001b[1;33m\u001b[0m\u001b[1;33m\u001b[0m\u001b[0m\n\u001b[1;32m---> 25\u001b[1;33m         \u001b[0mtime\u001b[0m\u001b[1;33m.\u001b[0m\u001b[0msleep\u001b[0m\u001b[1;33m(\u001b[0m\u001b[1;36m1\u001b[0m\u001b[1;33m)\u001b[0m\u001b[1;33m\u001b[0m\u001b[1;33m\u001b[0m\u001b[0m\n\u001b[0m",
      "\u001b[1;31mKeyboardInterrupt\u001b[0m: "
     ]
    }
   ],
   "source": [
    "for l in range(2,11):\n",
    "    driver.find_element(By.XPATH, f'//*[@id=\"gdasContentsArea\"]/div/div[7]/a[{l-1}]').click()\n",
    "    time.sleep(2)\n",
    "    for n in range(1,11):\n",
    "        pname = driver.find_element(By.XPATH,'//*[@id=\"Contents\"]/div[2]/div[2]/div/p[2]').text\n",
    "        rstar = driver.find_element(By.XPATH, f'//*[@id=\"gdasList\"]/li[{n}]/div[2]/div[1]/span[1]/span').text\n",
    "        keyword = driver.find_element(By.XPATH, f'//*[@id=\"gdasList\"]/li[{n}]/div[2]/div[2]').text\n",
    "        rtext = driver.find_element(By.XPATH, f'//*[@id=\"gdasList\"]/li[{n}]/div[2]/div[3]').text\n",
    "        # csv_writer.writerow((pname, rstar, keyword,rtext))\n",
    "        print(n, pname)\n",
    "        time.sleep(1)\n",
    "        \n",
    "driver.find_element(By.XPATH, f'//*[@id=\"gdasContentsArea\"]/div/div[7]/a[10]').click()\n",
    "time.sleep(2)\n",
    "for l in range(2,13):\n",
    "    driver.find_element(By.XPATH, f'//*[@id=\"gdasContentsArea\"]/div/div[7]/a[{l-1}]').click()\n",
    "    time.sleep(2)\n",
    "    for n in range(1,11):\n",
    "        pname = driver.find_element(By.XPATH,'//*[@id=\"Contents\"]/div[2]/div[2]/div/p[2]').text\n",
    "        rstar = driver.find_element(By.XPATH, f'//*[@id=\"gdasList\"]/li[{n}]/div[2]/div[1]/span[1]/span').text\n",
    "        keyword = driver.find_element(By.XPATH, f'//*[@id=\"gdasList\"]/li[{n}]/div[2]/div[2]').text\n",
    "        rtext = driver.find_element(By.XPATH, f'//*[@id=\"gdasList\"]/li[{n}]/div[2]/div[3]').text\n",
    "        # csv_writer.writerow((pname, rstar, keyword,rtext))\n",
    "        print(n, pname)\n",
    "        time.sleep(1)\n",
    "# 11갔다가 다시 1번대를 반복하는듯.. 그럼 따로따로 해보자"
   ]
  },
  {
   "cell_type": "markdown",
   "id": "83477fe4-1f57-4e55-a3c0-88563d06d055",
   "metadata": {},
   "source": [
    "# 리뷰 여러페이지 가져오기 재시도\n",
    "- 한 상품의 리뷰페이지 안에서 10페이지까지의 내용 가져오기"
   ]
  },
  {
   "cell_type": "code",
   "execution_count": 80,
   "id": "5ab95440-04b8-45d1-bd2b-e875db1ad63e",
   "metadata": {},
   "outputs": [],
   "source": [
    "# 화면창 닫기\n",
    "driver.close()"
   ]
  },
  {
   "cell_type": "code",
   "execution_count": 25,
   "id": "6756e2db-ead7-4b72-934d-b5e294f7c67e",
   "metadata": {},
   "outputs": [],
   "source": [
    "# 화면 띄우기\n",
    "driver = webdriver.Chrome(service=sv, options=ops)\n",
    "driver.get(url=a)"
   ]
  },
  {
   "cell_type": "code",
   "execution_count": 18,
   "id": "d258026b-26ef-4059-a688-3622d757b2d5",
   "metadata": {
    "tags": []
   },
   "outputs": [
    {
     "name": "stdout",
     "output_type": "stream",
     "text": [
      "1 우르오스 스킨로션 200ml\n",
      "2 우르오스 스킨로션 200ml\n",
      "3 우르오스 스킨로션 200ml\n",
      "4 우르오스 스킨로션 200ml\n"
     ]
    },
    {
     "ename": "KeyboardInterrupt",
     "evalue": "",
     "output_type": "error",
     "traceback": [
      "\u001b[1;31m---------------------------------------------------------------------------\u001b[0m",
      "\u001b[1;31mKeyboardInterrupt\u001b[0m                         Traceback (most recent call last)",
      "\u001b[1;32m~\\AppData\\Local\\Temp/ipykernel_6128/1618740116.py\u001b[0m in \u001b[0;36m<module>\u001b[1;34m\u001b[0m\n\u001b[0;32m     19\u001b[0m     \u001b[1;32mfor\u001b[0m \u001b[0ml\u001b[0m \u001b[1;32min\u001b[0m \u001b[0mrange\u001b[0m\u001b[1;33m(\u001b[0m\u001b[1;36m2\u001b[0m\u001b[1;33m,\u001b[0m\u001b[1;36m11\u001b[0m\u001b[1;33m)\u001b[0m\u001b[1;33m:\u001b[0m\u001b[1;33m\u001b[0m\u001b[1;33m\u001b[0m\u001b[0m\n\u001b[0;32m     20\u001b[0m         \u001b[0mdriver\u001b[0m\u001b[1;33m.\u001b[0m\u001b[0mfind_element\u001b[0m\u001b[1;33m(\u001b[0m\u001b[0mBy\u001b[0m\u001b[1;33m.\u001b[0m\u001b[0mXPATH\u001b[0m\u001b[1;33m,\u001b[0m \u001b[1;34mf'//*[@id=\"gdasContentsArea\"]/div/div[7]/a[{l}]'\u001b[0m\u001b[1;33m)\u001b[0m\u001b[1;33m.\u001b[0m\u001b[0mclick\u001b[0m\u001b[1;33m(\u001b[0m\u001b[1;33m)\u001b[0m\u001b[1;33m\u001b[0m\u001b[1;33m\u001b[0m\u001b[0m\n\u001b[1;32m---> 21\u001b[1;33m         \u001b[0mtime\u001b[0m\u001b[1;33m.\u001b[0m\u001b[0msleep\u001b[0m\u001b[1;33m(\u001b[0m\u001b[1;36m2\u001b[0m\u001b[1;33m)\u001b[0m\u001b[1;33m\u001b[0m\u001b[1;33m\u001b[0m\u001b[0m\n\u001b[0m",
      "\u001b[1;31mKeyboardInterrupt\u001b[0m: "
     ]
    }
   ],
   "source": [
    "# 스킨케어_토너 페이지로 이동\n",
    "driver.find_element(By.XPATH, f'//*[@id=\"Contents\"]/div/div[1]/ul/li[1]/a').click()\n",
    "time.sleep(2)\n",
    "# 첫번째 제품 선택\n",
    "driver.find_element(By.XPATH, f'//*[@id=\"Contents\"]/ul[2]/li[{1}]/div/a/img').click()\n",
    "time.sleep(2)\n",
    "# 리뷰칸 선택\n",
    "driver.find_element(By.XPATH, f'//*[@id=\"reviewInfo\"]/a').click()\n",
    "time.sleep(2)\n",
    "# 리뷰 10개 가져오기\n",
    "for n in range(1,11):\n",
    "    pname = driver.find_element(By.XPATH,'//*[@id=\"Contents\"]/div[2]/div[2]/div/p[2]').text\n",
    "    rstar = driver.find_element(By.XPATH, f'//*[@id=\"gdasList\"]/li[{n}]/div[2]/div[1]/span[1]/span').text\n",
    "    keyword = driver.find_element(By.XPATH, f'//*[@id=\"gdasList\"]/li[{n}]/div[2]/div[2]').text\n",
    "    rtext = driver.find_element(By.XPATH, f'//*[@id=\"gdasList\"]/li[{n}]/div[2]/div[3]').text\n",
    "    # csv_writer.writerow((pname, rstar, keyword,rtext))\n",
    "    print(n, pname)\n",
    "    time.sleep(1)       \n",
    "    for l in range(2,11):\n",
    "        driver.find_element(By.XPATH, f'//*[@id=\"gdasContentsArea\"]/div/div[7]/a[{l}]').click()\n",
    "        time.sleep(2)\n",
    "    # 페이지 선택 버튼만 움직임.. 11페이지 넘어가서는 다음 칸이 안눌러진 상태라 계11~20페이지가 반복됨"
   ]
  },
  {
   "cell_type": "code",
   "execution_count": 26,
   "id": "ba70c215-a94e-4312-97de-5e7690699138",
   "metadata": {},
   "outputs": [],
   "source": [
    "# 스킨케어_토너 페이지로 이동\n",
    "driver.find_element(By.XPATH, f'//*[@id=\"Contents\"]/div/div[1]/ul/li[1]/a').click()\n",
    "time.sleep(2)\n",
    "# 첫번째 제품 선택\n",
    "driver.find_element(By.XPATH, f'//*[@id=\"Contents\"]/ul[2]/li[{1}]/div/a/img').click()\n",
    "time.sleep(2)\n",
    "# 리뷰칸 선택\n",
    "driver.find_element(By.XPATH, f'//*[@id=\"reviewInfo\"]/a').click()\n",
    "time.sleep(2)"
   ]
  },
  {
   "cell_type": "code",
   "execution_count": 22,
   "id": "5684370a-cdab-4a80-b95f-f6cac2564607",
   "metadata": {},
   "outputs": [
    {
     "name": "stdout",
     "output_type": "stream",
     "text": [
      "1 우르오스 스킨로션 200ml\n",
      "2 우르오스 스킨로션 200ml\n",
      "3 우르오스 스킨로션 200ml\n",
      "4 우르오스 스킨로션 200ml\n",
      "5 우르오스 스킨로션 200ml\n",
      "6 우르오스 스킨로션 200ml\n",
      "7 우르오스 스킨로션 200ml\n",
      "8 우르오스 스킨로션 200ml\n",
      "9 우르오스 스킨로션 200ml\n",
      "10 우르오스 스킨로션 200ml\n",
      "1 우르오스 스킨로션 200ml\n",
      "2 우르오스 스킨로션 200ml\n",
      "3 우르오스 스킨로션 200ml\n",
      "4 우르오스 스킨로션 200ml\n",
      "5 우르오스 스킨로션 200ml\n",
      "6 우르오스 스킨로션 200ml\n",
      "7 우르오스 스킨로션 200ml\n",
      "8 우르오스 스킨로션 200ml\n",
      "9 우르오스 스킨로션 200ml\n",
      "10 우르오스 스킨로션 200ml\n",
      "1 우르오스 스킨로션 200ml\n",
      "2 우르오스 스킨로션 200ml\n",
      "3 우르오스 스킨로션 200ml\n",
      "4 우르오스 스킨로션 200ml\n",
      "5 우르오스 스킨로션 200ml\n",
      "6 우르오스 스킨로션 200ml\n",
      "7 우르오스 스킨로션 200ml\n",
      "8 우르오스 스킨로션 200ml\n",
      "9 우르오스 스킨로션 200ml\n",
      "10 우르오스 스킨로션 200ml\n",
      "1 우르오스 스킨로션 200ml\n",
      "2 우르오스 스킨로션 200ml\n",
      "3 우르오스 스킨로션 200ml\n",
      "4 우르오스 스킨로션 200ml\n",
      "5 우르오스 스킨로션 200ml\n",
      "6 우르오스 스킨로션 200ml\n",
      "7 우르오스 스킨로션 200ml\n",
      "8 우르오스 스킨로션 200ml\n",
      "9 우르오스 스킨로션 200ml\n",
      "10 우르오스 스킨로션 200ml\n",
      "1 우르오스 스킨로션 200ml\n",
      "2 우르오스 스킨로션 200ml\n",
      "3 우르오스 스킨로션 200ml\n",
      "4 우르오스 스킨로션 200ml\n",
      "5 우르오스 스킨로션 200ml\n",
      "6 우르오스 스킨로션 200ml\n",
      "7 우르오스 스킨로션 200ml\n",
      "8 우르오스 스킨로션 200ml\n",
      "9 우르오스 스킨로션 200ml\n",
      "10 우르오스 스킨로션 200ml\n",
      "1 우르오스 스킨로션 200ml\n",
      "2 우르오스 스킨로션 200ml\n",
      "3 우르오스 스킨로션 200ml\n",
      "4 우르오스 스킨로션 200ml\n",
      "5 우르오스 스킨로션 200ml\n",
      "6 우르오스 스킨로션 200ml\n",
      "7 우르오스 스킨로션 200ml\n",
      "8 우르오스 스킨로션 200ml\n",
      "9 우르오스 스킨로션 200ml\n",
      "10 우르오스 스킨로션 200ml\n",
      "1 우르오스 스킨로션 200ml\n",
      "2 우르오스 스킨로션 200ml\n",
      "3 우르오스 스킨로션 200ml\n",
      "4 우르오스 스킨로션 200ml\n",
      "5 우르오스 스킨로션 200ml\n",
      "6 우르오스 스킨로션 200ml\n",
      "7 우르오스 스킨로션 200ml\n",
      "8 우르오스 스킨로션 200ml\n",
      "9 우르오스 스킨로션 200ml\n",
      "10 우르오스 스킨로션 200ml\n",
      "1 우르오스 스킨로션 200ml\n",
      "2 우르오스 스킨로션 200ml\n",
      "3 우르오스 스킨로션 200ml\n",
      "4 우르오스 스킨로션 200ml\n",
      "5 우르오스 스킨로션 200ml\n",
      "6 우르오스 스킨로션 200ml\n",
      "7 우르오스 스킨로션 200ml\n",
      "8 우르오스 스킨로션 200ml\n",
      "9 우르오스 스킨로션 200ml\n",
      "10 우르오스 스킨로션 200ml\n",
      "1 우르오스 스킨로션 200ml\n",
      "2 우르오스 스킨로션 200ml\n",
      "3 우르오스 스킨로션 200ml\n",
      "4 우르오스 스킨로션 200ml\n",
      "5 우르오스 스킨로션 200ml\n",
      "6 우르오스 스킨로션 200ml\n",
      "7 우르오스 스킨로션 200ml\n",
      "8 우르오스 스킨로션 200ml\n",
      "9 우르오스 스킨로션 200ml\n",
      "10 우르오스 스킨로션 200ml\n"
     ]
    }
   ],
   "source": [
    "# 윗윗코드랑 for문 순서만 바꿔서 실행\n",
    "for l in range(2,11):\n",
    "    driver.find_element(By.XPATH, f'//*[@id=\"gdasContentsArea\"]/div/div[7]/a[{l-1}]').click()\n",
    "    time.sleep(2)\n",
    "    for n in range(1,11):\n",
    "        pname = driver.find_element(By.XPATH,'//*[@id=\"Contents\"]/div[2]/div[2]/div/p[2]').text\n",
    "        rstar = driver.find_element(By.XPATH, f'//*[@id=\"gdasList\"]/li[{n}]/div[2]/div[1]/span[1]/span').text\n",
    "        keyword = driver.find_element(By.XPATH, f'//*[@id=\"gdasList\"]/li[{n}]/div[2]/div[2]').text\n",
    "        rtext = driver.find_element(By.XPATH, f'//*[@id=\"gdasList\"]/li[{n}]/div[2]/div[3]').text\n",
    "        # csv_writer.writerow((pname, rstar, keyword,rtext))\n",
    "        print(n, pname)\n",
    "        time.sleep(1)"
   ]
  },
  {
   "cell_type": "code",
   "execution_count": 27,
   "id": "028c9c04-b990-4a54-bdf3-a78356229eb9",
   "metadata": {},
   "outputs": [
    {
     "name": "stdout",
     "output_type": "stream",
     "text": [
      "1 우르오스 스킨로션 200ml\n",
      "2 우르오스 스킨로션 200ml\n",
      "3 우르오스 스킨로션 200ml\n",
      "4 우르오스 스킨로션 200ml\n",
      "5 우르오스 스킨로션 200ml\n",
      "6 우르오스 스킨로션 200ml\n",
      "7 우르오스 스킨로션 200ml\n",
      "8 우르오스 스킨로션 200ml\n",
      "9 우르오스 스킨로션 200ml\n",
      "10 우르오스 스킨로션 200ml\n",
      "1 우르오스 스킨로션 200ml\n",
      "2 우르오스 스킨로션 200ml\n",
      "3 우르오스 스킨로션 200ml\n",
      "4 우르오스 스킨로션 200ml\n",
      "5 우르오스 스킨로션 200ml\n",
      "6 우르오스 스킨로션 200ml\n",
      "7 우르오스 스킨로션 200ml\n",
      "8 우르오스 스킨로션 200ml\n",
      "9 우르오스 스킨로션 200ml\n",
      "10 우르오스 스킨로션 200ml\n",
      "1 우르오스 스킨로션 200ml\n",
      "2 우르오스 스킨로션 200ml\n",
      "3 우르오스 스킨로션 200ml\n",
      "4 우르오스 스킨로션 200ml\n",
      "5 우르오스 스킨로션 200ml\n",
      "6 우르오스 스킨로션 200ml\n",
      "7 우르오스 스킨로션 200ml\n",
      "8 우르오스 스킨로션 200ml\n",
      "9 우르오스 스킨로션 200ml\n",
      "10 우르오스 스킨로션 200ml\n",
      "1 우르오스 스킨로션 200ml\n",
      "2 우르오스 스킨로션 200ml\n",
      "3 우르오스 스킨로션 200ml\n",
      "4 우르오스 스킨로션 200ml\n",
      "5 우르오스 스킨로션 200ml\n",
      "6 우르오스 스킨로션 200ml\n",
      "7 우르오스 스킨로션 200ml\n",
      "8 우르오스 스킨로션 200ml\n",
      "9 우르오스 스킨로션 200ml\n",
      "10 우르오스 스킨로션 200ml\n",
      "1 우르오스 스킨로션 200ml\n",
      "2 우르오스 스킨로션 200ml\n",
      "3 우르오스 스킨로션 200ml\n",
      "4 우르오스 스킨로션 200ml\n",
      "5 우르오스 스킨로션 200ml\n",
      "6 우르오스 스킨로션 200ml\n",
      "7 우르오스 스킨로션 200ml\n",
      "8 우르오스 스킨로션 200ml\n",
      "9 우르오스 스킨로션 200ml\n",
      "10 우르오스 스킨로션 200ml\n",
      "1 우르오스 스킨로션 200ml\n",
      "2 우르오스 스킨로션 200ml\n",
      "3 우르오스 스킨로션 200ml\n",
      "4 우르오스 스킨로션 200ml\n",
      "5 우르오스 스킨로션 200ml\n",
      "6 우르오스 스킨로션 200ml\n",
      "7 우르오스 스킨로션 200ml\n",
      "8 우르오스 스킨로션 200ml\n",
      "9 우르오스 스킨로션 200ml\n",
      "10 우르오스 스킨로션 200ml\n",
      "1 우르오스 스킨로션 200ml\n",
      "2 우르오스 스킨로션 200ml\n",
      "3 우르오스 스킨로션 200ml\n",
      "4 우르오스 스킨로션 200ml\n",
      "5 우르오스 스킨로션 200ml\n",
      "6 우르오스 스킨로션 200ml\n",
      "7 우르오스 스킨로션 200ml\n",
      "8 우르오스 스킨로션 200ml\n",
      "9 우르오스 스킨로션 200ml\n",
      "10 우르오스 스킨로션 200ml\n",
      "1 우르오스 스킨로션 200ml\n",
      "2 우르오스 스킨로션 200ml\n",
      "3 우르오스 스킨로션 200ml\n",
      "4 우르오스 스킨로션 200ml\n",
      "5 우르오스 스킨로션 200ml\n",
      "6 우르오스 스킨로션 200ml\n",
      "7 우르오스 스킨로션 200ml\n",
      "8 우르오스 스킨로션 200ml\n",
      "9 우르오스 스킨로션 200ml\n",
      "10 우르오스 스킨로션 200ml\n",
      "1 우르오스 스킨로션 200ml\n",
      "2 우르오스 스킨로션 200ml\n",
      "3 우르오스 스킨로션 200ml\n",
      "4 우르오스 스킨로션 200ml\n",
      "5 우르오스 스킨로션 200ml\n",
      "6 우르오스 스킨로션 200ml\n",
      "7 우르오스 스킨로션 200ml\n",
      "8 우르오스 스킨로션 200ml\n",
      "9 우르오스 스킨로션 200ml\n",
      "10 우르오스 스킨로션 200ml\n",
      "1 우르오스 스킨로션 200ml\n",
      "2 우르오스 스킨로션 200ml\n",
      "3 우르오스 스킨로션 200ml\n",
      "4 우르오스 스킨로션 200ml\n",
      "5 우르오스 스킨로션 200ml\n",
      "6 우르오스 스킨로션 200ml\n",
      "7 우르오스 스킨로션 200ml\n",
      "8 우르오스 스킨로션 200ml\n",
      "9 우르오스 스킨로션 200ml\n",
      "10 우르오스 스킨로션 200ml\n"
     ]
    }
   ],
   "source": [
    "# 위랑 같은데 다음페이지로 넘어가는지 확인용(11페이지로)\n",
    "for l in range(2,12): # 여기가 바뀜\n",
    "    driver.find_element(By.XPATH, f'//*[@id=\"gdasContentsArea\"]/div/div[7]/a[{l-1}]').click()\n",
    "    time.sleep(2)\n",
    "    for n in range(1,11):\n",
    "        pname = driver.find_element(By.XPATH,'//*[@id=\"Contents\"]/div[2]/div[2]/div/p[2]').text\n",
    "        rstar = driver.find_element(By.XPATH, f'//*[@id=\"gdasList\"]/li[{n}]/div[2]/div[1]/span[1]/span').text\n",
    "        keyword = driver.find_element(By.XPATH, f'//*[@id=\"gdasList\"]/li[{n}]/div[2]/div[2]').text\n",
    "        rtext = driver.find_element(By.XPATH, f'//*[@id=\"gdasList\"]/li[{n}]/div[2]/div[3]').text\n",
    "        # csv_writer.writerow((pname, rstar, keyword,rtext))\n",
    "        print(n, pname)\n",
    "        time.sleep(1)\n",
    "# 이렇게 하니깐 딱 11페이지까지 읽어옴\n",
    "## 그럼 12페이지부터 끝까지 읽어올수 있을까?"
   ]
  },
  {
   "cell_type": "code",
   "execution_count": 23,
   "id": "b7b39351-f118-422e-b2e3-f00c447147b5",
   "metadata": {},
   "outputs": [],
   "source": [
    "# 상품 페이지 돌리기\n",
    "driver.find_element(By.XPATH, f'//*[@id=\"Container\"]/div[2]/a[1]').click()"
   ]
  },
  {
   "cell_type": "code",
   "execution_count": 28,
   "id": "2cf63440-3cb2-4f89-9237-b3d54c3cb365",
   "metadata": {
    "tags": []
   },
   "outputs": [
    {
     "name": "stdout",
     "output_type": "stream",
     "text": [
      "1 우르오스 스킨로션 200ml\n",
      "2 우르오스 스킨로션 200ml\n",
      "3 우르오스 스킨로션 200ml\n",
      "4 우르오스 스킨로션 200ml\n",
      "5 우르오스 스킨로션 200ml\n",
      "6 우르오스 스킨로션 200ml\n",
      "7 우르오스 스킨로션 200ml\n",
      "8 우르오스 스킨로션 200ml\n",
      "9 우르오스 스킨로션 200ml\n",
      "10 우르오스 스킨로션 200ml\n",
      "1 우르오스 스킨로션 200ml\n",
      "2 우르오스 스킨로션 200ml\n",
      "3 우르오스 스킨로션 200ml\n",
      "4 우르오스 스킨로션 200ml\n",
      "5 우르오스 스킨로션 200ml\n",
      "6 우르오스 스킨로션 200ml\n",
      "7 우르오스 스킨로션 200ml\n",
      "8 우르오스 스킨로션 200ml\n",
      "9 우르오스 스킨로션 200ml\n",
      "10 우르오스 스킨로션 200ml\n",
      "1 우르오스 스킨로션 200ml\n",
      "2 우르오스 스킨로션 200ml\n",
      "3 우르오스 스킨로션 200ml\n",
      "4 우르오스 스킨로션 200ml\n",
      "5 우르오스 스킨로션 200ml\n",
      "6 우르오스 스킨로션 200ml\n",
      "7 우르오스 스킨로션 200ml\n",
      "8 우르오스 스킨로션 200ml\n",
      "9 우르오스 스킨로션 200ml\n",
      "10 우르오스 스킨로션 200ml\n",
      "1 우르오스 스킨로션 200ml\n",
      "2 우르오스 스킨로션 200ml\n",
      "3 우르오스 스킨로션 200ml\n",
      "4 우르오스 스킨로션 200ml\n",
      "5 우르오스 스킨로션 200ml\n",
      "6 우르오스 스킨로션 200ml\n",
      "7 우르오스 스킨로션 200ml\n",
      "8 우르오스 스킨로션 200ml\n",
      "9 우르오스 스킨로션 200ml\n",
      "10 우르오스 스킨로션 200ml\n",
      "1 우르오스 스킨로션 200ml\n",
      "2 우르오스 스킨로션 200ml\n",
      "3 우르오스 스킨로션 200ml\n",
      "4 우르오스 스킨로션 200ml\n",
      "5 우르오스 스킨로션 200ml\n",
      "6 우르오스 스킨로션 200ml\n",
      "7 우르오스 스킨로션 200ml\n",
      "8 우르오스 스킨로션 200ml\n",
      "9 우르오스 스킨로션 200ml\n",
      "10 우르오스 스킨로션 200ml\n",
      "1 우르오스 스킨로션 200ml\n",
      "2 우르오스 스킨로션 200ml\n",
      "3 우르오스 스킨로션 200ml\n",
      "4 우르오스 스킨로션 200ml\n",
      "5 우르오스 스킨로션 200ml\n",
      "6 우르오스 스킨로션 200ml\n",
      "7 우르오스 스킨로션 200ml\n",
      "8 우르오스 스킨로션 200ml\n",
      "9 우르오스 스킨로션 200ml\n",
      "10 우르오스 스킨로션 200ml\n",
      "1 우르오스 스킨로션 200ml\n",
      "2 우르오스 스킨로션 200ml\n",
      "3 우르오스 스킨로션 200ml\n",
      "4 우르오스 스킨로션 200ml\n",
      "5 우르오스 스킨로션 200ml\n",
      "6 우르오스 스킨로션 200ml\n",
      "7 우르오스 스킨로션 200ml\n",
      "8 우르오스 스킨로션 200ml\n",
      "9 우르오스 스킨로션 200ml\n",
      "10 우르오스 스킨로션 200ml\n",
      "1 우르오스 스킨로션 200ml\n",
      "2 우르오스 스킨로션 200ml\n",
      "3 우르오스 스킨로션 200ml\n",
      "4 우르오스 스킨로션 200ml\n",
      "5 우르오스 스킨로션 200ml\n",
      "6 우르오스 스킨로션 200ml\n",
      "7 우르오스 스킨로션 200ml\n",
      "8 우르오스 스킨로션 200ml\n",
      "9 우르오스 스킨로션 200ml\n",
      "10 우르오스 스킨로션 200ml\n",
      "1 우르오스 스킨로션 200ml\n",
      "2 우르오스 스킨로션 200ml\n",
      "3 우르오스 스킨로션 200ml\n",
      "4 우르오스 스킨로션 200ml\n",
      "5 우르오스 스킨로션 200ml\n",
      "6 우르오스 스킨로션 200ml\n",
      "7 우르오스 스킨로션 200ml\n",
      "8 우르오스 스킨로션 200ml\n",
      "9 우르오스 스킨로션 200ml\n",
      "10 우르오스 스킨로션 200ml\n"
     ]
    }
   ],
   "source": [
    "# 12페이지 부터~~\n",
    "for l in range(2,11):\n",
    "    driver.find_element(By.XPATH, f'//*[@id=\"gdasContentsArea\"]/div/div[7]/a[{l}]').click()\n",
    "    time.sleep(2)\n",
    "    for n in range(1,11):\n",
    "        pname = driver.find_element(By.XPATH,'//*[@id=\"Contents\"]/div[2]/div[2]/div/p[2]').text\n",
    "        rstar = driver.find_element(By.XPATH, f'//*[@id=\"gdasList\"]/li[{n}]/div[2]/div[1]/span[1]/span').text\n",
    "        keyword = driver.find_element(By.XPATH, f'//*[@id=\"gdasList\"]/li[{n}]/div[2]/div[2]').text\n",
    "        rtext = driver.find_element(By.XPATH, f'//*[@id=\"gdasList\"]/li[{n}]/div[2]/div[3]').text\n",
    "        # csv_writer.writerow((pname, rstar, keyword,rtext))\n",
    "        print(n, pname)\n",
    "        time.sleep(1)\n",
    "# 페이지 미스로 20까지 실행됨"
   ]
  },
  {
   "cell_type": "code",
   "execution_count": 32,
   "id": "8f3a48b0-aff5-4282-aa45-a54db44b8aaf",
   "metadata": {},
   "outputs": [
    {
     "name": "stdout",
     "output_type": "stream",
     "text": [
      "1 우르오스 스킨로션 200ml\n",
      "2 우르오스 스킨로션 200ml\n",
      "3 우르오스 스킨로션 200ml\n",
      "4 우르오스 스킨로션 200ml\n",
      "5 우르오스 스킨로션 200ml\n",
      "6 우르오스 스킨로션 200ml\n",
      "7 우르오스 스킨로션 200ml\n",
      "8 우르오스 스킨로션 200ml\n",
      "9 우르오스 스킨로션 200ml\n",
      "10 우르오스 스킨로션 200ml\n",
      "1 우르오스 스킨로션 200ml\n",
      "2 우르오스 스킨로션 200ml\n",
      "3 우르오스 스킨로션 200ml\n",
      "4 우르오스 스킨로션 200ml\n",
      "5 우르오스 스킨로션 200ml\n",
      "6 우르오스 스킨로션 200ml\n",
      "7 우르오스 스킨로션 200ml\n",
      "8 우르오스 스킨로션 200ml\n",
      "9 우르오스 스킨로션 200ml\n",
      "10 우르오스 스킨로션 200ml\n",
      "1 우르오스 스킨로션 200ml\n",
      "2 우르오스 스킨로션 200ml\n",
      "3 우르오스 스킨로션 200ml\n",
      "4 우르오스 스킨로션 200ml\n",
      "5 우르오스 스킨로션 200ml\n",
      "6 우르오스 스킨로션 200ml\n",
      "7 우르오스 스킨로션 200ml\n",
      "8 우르오스 스킨로션 200ml\n",
      "9 우르오스 스킨로션 200ml\n",
      "10 우르오스 스킨로션 200ml\n",
      "1 우르오스 스킨로션 200ml\n",
      "2 우르오스 스킨로션 200ml\n",
      "3 우르오스 스킨로션 200ml\n"
     ]
    },
    {
     "ename": "NoSuchElementException",
     "evalue": "Message: no such element: Unable to locate element: {\"method\":\"xpath\",\"selector\":\"//*[@id=\"gdasList\"]/li[4]/div[2]/div[3]\"}\n  (Session info: chrome=109.0.5414.75)\nStacktrace:\nBacktrace:\n\t(No symbol) [0x00276643]\n\t(No symbol) [0x0020BE21]\n\t(No symbol) [0x0010DA9D]\n\t(No symbol) [0x00141342]\n\t(No symbol) [0x0014147B]\n\t(No symbol) [0x00178DC2]\n\t(No symbol) [0x0015FDC4]\n\t(No symbol) [0x00176B09]\n\t(No symbol) [0x0015FB76]\n\t(No symbol) [0x001349C1]\n\t(No symbol) [0x00135E5D]\n\tGetHandleVerifier [0x004EA142+2497106]\n\tGetHandleVerifier [0x005185D3+2686691]\n\tGetHandleVerifier [0x0051BB9C+2700460]\n\tGetHandleVerifier [0x00323B10+635936]\n\t(No symbol) [0x00214A1F]\n\t(No symbol) [0x0021A418]\n\t(No symbol) [0x0021A505]\n\t(No symbol) [0x0022508B]\n\tBaseThreadInitThunk [0x776400F9+25]\n\tRtlGetAppContainerNamedObjectPath [0x779E7BBE+286]\n\tRtlGetAppContainerNamedObjectPath [0x779E7B8E+238]\n\t(No symbol) [0x00000000]\n",
     "output_type": "error",
     "traceback": [
      "\u001b[1;31m---------------------------------------------------------------------------\u001b[0m",
      "\u001b[1;31mNoSuchElementException\u001b[0m                    Traceback (most recent call last)",
      "\u001b[1;32m~\\AppData\\Local\\Temp/ipykernel_6128/1028967618.py\u001b[0m in \u001b[0;36m<module>\u001b[1;34m\u001b[0m\n\u001b[0;32m      9\u001b[0m         \u001b[0mrstar\u001b[0m \u001b[1;33m=\u001b[0m \u001b[0mdriver\u001b[0m\u001b[1;33m.\u001b[0m\u001b[0mfind_element\u001b[0m\u001b[1;33m(\u001b[0m\u001b[0mBy\u001b[0m\u001b[1;33m.\u001b[0m\u001b[0mXPATH\u001b[0m\u001b[1;33m,\u001b[0m \u001b[1;34mf'//*[@id=\"gdasList\"]/li[{n}]/div[2]/div[1]/span[1]/span'\u001b[0m\u001b[1;33m)\u001b[0m\u001b[1;33m.\u001b[0m\u001b[0mtext\u001b[0m\u001b[1;33m\u001b[0m\u001b[1;33m\u001b[0m\u001b[0m\n\u001b[0;32m     10\u001b[0m         \u001b[0mkeyword\u001b[0m \u001b[1;33m=\u001b[0m \u001b[0mdriver\u001b[0m\u001b[1;33m.\u001b[0m\u001b[0mfind_element\u001b[0m\u001b[1;33m(\u001b[0m\u001b[0mBy\u001b[0m\u001b[1;33m.\u001b[0m\u001b[0mXPATH\u001b[0m\u001b[1;33m,\u001b[0m \u001b[1;34mf'//*[@id=\"gdasList\"]/li[{n}]/div[2]/div[2]'\u001b[0m\u001b[1;33m)\u001b[0m\u001b[1;33m.\u001b[0m\u001b[0mtext\u001b[0m\u001b[1;33m\u001b[0m\u001b[1;33m\u001b[0m\u001b[0m\n\u001b[1;32m---> 11\u001b[1;33m         \u001b[0mrtext\u001b[0m \u001b[1;33m=\u001b[0m \u001b[0mdriver\u001b[0m\u001b[1;33m.\u001b[0m\u001b[0mfind_element\u001b[0m\u001b[1;33m(\u001b[0m\u001b[0mBy\u001b[0m\u001b[1;33m.\u001b[0m\u001b[0mXPATH\u001b[0m\u001b[1;33m,\u001b[0m \u001b[1;34mf'//*[@id=\"gdasList\"]/li[{n}]/div[2]/div[3]'\u001b[0m\u001b[1;33m)\u001b[0m\u001b[1;33m.\u001b[0m\u001b[0mtext\u001b[0m\u001b[1;33m\u001b[0m\u001b[1;33m\u001b[0m\u001b[0m\n\u001b[0m\u001b[0;32m     12\u001b[0m         \u001b[1;31m# csv_writer.writerow((pname, rstar, keyword,rtext))\u001b[0m\u001b[1;33m\u001b[0m\u001b[1;33m\u001b[0m\u001b[0m\n\u001b[0;32m     13\u001b[0m         \u001b[0mprint\u001b[0m\u001b[1;33m(\u001b[0m\u001b[0mn\u001b[0m\u001b[1;33m,\u001b[0m \u001b[0mpname\u001b[0m\u001b[1;33m)\u001b[0m\u001b[1;33m\u001b[0m\u001b[1;33m\u001b[0m\u001b[0m\n",
      "\u001b[1;32mC:\\Anaconda3\\lib\\site-packages\\selenium\\webdriver\\remote\\webdriver.py\u001b[0m in \u001b[0;36mfind_element\u001b[1;34m(self, by, value)\u001b[0m\n\u001b[0;32m    859\u001b[0m             \u001b[0mvalue\u001b[0m \u001b[1;33m=\u001b[0m \u001b[1;34m'[name=\"%s\"]'\u001b[0m \u001b[1;33m%\u001b[0m \u001b[0mvalue\u001b[0m\u001b[1;33m\u001b[0m\u001b[1;33m\u001b[0m\u001b[0m\n\u001b[0;32m    860\u001b[0m \u001b[1;33m\u001b[0m\u001b[0m\n\u001b[1;32m--> 861\u001b[1;33m         \u001b[1;32mreturn\u001b[0m \u001b[0mself\u001b[0m\u001b[1;33m.\u001b[0m\u001b[0mexecute\u001b[0m\u001b[1;33m(\u001b[0m\u001b[0mCommand\u001b[0m\u001b[1;33m.\u001b[0m\u001b[0mFIND_ELEMENT\u001b[0m\u001b[1;33m,\u001b[0m \u001b[1;33m{\u001b[0m\u001b[1;34m\"using\"\u001b[0m\u001b[1;33m:\u001b[0m \u001b[0mby\u001b[0m\u001b[1;33m,\u001b[0m \u001b[1;34m\"value\"\u001b[0m\u001b[1;33m:\u001b[0m \u001b[0mvalue\u001b[0m\u001b[1;33m}\u001b[0m\u001b[1;33m)\u001b[0m\u001b[1;33m[\u001b[0m\u001b[1;34m\"value\"\u001b[0m\u001b[1;33m]\u001b[0m\u001b[1;33m\u001b[0m\u001b[1;33m\u001b[0m\u001b[0m\n\u001b[0m\u001b[0;32m    862\u001b[0m \u001b[1;33m\u001b[0m\u001b[0m\n\u001b[0;32m    863\u001b[0m     \u001b[1;32mdef\u001b[0m \u001b[0mfind_elements\u001b[0m\u001b[1;33m(\u001b[0m\u001b[0mself\u001b[0m\u001b[1;33m,\u001b[0m \u001b[0mby\u001b[0m\u001b[1;33m=\u001b[0m\u001b[0mBy\u001b[0m\u001b[1;33m.\u001b[0m\u001b[0mID\u001b[0m\u001b[1;33m,\u001b[0m \u001b[0mvalue\u001b[0m\u001b[1;33m:\u001b[0m \u001b[0mOptional\u001b[0m\u001b[1;33m[\u001b[0m\u001b[0mstr\u001b[0m\u001b[1;33m]\u001b[0m \u001b[1;33m=\u001b[0m \u001b[1;32mNone\u001b[0m\u001b[1;33m)\u001b[0m \u001b[1;33m->\u001b[0m \u001b[0mList\u001b[0m\u001b[1;33m[\u001b[0m\u001b[0mWebElement\u001b[0m\u001b[1;33m]\u001b[0m\u001b[1;33m:\u001b[0m\u001b[1;33m\u001b[0m\u001b[1;33m\u001b[0m\u001b[0m\n",
      "\u001b[1;32mC:\\Anaconda3\\lib\\site-packages\\selenium\\webdriver\\remote\\webdriver.py\u001b[0m in \u001b[0;36mexecute\u001b[1;34m(self, driver_command, params)\u001b[0m\n\u001b[0;32m    442\u001b[0m         \u001b[0mresponse\u001b[0m \u001b[1;33m=\u001b[0m \u001b[0mself\u001b[0m\u001b[1;33m.\u001b[0m\u001b[0mcommand_executor\u001b[0m\u001b[1;33m.\u001b[0m\u001b[0mexecute\u001b[0m\u001b[1;33m(\u001b[0m\u001b[0mdriver_command\u001b[0m\u001b[1;33m,\u001b[0m \u001b[0mparams\u001b[0m\u001b[1;33m)\u001b[0m\u001b[1;33m\u001b[0m\u001b[1;33m\u001b[0m\u001b[0m\n\u001b[0;32m    443\u001b[0m         \u001b[1;32mif\u001b[0m \u001b[0mresponse\u001b[0m\u001b[1;33m:\u001b[0m\u001b[1;33m\u001b[0m\u001b[1;33m\u001b[0m\u001b[0m\n\u001b[1;32m--> 444\u001b[1;33m             \u001b[0mself\u001b[0m\u001b[1;33m.\u001b[0m\u001b[0merror_handler\u001b[0m\u001b[1;33m.\u001b[0m\u001b[0mcheck_response\u001b[0m\u001b[1;33m(\u001b[0m\u001b[0mresponse\u001b[0m\u001b[1;33m)\u001b[0m\u001b[1;33m\u001b[0m\u001b[1;33m\u001b[0m\u001b[0m\n\u001b[0m\u001b[0;32m    445\u001b[0m             \u001b[0mresponse\u001b[0m\u001b[1;33m[\u001b[0m\u001b[1;34m\"value\"\u001b[0m\u001b[1;33m]\u001b[0m \u001b[1;33m=\u001b[0m \u001b[0mself\u001b[0m\u001b[1;33m.\u001b[0m\u001b[0m_unwrap_value\u001b[0m\u001b[1;33m(\u001b[0m\u001b[0mresponse\u001b[0m\u001b[1;33m.\u001b[0m\u001b[0mget\u001b[0m\u001b[1;33m(\u001b[0m\u001b[1;34m\"value\"\u001b[0m\u001b[1;33m,\u001b[0m \u001b[1;32mNone\u001b[0m\u001b[1;33m)\u001b[0m\u001b[1;33m)\u001b[0m\u001b[1;33m\u001b[0m\u001b[1;33m\u001b[0m\u001b[0m\n\u001b[0;32m    446\u001b[0m             \u001b[1;32mreturn\u001b[0m \u001b[0mresponse\u001b[0m\u001b[1;33m\u001b[0m\u001b[1;33m\u001b[0m\u001b[0m\n",
      "\u001b[1;32mC:\\Anaconda3\\lib\\site-packages\\selenium\\webdriver\\remote\\errorhandler.py\u001b[0m in \u001b[0;36mcheck_response\u001b[1;34m(self, response)\u001b[0m\n\u001b[0;32m    247\u001b[0m                 \u001b[0malert_text\u001b[0m \u001b[1;33m=\u001b[0m \u001b[0mvalue\u001b[0m\u001b[1;33m[\u001b[0m\u001b[1;34m\"alert\"\u001b[0m\u001b[1;33m]\u001b[0m\u001b[1;33m.\u001b[0m\u001b[0mget\u001b[0m\u001b[1;33m(\u001b[0m\u001b[1;34m\"text\"\u001b[0m\u001b[1;33m)\u001b[0m\u001b[1;33m\u001b[0m\u001b[1;33m\u001b[0m\u001b[0m\n\u001b[0;32m    248\u001b[0m             \u001b[1;32mraise\u001b[0m \u001b[0mexception_class\u001b[0m\u001b[1;33m(\u001b[0m\u001b[0mmessage\u001b[0m\u001b[1;33m,\u001b[0m \u001b[0mscreen\u001b[0m\u001b[1;33m,\u001b[0m \u001b[0mstacktrace\u001b[0m\u001b[1;33m,\u001b[0m \u001b[0malert_text\u001b[0m\u001b[1;33m)\u001b[0m  \u001b[1;31m# type: ignore[call-arg]  # mypy is not smart enough here\u001b[0m\u001b[1;33m\u001b[0m\u001b[1;33m\u001b[0m\u001b[0m\n\u001b[1;32m--> 249\u001b[1;33m         \u001b[1;32mraise\u001b[0m \u001b[0mexception_class\u001b[0m\u001b[1;33m(\u001b[0m\u001b[0mmessage\u001b[0m\u001b[1;33m,\u001b[0m \u001b[0mscreen\u001b[0m\u001b[1;33m,\u001b[0m \u001b[0mstacktrace\u001b[0m\u001b[1;33m)\u001b[0m\u001b[1;33m\u001b[0m\u001b[1;33m\u001b[0m\u001b[0m\n\u001b[0m",
      "\u001b[1;31mNoSuchElementException\u001b[0m: Message: no such element: Unable to locate element: {\"method\":\"xpath\",\"selector\":\"//*[@id=\"gdasList\"]/li[4]/div[2]/div[3]\"}\n  (Session info: chrome=109.0.5414.75)\nStacktrace:\nBacktrace:\n\t(No symbol) [0x00276643]\n\t(No symbol) [0x0020BE21]\n\t(No symbol) [0x0010DA9D]\n\t(No symbol) [0x00141342]\n\t(No symbol) [0x0014147B]\n\t(No symbol) [0x00178DC2]\n\t(No symbol) [0x0015FDC4]\n\t(No symbol) [0x00176B09]\n\t(No symbol) [0x0015FB76]\n\t(No symbol) [0x001349C1]\n\t(No symbol) [0x00135E5D]\n\tGetHandleVerifier [0x004EA142+2497106]\n\tGetHandleVerifier [0x005185D3+2686691]\n\tGetHandleVerifier [0x0051BB9C+2700460]\n\tGetHandleVerifier [0x00323B10+635936]\n\t(No symbol) [0x00214A1F]\n\t(No symbol) [0x0021A418]\n\t(No symbol) [0x0021A505]\n\t(No symbol) [0x0022508B]\n\tBaseThreadInitThunk [0x776400F9+25]\n\tRtlGetAppContainerNamedObjectPath [0x779E7BBE+286]\n\tRtlGetAppContainerNamedObjectPath [0x779E7B8E+238]\n\t(No symbol) [0x00000000]\n"
     ]
    }
   ],
   "source": [
    "driver.find_element(By.XPATH, f'//*[@id=\"gdasContentsArea\"]/div/div[7]/a[{11}]').click()\n",
    "time.sleep(2)\n",
    "# 다시 >>까지 넘어가는지 test\n",
    "for l in range(2,12): # 페이지 계산 제대로!!\n",
    "    driver.find_element(By.XPATH, f'//*[@id=\"gdasContentsArea\"]/div/div[7]/a[{l}]').click()\n",
    "    time.sleep(2)\n",
    "    for n in range(1,11):\n",
    "        pname = driver.find_element(By.XPATH,'//*[@id=\"Contents\"]/div[2]/div[2]/div/p[2]').text\n",
    "        rstar = driver.find_element(By.XPATH, f'//*[@id=\"gdasList\"]/li[{n}]/div[2]/div[1]/span[1]/span').text\n",
    "        keyword = driver.find_element(By.XPATH, f'//*[@id=\"gdasList\"]/li[{n}]/div[2]/div[2]').text\n",
    "        rtext = driver.find_element(By.XPATH, f'//*[@id=\"gdasList\"]/li[{n}]/div[2]/div[3]').text\n",
    "        # csv_writer.writerow((pname, rstar, keyword,rtext))\n",
    "        print(n, pname)\n",
    "        time.sleep(2)"
   ]
  },
  {
   "cell_type": "code",
   "execution_count": 30,
   "id": "0d57f71d-08f1-4dad-9a8e-30352c792ddf",
   "metadata": {},
   "outputs": [],
   "source": [
    "driver.back()"
   ]
  },
  {
   "cell_type": "code",
   "execution_count": 33,
   "id": "f59e9235-0336-4194-b390-e63ad2b40f94",
   "metadata": {},
   "outputs": [
    {
     "data": {
      "text/plain": [
       "'우선  아버지가 쓰시던 화장품이 많이 안좋아서 고민을 했습니다\\n피부에 괜찮은게 어떤걸  써야하나 알아보던중 주위에서 우르오스가 제일 좋다고 말해서 구입하게되었어요\\n지금 1주일째 쓰고 계신데  아버지가 좋다고 하시네요\\n감사합니다'"
      ]
     },
     "execution_count": 33,
     "metadata": {},
     "output_type": "execute_result"
    }
   ],
   "source": [
    "# 키워드 없는 리뷰\n",
    "# star //*[@id=\"gdasList\"]/li[1]/div[2]/div[1]/span[1]/span\n",
    "# text //*[@id=\"gdasList\"]/li[1]/div[2]/div[2]\n",
    "\n",
    "driver.find_element(By.XPATH, '//*[@id=\"gdasList\"]/li[1]/div[2]/div[1]/span[1]/span').text\n",
    "driver.find_element(By.XPATH, '//*[@id=\"gdasList\"]/li[1]/div[2]/div[2]').text\n"
   ]
  },
  {
   "cell_type": "code",
   "execution_count": 35,
   "id": "f427f966-9708-4e03-a7aa-42d30a775373",
   "metadata": {},
   "outputs": [
    {
     "data": {
      "text/plain": [
       "'째까늬\\n5점만점에 5점\\n2018.06.09\\n빠른 배송 감사합니다\\n이 리뷰가 도움이 돼요! 0\\n신고하기'"
      ]
     },
     "execution_count": 35,
     "metadata": {},
     "output_type": "execute_result"
    }
   ],
   "source": [
    "driver.find_element(By.XPATH, '//*[@id=\"gdasList\"]/li[5]').text"
   ]
  },
  {
   "cell_type": "code",
   "execution_count": 40,
   "id": "a7dbdb19-e284-438c-9602-73f879ece2f4",
   "metadata": {},
   "outputs": [
    {
     "name": "stdout",
     "output_type": "stream",
     "text": [
      "jjaes****\n",
      "5점만점에 5점\n",
      "2018.03.25\n",
      "간편하게 하나로 쓸 수 있어 좋아요~\n",
      "이 리뷰가 도움이 돼요! 0\n",
      "신고하기\n"
     ]
    }
   ],
   "source": [
    "print(driver.find_element(By.XPATH, '//*[@id=\"gdasList\"]/li[7]').text)"
   ]
  },
  {
   "cell_type": "code",
   "execution_count": 41,
   "id": "fb7c42b3-13d6-4332-b425-6477a18787fb",
   "metadata": {},
   "outputs": [],
   "source": [
    "x = driver.find_element(By.XPATH, '//*[@id=\"gdasList\"]/li[7]').text"
   ]
  },
  {
   "cell_type": "code",
   "execution_count": 70,
   "id": "4cdac6fd-6d04-486f-959d-c20fc3a75d2c",
   "metadata": {},
   "outputs": [],
   "source": [
    "a = []\n",
    "a = x.split(sep='\\n')"
   ]
  },
  {
   "cell_type": "code",
   "execution_count": 56,
   "id": "5149dea0-38c6-4416-8f03-b0e1aa70ca42",
   "metadata": {},
   "outputs": [
    {
     "data": {
      "text/plain": [
       "'신고하기'"
      ]
     },
     "execution_count": 56,
     "metadata": {},
     "output_type": "execute_result"
    }
   ],
   "source": [
    "a.pop(-1) # index (only 1)\n",
    "# del list[index]\n",
    "# remove('value')"
   ]
  },
  {
   "cell_type": "code",
   "execution_count": 73,
   "id": "4fbe8b52-c0f2-4b7e-babc-1e16ba533006",
   "metadata": {},
   "outputs": [],
   "source": [
    "del a[-2:]"
   ]
  },
  {
   "cell_type": "code",
   "execution_count": 74,
   "id": "c09e5d1a-2f29-42c5-bb28-cdd9732fd9ae",
   "metadata": {},
   "outputs": [
    {
     "data": {
      "text/plain": [
       "['jjaes****', '5점만점에 5점', '2018.03.25', '간편하게 하나로 쓸 수 있어 좋아요~']"
      ]
     },
     "execution_count": 74,
     "metadata": {},
     "output_type": "execute_result"
    }
   ],
   "source": [
    "a "
   ]
  },
  {
   "cell_type": "markdown",
   "id": "ddc7aaa3-b632-400d-aa80-fd2f446a02c6",
   "metadata": {},
   "source": [
    "# 리뷰 가져오는 path\n",
    "- //*[@id=\"gdasList\"]/li[7]\n",
    "- //*[@id=\"gdasList\"]/li[2] 2번쨰\n",
    "- //*[@id=\"gdasList\"]/li[1] 1번쨰"
   ]
  },
  {
   "cell_type": "code",
   "execution_count": 77,
   "id": "37d8208f-6e80-4a85-86f6-ce1c82d805aa",
   "metadata": {},
   "outputs": [
    {
     "name": "stdout",
     "output_type": "stream",
     "text": [
      "['jjaes****', '5점만점에 5점', '2018.03.25', '간편하게 하나로 쓸 수 있어 좋아요~']\n"
     ]
    }
   ],
   "source": [
    "# 리뷰텍스트 바꾸기\n",
    "x = driver.find_element(By.XPATH, '//*[@id=\"gdasList\"]/li[7]').text # 사람당 리뷰path\n",
    "rv = x.split(sep='\\n')\n",
    "del rv[-2:]\n",
    "print(rv)"
   ]
  },
  {
   "cell_type": "code",
   "execution_count": 79,
   "id": "d1fdc9b7-a080-4377-be51-214d2f5fba1f",
   "metadata": {},
   "outputs": [
    {
     "name": "stdout",
     "output_type": "stream",
     "text": [
      "1 ['topinc****', '5점만점에 5점', '2018.11.21', '우선  아버지가 쓰시던 화장품이 많이 안좋아서 고민을 했습니다', '피부에 괜찮은게 어떤걸  써야하나 알아보던중 주위에서 우르오스가 제일 좋다고 말해서 구입하게되었어요', '지금 1주일째 쓰고 계신데  아버지가 좋다고 하시네요', '감사합니다']\n",
      "2 ['suhyeone****', '5점만점에 5점', '2018.11.10', '좋아요! 저렴하게 잘 구입했어요 향도 좋네요', '아빠 뭐 사드릴까 하다가 이게 젤 많이 들어보기도 하고 유명한거 같아서 구입했어요!  온라인으로 저렴하게 잘 구입한거 같아요 ']\n",
      "3 ['zizi****', '5점만점에 3점', '2018.09.04', '좋아욤:)', '촉촉하고 괜찮습니다 ', '특히  바르기 귀찮아 하는 사람들에게 딱인듯 합니다  ', '과하지 않는 냄새 입니다']\n",
      "4 ['dandy****', '5점만점에 5점', '2018.09.04', '빠른배송굳']\n",
      "5 ['째까늬', '5점만점에 5점', '2018.06.09', '빠른 배송 감사합니다']\n",
      "6 ['sungmi****', '5점만점에 5점', '2018.06.07', '올인원이라 쓰기편해요!', '스킨케어 여러개 바르기 귀찮고 번거로운데 ', '올인원이라 이거 하나만 바르면 편해요 ~!', '흐르는 물 제형이라  여름에 바르기 더더욱 좋습니다', '여러단계 귀찮으신분들 강추']\n",
      "7 ['jjaes****', '5점만점에 5점', '2018.03.25', '간편하게 하나로 쓸 수 있어 좋아요~']\n",
      "8 ['dongwook****', '5점만점에 5점', '2017.07.07', '배송이 빨라서 좋아요', '지인의소개로 매번 구입해서 사용하고 있습니다 그리고 배송도 매우 빨라서 만족하고있습니다 앞으로도 꾸준히 사용하고자합니다']\n",
      "9 ['kkoDAE', '한달사용리뷰', '5점만점에 5점', '2021.09.28 매장', '피부타입', '복합성에 좋아요', '피부고민', '진정에 좋아요', '자극도', '자극없이 순해요', '로션이라는 이름과 달리 물에 가까운 제형이라 걱정했는데, 줄줄 흐르지 않게 구성된 입구 덕에 생각외로 편하게 사용이 가능합니다.']\n",
      "10 ['채창', '5점만점에 5점', '2021.06.30', '피부타입', '지성에 좋아요', '피부고민', '진정에 좋아요', '자극도', '보통이에요', '남자친구가 지성인데 좋다고해요 피부 쫀득해보이고냄새도 좋아요']\n"
     ]
    }
   ],
   "source": [
    "for i in range(1,11):\n",
    "    x = driver.find_element(By.XPATH, f'//*[@id=\"gdasList\"]/li[{i}]').text\n",
    "    rv = x.split(sep='\\n')\n",
    "    del rv[-2:]\n",
    "    \n",
    "    print(i, rv)"
   ]
  },
  {
   "cell_type": "code",
   "execution_count": null,
   "id": "2e14204f-c84a-472e-a782-698011a107a8",
   "metadata": {},
   "outputs": [],
   "source": []
  }
 ],
 "metadata": {
  "kernelspec": {
   "display_name": "Python 3 (ipykernel)",
   "language": "python",
   "name": "python3"
  },
  "language_info": {
   "codemirror_mode": {
    "name": "ipython",
    "version": 3
   },
   "file_extension": ".py",
   "mimetype": "text/x-python",
   "name": "python",
   "nbconvert_exporter": "python",
   "pygments_lexer": "ipython3",
   "version": "3.9.7"
  }
 },
 "nbformat": 4,
 "nbformat_minor": 5
}
