{
 "cells": [
  {
   "cell_type": "code",
   "execution_count": 1,
   "id": "6703f8a7-bfe0-4a7a-8d3b-75420eb4da52",
   "metadata": {},
   "outputs": [],
   "source": [
    "# 필수 라이브러리 로딩\n",
    "from selenium import webdriver\n",
    "from selenium.webdriver.chrome.service import Service\n",
    "from selenium.webdriver.common.by import By\n",
    "import csv\n",
    "import time"
   ]
  },
  {
   "cell_type": "code",
   "execution_count": 2,
   "id": "c8f1cd25-5bd6-49c6-886c-8503540107a4",
   "metadata": {},
   "outputs": [],
   "source": [
    "# driver 설정\n",
    "## 첫화면\n",
    "URL = 'https://www.oliveyoung.co.kr/store/main/main.do?oy=0'\n",
    "ops = webdriver.ChromeOptions()\n",
    "ops.add_experimental_option('excludeSwitches', ['enable-logging'])\n",
    "\n",
    "sv = Service(executable_path= 'C:\\\\Users\\\\admin\\\\Downloads\\\\chroemdriver')\n",
    "driver = webdriver.Chrome(service=sv, options=ops)\n",
    "\n",
    "driver.get(url=URL)\n"
   ]
  },
  {
   "cell_type": "markdown",
   "id": "11519169-c867-4a48-8206-af701d18fa54",
   "metadata": {},
   "source": [
    "- XPATH 링크\n",
    "1. 기초화장품<br>\n",
    "//*[@id=\"Gnb\"]/div[2]/ul/li[1]/a\n",
    "-> 다음링크 누르기가 힘듬\n",
    "\n",
    "2. 스킨케어 페이지<br>\n",
    "링크: https://www.oliveyoung.co.kr/store/display/getCategoryShop.do?dispCatNo=10000010001 <br>\n",
    "토너 '//*[@id=\"Contents\"]/div/div[1]/ul/li[1]/a'<br>\n",
    "에센스 '//*[@id=\"Contents\"]/div/div[1]/ul/li[2]/a'\n",
    "반복 구문\n",
    "'//*[@id=\"Contents\"]/div/div[1]/ul/li[{i}]/a'\n",
    "3. 마스크 페이지<br>\n",
    "링크:\n",
    "https://www.oliveyoung.co.kr/store/display/getCategoryShop.do?dispCatNo=10000010009&gateCd=Drawer<br>\n",
    "코팩 '//*[@id=\"Contents\"]/div/div[1]/ul/li[3]/a'\n",
    "\n",
    "- 카테고리별 선택 링크는 같으니깐 ?? 진짜\n",
    "\n",
    "4. 상품 클릭 페이지\n",
    "- '//*[@id=\"Contents\"]/ul[2]/li[1]/div/a/img' # 1,1 위치\n",
    "- '//*[@id=\"Contents\"]/ul[2]/li[2]/div/a/img' # 옆에꺼\n",
    "- '//*[@id=\"Contents\"]/ul[3]/li[2]/div/a/img' # 밑에칸"
   ]
  },
  {
   "cell_type": "code",
   "execution_count": 13,
   "id": "922b3018-ef05-48aa-8651-7ad9e10ef906",
   "metadata": {},
   "outputs": [],
   "source": [
    "# 링크 정리\n",
    "## 스킨케어\n",
    "a = 'https://www.oliveyoung.co.kr/store/display/getCategoryShop.do?dispCatNo=10000010001'\n",
    "## 마스크팩\n",
    "b = 'https://www.oliveyoung.co.kr/store/display/getCategoryShop.do?dispCatNo=10000010009&gateCd=Drawer'\n",
    "## 클렌징\n",
    "c = 'https://www.oliveyoung.co.kr/store/display/getCategoryShop.do?dispCatNo=10000010010&gateCd=Drawer'\n",
    "## 선케어\n",
    "d = 'https://www.oliveyoung.co.kr/store/display/getCategoryShop.do?dispCatNo=10000010011&gateCd=Drawer'"
   ]
  },
  {
   "cell_type": "code",
   "execution_count": 15,
   "id": "f0ce2ac8-f545-4065-a811-f7c7d0724fdb",
   "metadata": {},
   "outputs": [],
   "source": [
    "driver.find_element(By.XPATH,f'//*[@id=\"Contents\"]/div/div[1]/ul/li[1]/a').click()"
   ]
  },
  {
   "cell_type": "markdown",
   "id": "f7dd0573-ba73-4971-b63c-a345bade5a86",
   "metadata": {},
   "source": [
    "## 스킨케어 상품 10개 정보 불러오기\n",
    "### 출력창에 출력해보기"
   ]
  },
  {
   "cell_type": "code",
   "execution_count": 16,
   "id": "a7b2897e-a17d-473b-82cc-761accd5adac",
   "metadata": {},
   "outputs": [],
   "source": [
    "driver.get(url = a) # 스킨케어 페이지\n",
    "# 토너 페이지 클릭하기\n",
    "driver.find_element(By.XPATH,f'//*[@id=\"Contents\"]/div/div[1]/ul/li[1]/a').click() \n"
   ]
  },
  {
   "cell_type": "code",
   "execution_count": 17,
   "id": "407f3ed4-0615-4b61-9639-536cb9e7735f",
   "metadata": {},
   "outputs": [
    {
     "name": "stdout",
     "output_type": "stream",
     "text": [
      "아이디얼포맨 [4년연속 맨즈케어1등]아이디얼포맨 퍼펙트올인원밀크 어워즈 한정기획(2022) 28,000\n",
      "원\n",
      "19,710\n",
      "원\n",
      "혜택 정보 고객 리뷰\n",
      "4.8 (1,685건)\n"
     ]
    }
   ],
   "source": [
    "# (1,1)위치의 상품 클릭하기\n",
    "driver.find_element(By.XPATH,f'//*[@id=\"Contents\"]/ul[2]/li[1]/div/a/img').click()\n",
    "# 클릭후 필요정보 불러오기\n",
    "brand = driver.find_element(By.XPATH,'//*[@id=\"Contents\"]/div[2]/div[2]/div/p[1]').text\n",
    "pname = driver.find_element(By.XPATH,'//*[@id=\"Contents\"]/div[2]/div[2]/div/p[2]').text\n",
    "price = driver.find_element(By.XPATH,'//*[@id=\"Contents\"]/div[2]/div[2]/div/div[1]').text\n",
    "star = driver.find_element(By.XPATH,'//*[@id=\"repReview\"]').text\n",
    "print(brand, pname, price, star)"
   ]
  },
  {
   "cell_type": "markdown",
   "id": "1785241d-72f3-47d6-8ae6-dcc5a827e8c6",
   "metadata": {},
   "source": [
    "### 상품 12건 자동화"
   ]
  },
  {
   "cell_type": "code",
   "execution_count": 18,
   "id": "26ae81f6-1040-446f-83ab-a17efbf19974",
   "metadata": {},
   "outputs": [],
   "source": [
    "driver.back()"
   ]
  },
  {
   "cell_type": "code",
   "execution_count": null,
   "id": "80601bb3-2b38-4fe1-8d92-88b391fcb5a7",
   "metadata": {},
   "outputs": [],
   "source": [
    "for i in range(1,5):\n",
    "    for j in range(1,4):\n",
    "        driver.find_element(By.XPATH,f'//*[@id=\"Contents\"]/ul[2]/li[1]/div/a/img').click()"
   ]
  },
  {
   "cell_type": "code",
   "execution_count": 24,
   "id": "90a43fc4-fc62-41ca-a112-58449c77c90c",
   "metadata": {},
   "outputs": [
    {
     "name": "stdout",
     "output_type": "stream",
     "text": [
      "아이디얼포맨 [4년연속 맨즈케어1등]아이디얼포맨 퍼펙트올인원밀크 어워즈 한정기획(2022)\n",
      "넘버즈인 [대용량+미니어처] 넘버즈인 3번 결광가득 에센스 토너 300ml 어워즈 한정기획 (+3번 결광케어 키트 5종 증정)\n",
      "메이크프렘 메이크프렘 인테카 수딩 토너 200ml\n",
      "라네즈 [NEW] 라네즈 크림스킨 170ML\n"
     ]
    }
   ],
   "source": [
    "for i in range(1, 3):\n",
    "    for j in range(1,3):\n",
    "        driver.find_element(By.XPATH,f'//*[@id=\"Contents\"]/ul[{i+1}]/li[{j}]/div/a/img').click()\n",
    "        brand = driver.find_element(By.XPATH,'//*[@id=\"Contents\"]/div[2]/div[2]/div/p[1]').text\n",
    "        pname = driver.find_element(By.XPATH,'//*[@id=\"Contents\"]/div[2]/div[2]/div/p[2]').text\n",
    "        price = driver.find_element(By.XPATH,'//*[@id=\"Contents\"]/div[2]/div[2]/div/div[1]').text\n",
    "        star = driver.find_element(By.XPATH,'//*[@id=\"repReview\"]').text\n",
    "        print(brand, pname)\n",
    "        time.sleep(2)\n",
    "        driver.back()\n"
   ]
  },
  {
   "cell_type": "code",
   "execution_count": 26,
   "id": "f156e491-5ada-4b3b-956b-6ecfeebd4a71",
   "metadata": {},
   "outputs": [
    {
     "ename": "ValueError",
     "evalue": "I/O operation on closed file.",
     "output_type": "error",
     "traceback": [
      "\u001b[1;31m---------------------------------------------------------------------------\u001b[0m",
      "\u001b[1;31mValueError\u001b[0m                                Traceback (most recent call last)",
      "\u001b[1;32m~\\AppData\\Local\\Temp/ipykernel_18748/2869828815.py\u001b[0m in \u001b[0;36m<module>\u001b[1;34m\u001b[0m\n\u001b[0;32m      2\u001b[0m \u001b[0mi_open\u001b[0m \u001b[1;33m=\u001b[0m \u001b[0mopen\u001b[0m\u001b[1;33m(\u001b[0m\u001b[0mcsv_filename\u001b[0m\u001b[1;33m,\u001b[0m \u001b[1;34m'w+'\u001b[0m\u001b[1;33m,\u001b[0m \u001b[0mencoding\u001b[0m \u001b[1;33m=\u001b[0m \u001b[1;34m'utf-8'\u001b[0m\u001b[1;33m)\u001b[0m\u001b[1;33m\u001b[0m\u001b[1;33m\u001b[0m\u001b[0m\n\u001b[0;32m      3\u001b[0m \u001b[0mi_writer\u001b[0m \u001b[1;33m=\u001b[0m \u001b[0mcsv\u001b[0m\u001b[1;33m.\u001b[0m\u001b[0mwriter\u001b[0m\u001b[1;33m(\u001b[0m\u001b[0mcsv_open\u001b[0m\u001b[1;33m)\u001b[0m\u001b[1;33m\u001b[0m\u001b[1;33m\u001b[0m\u001b[0m\n\u001b[1;32m----> 4\u001b[1;33m \u001b[0mi_writer\u001b[0m\u001b[1;33m.\u001b[0m\u001b[0mwriterow\u001b[0m\u001b[1;33m(\u001b[0m\u001b[1;33m(\u001b[0m\u001b[1;34m'brand'\u001b[0m\u001b[1;33m,\u001b[0m\u001b[1;34m'pname'\u001b[0m\u001b[1;33m)\u001b[0m\u001b[1;33m)\u001b[0m\u001b[1;33m\u001b[0m\u001b[1;33m\u001b[0m\u001b[0m\n\u001b[0m\u001b[0;32m      5\u001b[0m \u001b[0mcsv_filename\u001b[0m \u001b[1;33m=\u001b[0m \u001b[1;34mf'2.csv'\u001b[0m \u001b[1;31m# 스킨케어_토너/로션/올인원\u001b[0m\u001b[1;33m\u001b[0m\u001b[1;33m\u001b[0m\u001b[0m\n\u001b[0;32m      6\u001b[0m \u001b[0mii_open\u001b[0m \u001b[1;33m=\u001b[0m \u001b[0mopen\u001b[0m\u001b[1;33m(\u001b[0m\u001b[0mcsv_filename\u001b[0m\u001b[1;33m,\u001b[0m \u001b[1;34m'w+'\u001b[0m\u001b[1;33m,\u001b[0m \u001b[0mencoding\u001b[0m \u001b[1;33m=\u001b[0m \u001b[1;34m'utf-8'\u001b[0m\u001b[1;33m)\u001b[0m\u001b[1;33m\u001b[0m\u001b[1;33m\u001b[0m\u001b[0m\n",
      "\u001b[1;31mValueError\u001b[0m: I/O operation on closed file."
     ]
    }
   ],
   "source": [
    "csv_filename = f'i.csv' # 스킨케어_토너/로션/올인원\n",
    "i_open = open(csv_filename, 'w+', encoding = 'utf-8')\n",
    "i_writer = csv.writer(csv_open)\n",
    "i_writer.writerow(('brand','pname'))\n",
    "csv_filename = f'2.csv' # 스킨케어_토너/로션/올인원\n",
    "ii_open = open(csv_filename, 'w+', encoding = 'utf-8')\n",
    "ii_writer = csv.writer(csv_open)\n",
    "ii_writer.writerow(('price','star'))\n",
    "\n",
    "for i in range(1, 3):\n",
    "    for j in range(1,3):\n",
    "        driver.find_element(By.XPATH,f'//*[@id=\"Contents\"]/ul[{i+1}]/li[{j}]/div/a/img').click()\n",
    "        brand = driver.find_element(By.XPATH,'//*[@id=\"Contents\"]/div[2]/div[2]/div/p[1]').text\n",
    "        pname = driver.find_element(By.XPATH,'//*[@id=\"Contents\"]/div[2]/div[2]/div/p[2]').text\n",
    "        price = driver.find_element(By.XPATH,'//*[@id=\"Contents\"]/div[2]/div[2]/div/div[1]').text\n",
    "        star = driver.find_element(By.XPATH,'//*[@id=\"repReview\"]').text\n",
    "        i_writer.writerow((brand, pname))\n",
    "        ii_writer.writerow((price, star))\n",
    "        print((i,j))\n",
    "        time.sleep(1)\n",
    "        driver.back()\n",
    "        \n",
    "i_open.close()        \n",
    "ii_open.close() \n",
    "\n",
    "## csv2개 따로 작성은 안되는구만"
   ]
  },
  {
   "cell_type": "code",
   "execution_count": 25,
   "id": "926e4be8-1301-411b-b9fe-fb801f71528a",
   "metadata": {},
   "outputs": [
    {
     "name": "stdout",
     "output_type": "stream",
     "text": [
      "(1, 1)\n",
      "(1, 2)\n",
      "(1, 3)\n",
      "(1, 4)\n",
      "(2, 1)\n",
      "(2, 2)\n",
      "(2, 3)\n",
      "(2, 4)\n",
      "(3, 1)\n",
      "(3, 2)\n",
      "(3, 3)\n",
      "(3, 4)\n"
     ]
    }
   ],
   "source": [
    "# 최종 적용\n",
    "\n",
    "## csv파일생성\n",
    "csv_filename = f'a-1.csv' # 스킨케어_토너/로션/올인원\n",
    "csv_open = open(csv_filename, 'w+', encoding = 'utf-8')\n",
    "csv_writer = csv.writer(csv_open)\n",
    "csv_writer.writerow(('brand','pname','price','star'))\n",
    "\n",
    "## 파일쓰기\n",
    "for i in range(1, 4):\n",
    "    for j in range(1,5):\n",
    "        driver.find_element(By.XPATH,f'//*[@id=\"Contents\"]/ul[{i+1}]/li[{j}]/div/a/img').click()\n",
    "        brand = driver.find_element(By.XPATH,'//*[@id=\"Contents\"]/div[2]/div[2]/div/p[1]').text\n",
    "        pname = driver.find_element(By.XPATH,'//*[@id=\"Contents\"]/div[2]/div[2]/div/p[2]').text\n",
    "        price = driver.find_element(By.XPATH,'//*[@id=\"Contents\"]/div[2]/div[2]/div/div[1]').text\n",
    "        star = driver.find_element(By.XPATH,'//*[@id=\"repReview\"]').text\n",
    "        csv_writer.writerow((brand, pname, price, star))\n",
    "        print((i,j))\n",
    "        time.sleep(1)\n",
    "        driver.back()\n",
    "\n",
    "# 파일닫기\n",
    "csv_open.close() "
   ]
  },
  {
   "cell_type": "code",
   "execution_count": null,
   "id": "2f478712-1cc7-470d-9a0c-b0e9e64eda07",
   "metadata": {},
   "outputs": [],
   "source": [
    "# # 다른 사이트도 같이 적용해보기\n",
    "# ## 종류별로 csv파일 만들고자 했었음...\n",
    "# ## 파일쓰기\n",
    "# for n in range(1,4):\n",
    "#     # 파일 생성\n",
    "#     csv_filename = f'a-{n}.csv' # 스킨케어_토너/로션/올인원\n",
    "#     csv_open = open(csv_filename, 'w+', encoding = 'utf-8')\n",
    "#     csv_writer = csv.writer(csv_open)\n",
    "#     csv_writer.writerow(('brand','pname','price','star'))\n",
    "    \n",
    "#     driver.get(url = a) # 스킨케어 페이지\n",
    "# # 다른 페이지 클릭하기 \n",
    "#     driver.find_element(By.XPATH,f'//*[@id=\"Contents\"]/div/div[1]/ul/li[{n}]/a').click()\n",
    "#     for i in range(1, 4):\n",
    "#         for j in range(1,5):\n",
    "#             driver.find_element(By.XPATH,f'//*[@id=\"Contents\"]/ul[{i+1}]/li[{j}]/div/a/img').click()\n",
    "#             brand = driver.find_element(By.XPATH,'//*[@id=\"Contents\"]/div[2]/div[2]/div/p[1]').text\n",
    "#             pname = driver.find_element(By.XPATH,'//*[@id=\"Contents\"]/div[2]/div[2]/div/p[2]').text\n",
    "#             price = driver.find_element(By.XPATH,'//*[@id=\"Contents\"]/div[2]/div[2]/div/div[1]').text\n",
    "#             star = driver.find_element(By.XPATH,'//*[@id=\"repReview\"]').text\n",
    "#             csv_writer.writerow((brand, pname, price, star))\n",
    "#             print((i,j))\n",
    "#             time.sleep(1)\n",
    "#             driver.back()\n",
    "\n",
    "# # 파일닫기\n",
    "# csv_open.close()"
   ]
  },
  {
   "cell_type": "code",
   "execution_count": 38,
   "id": "56177fca-3025-43dc-a2c6-5943ac865d3a",
   "metadata": {},
   "outputs": [
    {
     "name": "stdout",
     "output_type": "stream",
     "text": [
      "(1, 1)\n",
      "(1, 2)\n",
      "(1, 3)\n",
      "(1, 4)\n",
      "(2, 1)\n",
      "(2, 2)\n",
      "(2, 3)\n",
      "(2, 4)\n",
      "(3, 1)\n",
      "(3, 2)\n",
      "(3, 3)\n",
      "(3, 4)\n",
      "(1, 1)\n",
      "(1, 2)\n",
      "(1, 3)\n",
      "(1, 4)\n",
      "(2, 1)\n",
      "(2, 2)\n",
      "(2, 3)\n",
      "(2, 4)\n",
      "(3, 1)\n",
      "(3, 2)\n",
      "(3, 3)\n",
      "(3, 4)\n",
      "(1, 1)\n",
      "(1, 2)\n",
      "(1, 3)\n",
      "(1, 4)\n",
      "(2, 1)\n",
      "(2, 2)\n",
      "(2, 3)\n",
      "(2, 4)\n",
      "(3, 1)\n",
      "(3, 2)\n",
      "(3, 3)\n",
      "(3, 4)\n"
     ]
    }
   ],
   "source": [
    "# 한파일에 기초화장품들 12개 등록하기\n",
    "\n",
    "## 파일쓰기\n",
    "csv_filename = 'gicho_prac1.csv' # 스킨케어_토너/로션/올인원\n",
    "csv_open = open(csv_filename, 'w+', encoding = 'utf-8')\n",
    "csv_writer = csv.writer(csv_open)\n",
    "csv_writer.writerow(('brand','pname','price','star','cate'))\n",
    "\n",
    "cateList = [a, b, c]\n",
    "\n",
    "for idx, n in enumerate(cateList):\n",
    "    # 구하고자하는 카테고리 들어가기\n",
    "    driver.get(url = n) # 스킨케어 페이지\n",
    "# 다른 페이지 클릭하기 \n",
    "    driver.find_element(By.XPATH,f'//*[@id=\"Contents\"]/div/div[1]/ul/li[{idx+1}]/a').click()\n",
    "    cate = driver.find_element(By.XPATH,'//*[@id=\"Contents\"]/p').text\n",
    "    for i in range(1, 4):\n",
    "        for j in range(1,5):\n",
    "            driver.find_element(By.XPATH,f'//*[@id=\"Contents\"]/ul[{i+1}]/li[{j}]/div/a/img').click()\n",
    "            brand = driver.find_element(By.XPATH,'//*[@id=\"Contents\"]/div[2]/div[2]/div/p[1]').text\n",
    "            pname = driver.find_element(By.XPATH,'//*[@id=\"Contents\"]/div[2]/div[2]/div/p[2]').text\n",
    "            price = driver.find_element(By.XPATH,'//*[@id=\"Contents\"]/div[2]/div[2]/div/div[1]').text\n",
    "            star = driver.find_element(By.XPATH,'//*[@id=\"repReview\"]').text\n",
    "            csv_writer.writerow((brand, pname, price, star, cate))\n",
    "            print((i,j))\n",
    "            time.sleep(1)\n",
    "            driver.back()\n"
   ]
  },
  {
   "cell_type": "code",
   "execution_count": 39,
   "id": "11ea71e5-f637-4f2b-9111-f407194747c8",
   "metadata": {},
   "outputs": [
    {
     "name": "stdout",
     "output_type": "stream",
     "text": [
      "(1, 1)\n",
      "(1, 2)\n",
      "(1, 3)\n",
      "(1, 4)\n",
      "(2, 1)\n",
      "(2, 2)\n",
      "(2, 3)\n",
      "(2, 4)\n",
      "(3, 1)\n",
      "(3, 2)\n",
      "(3, 3)\n",
      "(3, 4)\n",
      "(1, 1)\n",
      "(1, 2)\n",
      "(1, 3)\n",
      "(1, 4)\n",
      "(2, 1)\n",
      "(2, 2)\n",
      "(2, 3)\n",
      "(2, 4)\n",
      "(3, 1)\n",
      "(3, 2)\n",
      "(3, 3)\n",
      "(3, 4)\n"
     ]
    }
   ],
   "source": [
    "driver.get(url = d)  \n",
    "for k in range(1, 3):\n",
    "    \n",
    "    driver.find_element(By.XPATH,f'//*[@id=\"Contents\"]/div/div[1]/ul/li[{k}]/a').click()\n",
    "    cate = driver.find_element(By.XPATH,'//*[@id=\"Contents\"]/p').text\n",
    "    for i in range(1, 4):\n",
    "        for j in range(1,5):\n",
    "            driver.find_element(By.XPATH,f'//*[@id=\"Contents\"]/ul[{i+1}]/li[{j}]/div/a/img').click()\n",
    "            brand = driver.find_element(By.XPATH,'//*[@id=\"Contents\"]/div[2]/div[2]/div/p[1]').text\n",
    "            pname = driver.find_element(By.XPATH,'//*[@id=\"Contents\"]/div[2]/div[2]/div/p[2]').text\n",
    "            price = driver.find_element(By.XPATH,'//*[@id=\"Contents\"]/div[2]/div[2]/div/div[1]').text\n",
    "            star = driver.find_element(By.XPATH,'//*[@id=\"repReview\"]').text\n",
    "            csv_writer.writerow((brand, pname, price, star, cate))\n",
    "            print((i,j))\n",
    "            time.sleep(1)\n",
    "            driver.back()\n",
    "# 파일닫기\n",
    "csv_open.close()"
   ]
  },
  {
   "cell_type": "code",
   "execution_count": 27,
   "id": "05d52d67-b2b5-4286-b2a1-8cd929f7096c",
   "metadata": {},
   "outputs": [
    {
     "name": "stdout",
     "output_type": "stream",
     "text": [
      "https://www.oliveyoung.co.kr/store/display/getCategoryShop.do?dispCatNo=10000010001 + \"_\" + 1\n",
      "https://www.oliveyoung.co.kr/store/display/getCategoryShop.do?dispCatNo=10000010009&gateCd=Drawer + \"_\" + 2\n",
      "https://www.oliveyoung.co.kr/store/display/getCategoryShop.do?dispCatNo=10000010010&gateCd=Drawer + \"_\" + 3\n"
     ]
    }
   ],
   "source": [
    "# 잘되는지 연습\n",
    "cateList = [a, b, c]\n",
    "\n",
    "for idx, n in enumerate(cateList):\n",
    "    cate = f'{n} + \"_\" + {idx+1}'\n",
    "    print(cate)"
   ]
  },
  {
   "cell_type": "code",
   "execution_count": 33,
   "id": "0cc5b2f9-7295-4628-826e-4f9b5786cca0",
   "metadata": {},
   "outputs": [
    {
     "data": {
      "text/plain": [
       "'토너/로션/올인원 카테고리에 734 개의 상품이 등록되어 있습니다.'"
      ]
     },
     "execution_count": 33,
     "metadata": {},
     "output_type": "execute_result"
    }
   ],
   "source": [
    "driver.find_element(By.XPATH,'//*[@id=\"Contents\"]/p').text\n",
    "\n",
    "# //*[@id=\"Contents\"]/p/text()[1]"
   ]
  },
  {
   "cell_type": "code",
   "execution_count": 37,
   "id": "13ae69c3-66ae-4518-ada1-430437c88542",
   "metadata": {},
   "outputs": [],
   "source": [
    "csv_open.close()"
   ]
  },
  {
   "cell_type": "code",
   "execution_count": null,
   "id": "0b78c74f-1927-4bb0-8adb-81c7cb16c5df",
   "metadata": {},
   "outputs": [],
   "source": []
  }
 ],
 "metadata": {
  "kernelspec": {
   "display_name": "Python 3 (ipykernel)",
   "language": "python",
   "name": "python3"
  },
  "language_info": {
   "codemirror_mode": {
    "name": "ipython",
    "version": 3
   },
   "file_extension": ".py",
   "mimetype": "text/x-python",
   "name": "python",
   "nbconvert_exporter": "python",
   "pygments_lexer": "ipython3",
   "version": "3.9.7"
  }
 },
 "nbformat": 4,
 "nbformat_minor": 5
}
