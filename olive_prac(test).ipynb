{
 "cells": [
  {
   "cell_type": "markdown",
   "id": "a90267a1-42b3-4939-983d-c013fb00fd54",
   "metadata": {},
   "source": [
    "# 필수라이브러리 로딩"
   ]
  },
  {
   "cell_type": "code",
   "execution_count": 1,
   "id": "49afda0c-9c17-4ae9-b866-5e1998f9eefa",
   "metadata": {},
   "outputs": [],
   "source": [
    "from selenium import webdriver\n",
    "from selenium.webdriver.chrome.service import Service\n",
    "from selenium.webdriver.common.by import By\n",
    "import csv\n",
    "import time"
   ]
  },
  {
   "cell_type": "markdown",
   "id": "103509dc-d0ef-4b65-8210-d4bc8949d2d2",
   "metadata": {},
   "source": [
    "# 드라이버 설정"
   ]
  },
  {
   "cell_type": "code",
   "execution_count": 2,
   "id": "67b71f81-d355-4491-830e-ab74dd0f0dc8",
   "metadata": {},
   "outputs": [],
   "source": [
    "# driver 설정\n",
    "# url 경로는 올리브영 제품 링크\n",
    "URL = 'https://www.oliveyoung.co.kr/store/goods/getGoodsDetail.do?goodsNo=A000000166294&dispCatNo=90000010002&trackingCd=Today&curation&egcode&rccode&egrankcode'\n",
    "ops = webdriver.ChromeOptions()\n",
    "ops.add_experimental_option('excludeSwitches', ['enable-logging'])\n",
    "\n",
    "sv = Service(executable_path= 'C:\\\\Users\\\\admin\\\\Downloads\\\\chroemdriver') # 자기 주소맞게\n",
    "driver = webdriver.Chrome(service=sv, options=ops)\n",
    "\n",
    "driver.get(url=URL)\n",
    "driver.find_element(By.XPATH,f'//*[@id=\"reviewInfo\"]/a').click() #제품 선택하는 링크"
   ]
  },
  {
   "cell_type": "markdown",
   "id": "780c7515-cd5a-472a-844c-2c13ecc95ce2",
   "metadata": {},
   "source": [
    "## XPATH모음집\n",
    "- 별점 <br>\n",
    "'//*[@id=\"gdasList\"]/li[1]/div[2]/div[1]/span[1]/span'<br>\n",
    "'//*[@id=\"gdasList\"]/li[2]/div[2]/div[1]/span[1]/span'\n",
    "- 키워드<br>\n",
    "0. 전체 \n",
    "'//*[@id=\"gdasList\"]/li[1]/div[2]/div[2]'\n",
    "'//*[@id=\"gdasList\"]/li[2]/div[2]/div[2]'\n",
    "1. 키워드 갯수(토픽 3)<br>\n",
    "'//*[@id=\"gdasList\"]/li[2]/div[2]/div[2]/dl[1]/dd/span'<br>\n",
    "'//*[@id=\"gdasList\"]/li[2]/div[2]/div[2]/dl[2]/dd/span'<br>\n",
    "\n",
    "2. 한명당 키워드<br>\n",
    "'//*[@id=\"gdasList\"]/li[1]/div[2]/div[2]/dl[1]/dd/span'<br>\n",
    "'//*[@id=\"gdasList\"]/li[2]/div[2]/div[2]/dl[1]/dd/span'<br>\n",
    "- 리뷰 <br>\n",
    "'//*[@id=\"gdasList\"]/li[1]/div[2]/div[3]'<br>\n",
    "'//*[@id=\"gdasList\"]/li[2]/div[2]/div[3]'<br>"
   ]
  },
  {
   "attachments": {
    "ae2f5cd1-9496-498c-8aff-3d8953eb2af8.gif": {
     "image/gif": "[encoded data removed]"
    }
   },
   "cell_type": "markdown",
   "id": "7d675c9e-7be8-445c-b7a3-976bfb26d6e0",
   "metadata": {},
   "source": [
    "![download.gif](attachment:ae2f5cd1-9496-498c-8aff-3d8953eb2af8.gif)# csv파일 생성 및 설정"
   ]
  },
  {
   "cell_type": "code",
   "execution_count": 7,
   "id": "eca2d8ce-f371-4ee2-ab71-8d65cc378114",
   "metadata": {},
   "outputs": [
    {
     "data": {
      "text/plain": [
       "22"
      ]
     },
     "execution_count": 7,
     "metadata": {},
     "output_type": "execute_result"
    }
   ],
   "source": [
    "# 데이터 저장파일\n",
    "csv_filename = 'test.csv' # 원하는 제목\n",
    "csv_open = open(csv_filename, 'w+', encoding = 'utf-8')\n",
    "csv_writer = csv.writer(csv_open)\n",
    "csv_writer.writerow(('star','keyword', 'rv_text')) # 카테고리 키워드"
   ]
  },
  {
   "cell_type": "markdown",
   "id": "3b4ed6dd-0d2b-43e5-b612-ae526eb4e030",
   "metadata": {},
   "source": [
    "# 파일쓰기 및 닫기"
   ]
  },
  {
   "cell_type": "code",
   "execution_count": 8,
   "id": "2bed13b9-ebbc-4025-a7cd-6e4c72a57052",
   "metadata": {},
   "outputs": [
    {
     "name": "stdout",
     "output_type": "stream",
     "text": [
      "5점만점에 3점\n",
      "['지성에 좋아요', '아주 만족해요', '자극없이 순해요']\n",
      "하,, 저처럼 선쿠션 고민하고 또 고민하는 사람들의 위해, 이런 리뷰 안남기는데 도움되시길 바라며 리뷰남길게요. 좋아요 같은거 안눌러도 되구요 그냥 눈팅으로 읽고 참고해주세요. 리뷰엔 왠만해서 '좋다', '이전꺼보다 아쉬운데 좋다'되어있는데 이거 꼭 보세요 ㅠ\n",
      "\n",
      "➡️ 예민, 속건성 피부타임 \n",
      "\n",
      "☑️구매사유\n",
      "기미 레이저치료 진행중이라 하루에 몇번씩 선크림을 발라야하는데,퇴근할 때 되면 옆머리가 기름짐\n",
      "친구가 셀*젼 선쿠션 쓰는데 빌려써봤더니 편하긴하나 얼굴이 건조해져서 다른제품을 알아봄\n",
      "인생 리무버인 식물나라 탄산수  아이리무버, 폼클렌징때문에 식물나라에 마음이 가던 중  극찬의 리뷰랑 1위했다는 문구보고 구매. \n",
      "다만, 리뷰중에 단종되기 전에 제품이 좋다하던데 그건 써본 적도 없고 구할 수 없어서 리뉴얼된걸 구매하러 매장감\n",
      "\n",
      "복숭아톤은 선쿠션과 우유빛톤 선쿠션 두가지 있음\n",
      "복숭아톤은 비비크림 같이 베이지컬러에 커버력 있어서 몇분 고민함\n",
      "\n",
      "테스트할 때 뽀얀쿠션은 커버력 없었음.\n",
      "아무튼 베이지톤 싫어서 뽀얀쿠션인 우유빛 쿠션 구매를 하고 기대하면서(나름 빨리 발라보고싶어서 설렘) 출근하자마자 아침에 발랐음\n",
      "\n",
      "☑️ 장점\n",
      "진짜 동동뜨는 백탁이 아니라서 너무 만족했고, 수분감도 있어서 촉촉하게 발리고, 식물나라 퍼프도 보들보들하고, 눈 화장이 살짝 묻어서 더러워진 부분 바로 손가락으로 미니까 원상복구되길래 만족. 심지어 피부 민감한데 자극없었음 내 나름 정말 잘샀다고 리필형 기획까지 산 나 자신에게 칭찬해줬음\n",
      "\n",
      "-퍼프 보들보들\n",
      "-발랐을 땐 들뜨는 백탁아님\n",
      "-촉촉함(나중엔 건조)\n",
      "\n",
      "☑️ 단점\n",
      "이런,, 맙소사 \n",
      "이거 2번 펌핑한 후 마스크 착용한 채로2시간 지나니까 얼굴에 발린 선쿠션이 다 밀리고 지워지고 얼룩덜룩해지고, 모공보이고 밀린 자국 다 남고, 코 옆 주름에 다 끼이고 최악이네요,,\n",
      "\n",
      "-커버력X\n",
      "-밀림,끼임,뜨는 현상 다 있음\n",
      "-너무 하얗게 되어 머리 묶을 때 목,뒷목 다 발라야함\n",
      "-하얀 제품이라 마스크에 묻는지는 모르겠지만 마스크 닿이는 부분도 다 밀리고 마스크 안에 안 닿여도 막힌 부분은 다 들뜸현상 끼임현상임. (kf94기준)\n",
      "\n",
      "시도때도 없이 덧바르지만 마스크 벗을 때 계속 리터치해야하고,,,두번 다시 살 일 없을 것 같아요...\n",
      "\n",
      "장점에 비해 제가 극혐하는 단점들이 너무 도드라져서 후..사진도 아이폰11프로 후면카메라로 촬영한 보정없는 사진 업로드할게요., 톤 반반 차이나는거도 확인하세요. 아침에 다 바르면 토시오같고 목은 누렇고 얼굴은 하애서 목 졸린 사람 마냥 ㅎ,,,선택은 알아서 하시길,, 저도 기미부분에 테스트해보고 샀으나 부분 테스트와 실제 내가 구매 후 제품을 온전히 발라보는거랑 달라요\n",
      "5점만점에 5점\n",
      "['지성에 좋아요', '아주 만족해요', '자극없이 순해요']\n",
      "아직도 요거 사용하고 있네요\n",
      "막 하얘지지 않아서 아쉽긴 한데 그래도 그냥저냥 괜찮아요 ㅎㅎ\n",
      "5점만점에 5점\n",
      "['복합성에 좋아요', '보통이에요', '자극없이 순해요']\n",
      "우와! 이거 엄청 좋아요! 한 듯 안 한 듯 가벼운 톤업 선케어가 되어 저는 정말 잘 쓰고 있답니다. ❤️❤️\n",
      "\n",
      "✔️구매 이유: 손에 덕지덕지 묻는 선케어가 싫어서 깔끔하게 바를 수 있는 걸 원해서 구매했어요!\n",
      "\n",
      "✔️색상: 저는 2호를 골랐는데요, 하얗게 뜨지 않아서 좋은 것 같아요. 내 피부에 자연스럽게 어우러지면서 톤업이 되는데 봄브라이트 기준 둥둥 뜨지 않았습니다. \n",
      "\n",
      "✔️지속력: 지속력은 그냥인 것 같아요. 원래 선크림은 3시간마다 발라줘야 한다고 하니까 그냥저냥 만족합니다. 현실에서 실제로 3시간마다 바르기 어렵지만 여건이 되신다면 이걸로 편하게 바르실 수 있어요!\n",
      "\n",
      "✔️유분: 수부지인데 유분이 많다는 느낌 없어서 알맞게 잘 사용했어요!☺️☺️\n",
      "\n",
      "재구매: 재구매 할 예정이에요! 마음에 듭니다. 👍👍\n",
      "5점만점에 5점\n",
      "['복합성에 좋아요', '아주 만족해요', '자극없이 순해요']\n",
      "정말좋아하는제품 \n",
      "첫째 자극없이순한제품\n",
      "둘째 시간단축 (출근길 가능 진짜 대박 ㅠㅠ 십분줄임)\n",
      "셋째 손에도 안묻고 넘나편함 ㅠㅠ\n",
      "\n",
      "단점 바르는크림제형보단 가격대가 잇는편 \n",
      "팩트타입이라 그런지 용량이 많지안ㄹ음 금방떨어짐 \n",
      "\n",
      "그래도 넘편햐서 잘쓰구 잇어영 자연스럽고 백탁도앖음\n",
      "5점만점에 5점\n",
      "['건성에 좋아요', '아주 만족해요', '자극없이 순해요']\n",
      "말해 뭐해요\n",
      "지금 몇통째 사용하고 있는지 모르겠어요\n",
      "워낙 두껍게 화장하는 편이 아니라,\n",
      "선쿠션 하나만으로도 엄청 만족하고 있어요\n",
      "\n",
      "리필용만 따로 구입할 수 있었으면 좋겠어요 !!\n",
      "\n",
      "본품만 집에 몇개 있는지ㅜㅜ\n",
      "벌써 8개나 있어요\n",
      "본품통이 너무 아까워요\n",
      "\n",
      "마스크 착용 시 묻어남이 좀 있는데\n",
      "이 부분도 개선되었으면 좋겠어요\n"
     ]
    }
   ],
   "source": [
    "for i in range(1,6):\n",
    "    star = driver.find_element(By.XPATH, f'//*[@id=\"gdasList\"]/li[{i}]/div[2]/div[1]/span[1]').text\n",
    "    print(star)\n",
    "    keyword = [driver.find_element(By.XPATH, f'//*[@id=\"gdasList\"]/li[{i}]/div[2]/div[2]/dl[{j}]/dd/span').text for j in range(1,4)]\n",
    "    print(keyword)\n",
    "    rv_text = driver.find_element(By.XPATH, f'//*[@id=\"gdasList\"]/li[{i}]/div[2]/div[3]').text\n",
    "    print(rv_text)\n",
    "    csv_writer.writerow((star, keyword, rv_text)) # 내용작성\n",
    "    \n",
    "csv_open.close()"
   ]
  },
  {
   "cell_type": "code",
   "execution_count": 9,
   "id": "c23b73ac-946e-4cae-8d12-b9ba036369c4",
   "metadata": {},
   "outputs": [],
   "source": [
    "# 드라이버 닫기\n",
    "driver.close()"
   ]
  },
  {
   "cell_type": "code",
   "execution_count": null,
   "id": "8a89e025-a204-45ee-9d84-9893123ee595",
   "metadata": {},
   "outputs": [],
   "source": []
  }
 ],
 "metadata": {
  "kernelspec": {
   "display_name": "Python 3 (ipykernel)",
   "language": "python",
   "name": "python3"
  },
  "language_info": {
   "codemirror_mode": {
    "name": "ipython",
    "version": 3
   },
   "file_extension": ".py",
   "mimetype": "text/x-python",
   "name": "python",
   "nbconvert_exporter": "python",
   "pygments_lexer": "ipython3",
   "version": "3.9.7"
  }
 },
 "nbformat": 4,
 "nbformat_minor": 5
}
