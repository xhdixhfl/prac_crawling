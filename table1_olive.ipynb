{
 "cells": [
  {
   "cell_type": "markdown",
   "id": "44a500aa-6aa2-4bb2-908f-59adc89eaeba",
   "metadata": {},
   "source": [
    "# 필수 라이브러리 로딩"
   ]
  },
  {
   "cell_type": "code",
   "execution_count": null,
   "id": "7f35c304-563a-413a-83b2-feb662850b8b",
   "metadata": {},
   "outputs": [],
   "source": [
    "# 필수 라이브러리 로딩\n",
    "from selenium import webdriver\n",
    "from selenium.webdriver.chrome.service import Service\n",
    "from selenium.webdriver.common.by import By\n",
    "import csv\n",
    "import time"
   ]
  },
  {
   "cell_type": "markdown",
   "id": "7699d30e-ff8b-46ab-9f9d-7c82b5a469c9",
   "metadata": {},
   "source": [
    "# 링크정보 & path 정보"
   ]
  },
  {
   "cell_type": "code",
   "execution_count": null,
   "id": "135717f4-bc84-4abb-8fa3-378d2b4550a4",
   "metadata": {},
   "outputs": [],
   "source": [
    "# 링크 정리\n",
    "## 스킨케어\n",
    "a = 'https://www.oliveyoung.co.kr/store/display/getCategoryShop.do?dispCatNo=10000010001'\n",
    "## 마스크팩\n",
    "b = 'https://www.oliveyoung.co.kr/store/display/getCategoryShop.do?dispCatNo=10000010009&gateCd=Drawer'\n",
    "## 클렌징\n",
    "c = 'https://www.oliveyoung.co.kr/store/display/getCategoryShop.do?dispCatNo=10000010010&gateCd=Drawer'\n",
    "## 선케어\n",
    "d = 'https://www.oliveyoung.co.kr/store/display/getCategoryShop.do?dispCatNo=10000010011&gateCd=Drawer'"
   ]
  },
  {
   "cell_type": "markdown",
   "id": "46ebfb27-1674-4306-9416-f7ce6e185ed4",
   "metadata": {},
   "source": [
    "- XPATH 링크\n",
    "1. 기초화장품<br>\n",
    "//*[@id=\"Gnb\"]/div[2]/ul/li[1]/a\n",
    "-> 다음링크 누르기가 힘듬\n",
    "\n",
    "2. 스킨케어 페이지<br>\n",
    "링크: https://www.oliveyoung.co.kr/store/display/getCategoryShop.do?dispCatNo=10000010001 <br>\n",
    "토너 '//*[@id=\"Contents\"]/div/div[1]/ul/li[1]/a'<br>\n",
    "에센스 '//*[@id=\"Contents\"]/div/div[1]/ul/li[2]/a'\n",
    "반복 구문\n",
    "'//*[@id=\"Contents\"]/div/div[1]/ul/li[{i}]/a'\n",
    "3. 마스크 페이지<br>\n",
    "링크:\n",
    "https://www.oliveyoung.co.kr/store/display/getCategoryShop.do?dispCatNo=10000010009&gateCd=Drawer<br>\n",
    "코팩 '//*[@id=\"Contents\"]/div/div[1]/ul/li[3]/a'\n",
    "\n",
    "- 카테고리별 선택 링크는 같으니깐 ?? 진짜\n",
    "\n",
    "4. 상품 클릭 페이지\n",
    "- '//*[@id=\"Contents\"]/ul[2]/li[1]/div/a/img' # 1,1 위치\n",
    "- '//*[@id=\"Contents\"]/ul[2]/li[2]/div/a/img' # 옆에꺼\n",
    "- '//*[@id=\"Contents\"]/ul[3]/li[2]/div/a/img' # 밑에칸"
   ]
  },
  {
   "cell_type": "markdown",
   "id": "842ffdf9-d57d-4828-96ba-9e63e5ce6d43",
   "metadata": {},
   "source": [
    "# table1 내용 자동화\n",
    "## 드라이버설정"
   ]
  },
  {
   "cell_type": "code",
   "execution_count": null,
   "id": "4e316a6b-c30c-4228-9a63-677e675190f0",
   "metadata": {},
   "outputs": [],
   "source": [
    "# driver 설정\n",
    "## 첫화면\n",
    "URL = 'https://www.oliveyoung.co.kr/store/main/main.do?oy=0'\n",
    "ops = webdriver.ChromeOptions()\n",
    "ops.add_experimental_option('excludeSwitches', ['enable-logging'])\n",
    "\n",
    "sv = Service(executable_path= 'C:\\\\Users\\\\admin\\\\Downloads\\\\chroemdriver')\n",
    "driver = webdriver.Chrome(service=sv, options=ops)\n",
    "\n",
    "driver.get(url=URL)"
   ]
  },
  {
   "cell_type": "markdown",
   "id": "869bbc05-b094-4bb8-bc18-b2184966cd01",
   "metadata": {
    "tags": []
   },
   "source": [
    "## 파일 설정"
   ]
  },
  {
   "cell_type": "code",
   "execution_count": null,
   "id": "463c02fe-feda-4b15-a406-8f7d70bc5aee",
   "metadata": {},
   "outputs": [],
   "source": [
    "## csv파일생성\n",
    "csv_filename = 'gicho_prac1.csv' # 스킨케어_토너/로션/올인원\n",
    "csv_open = open(csv_filename, 'w+', encoding = 'utf-8')\n",
    "csv_writer = csv.writer(csv_open)\n",
    "csv_writer.writerow(('brand','pname','price','star','cate'))\n",
    "\n",
    "# 한번에 두가지 파일작성은 안됨"
   ]
  },
  {
   "cell_type": "code",
   "execution_count": null,
   "id": "3d81674a-3d4a-4979-b50a-391965cea036",
   "metadata": {},
   "outputs": [],
   "source": [
    "cateList = [a, b, c]\n",
    "\n",
    "# 동일 카테고리수 부분 자료 쓰기\n",
    "for idx, n in enumerate(cateList):\n",
    "    # 구하고자하는 카테고리 들어가기\n",
    "    driver.get(url = n) # 스킨케어 페이지\n",
    "# 다른 페이지 클릭하기 \n",
    "    driver.find_element(By.XPATH,f'//*[@id=\"Contents\"]/div/div[1]/ul/li[{idx+1}]/a').click()\n",
    "    cate = driver.find_element(By.XPATH,'//*[@id=\"Contents\"]/p').text\n",
    "    for i in range(1, 4):\n",
    "        for j in range(1,5):\n",
    "            driver.find_element(By.XPATH,f'//*[@id=\"Contents\"]/ul[{i+1}]/li[{j}]/div/a/img').click()\n",
    "            brand = driver.find_element(By.XPATH,'//*[@id=\"Contents\"]/div[2]/div[2]/div/p[1]').text\n",
    "            pname = driver.find_element(By.XPATH,'//*[@id=\"Contents\"]/div[2]/div[2]/div/p[2]').text\n",
    "            price = driver.find_element(By.XPATH,'//*[@id=\"Contents\"]/div[2]/div[2]/div/div[1]').text\n",
    "            star = driver.find_element(By.XPATH,'//*[@id=\"repReview\"]').text\n",
    "            csv_writer.writerow((brand, pname, price, star, cate))\n",
    "            print((i,j))\n",
    "            time.sleep(1)\n",
    "            driver.back()\n"
   ]
  },
  {
   "cell_type": "code",
   "execution_count": null,
   "id": "05ce3436-a08a-414d-abda-293a7dd95d8e",
   "metadata": {},
   "outputs": [],
   "source": [
    "driver.get(url = d)  \n",
    "for k in range(1, 3):\n",
    "    \n",
    "    driver.find_element(By.XPATH,f'//*[@id=\"Contents\"]/div/div[1]/ul/li[{k}]/a').click()\n",
    "    cate = driver.find_element(By.XPATH,'//*[@id=\"Contents\"]/p').text\n",
    "    for i in range(1, 4):\n",
    "        for j in range(1,5):\n",
    "            driver.find_element(By.XPATH,f'//*[@id=\"Contents\"]/ul[{i+1}]/li[{j}]/div/a/img').click()\n",
    "            brand = driver.find_element(By.XPATH,'//*[@id=\"Contents\"]/div[2]/div[2]/div/p[1]').text\n",
    "            pname = driver.find_element(By.XPATH,'//*[@id=\"Contents\"]/div[2]/div[2]/div/p[2]').text\n",
    "            price = driver.find_element(By.XPATH,'//*[@id=\"Contents\"]/div[2]/div[2]/div/div[1]').text\n",
    "            star = driver.find_element(By.XPATH,'//*[@id=\"repReview\"]').text\n",
    "            csv_writer.writerow((brand, pname, price, star, cate))\n",
    "            print((i,j))\n",
    "            time.sleep(1)\n",
    "            driver.back()\n",
    "# 파일닫기\n",
    "csv_open.close()"
   ]
  }
 ],
 "metadata": {
  "kernelspec": {
   "display_name": "Python 3 (ipykernel)",
   "language": "python",
   "name": "python3"
  },
  "language_info": {
   "codemirror_mode": {
    "name": "ipython",
    "version": 3
   },
   "file_extension": ".py",
   "mimetype": "text/x-python",
   "name": "python",
   "nbconvert_exporter": "python",
   "pygments_lexer": "ipython3",
   "version": "3.9.7"
  }
 },
 "nbformat": 4,
 "nbformat_minor": 5
}
