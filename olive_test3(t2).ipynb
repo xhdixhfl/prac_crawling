{
 "cells": [
  {
   "cell_type": "code",
   "execution_count": 1,
   "id": "9151753a-1971-4b99-852c-ee5326dab84e",
   "metadata": {},
   "outputs": [],
   "source": [
    "# 필수 라이브러리 로딩\n",
    "from selenium import webdriver\n",
    "from selenium.webdriver.chrome.service import Service\n",
    "from selenium.webdriver.common.by import By\n",
    "import csv\n",
    "import time"
   ]
  },
  {
   "cell_type": "code",
   "execution_count": 4,
   "id": "7fd5cbc8-5959-4902-80a2-c6625a7cece8",
   "metadata": {},
   "outputs": [
    {
     "ename": "NoSuchElementException",
     "evalue": "Message: no such element: Unable to locate element: {\"method\":\"xpath\",\"selector\":\"//*[@id=\"reviewInfo\"]/a\"}\n  (Session info: chrome=109.0.5414.75)\nStacktrace:\nBacktrace:\n\t(No symbol) [0x004C6643]\n\t(No symbol) [0x0045BE21]\n\t(No symbol) [0x0035DA9D]\n\t(No symbol) [0x00391342]\n\t(No symbol) [0x0039147B]\n\t(No symbol) [0x003C8DC2]\n\t(No symbol) [0x003AFDC4]\n\t(No symbol) [0x003C6B09]\n\t(No symbol) [0x003AFB76]\n\t(No symbol) [0x003849C1]\n\t(No symbol) [0x00385E5D]\n\tGetHandleVerifier [0x0073A142+2497106]\n\tGetHandleVerifier [0x007685D3+2686691]\n\tGetHandleVerifier [0x0076BB9C+2700460]\n\tGetHandleVerifier [0x00573B10+635936]\n\t(No symbol) [0x00464A1F]\n\t(No symbol) [0x0046A418]\n\t(No symbol) [0x0046A505]\n\t(No symbol) [0x0047508B]\n\tBaseThreadInitThunk [0x776400F9+25]\n\tRtlGetAppContainerNamedObjectPath [0x779E7BBE+286]\n\tRtlGetAppContainerNamedObjectPath [0x779E7B8E+238]\n",
     "output_type": "error",
     "traceback": [
      "\u001b[1;31m---------------------------------------------------------------------------\u001b[0m",
      "\u001b[1;31mNoSuchElementException\u001b[0m                    Traceback (most recent call last)",
      "\u001b[1;32m~\\AppData\\Local\\Temp/ipykernel_10836/2782796710.py\u001b[0m in \u001b[0;36m<module>\u001b[1;34m\u001b[0m\n\u001b[0;32m      8\u001b[0m \u001b[1;33m\u001b[0m\u001b[0m\n\u001b[0;32m      9\u001b[0m \u001b[0mdriver\u001b[0m\u001b[1;33m.\u001b[0m\u001b[0mget\u001b[0m\u001b[1;33m(\u001b[0m\u001b[0murl\u001b[0m\u001b[1;33m=\u001b[0m\u001b[0mURL\u001b[0m\u001b[1;33m)\u001b[0m\u001b[1;33m\u001b[0m\u001b[1;33m\u001b[0m\u001b[0m\n\u001b[1;32m---> 10\u001b[1;33m \u001b[0mdriver\u001b[0m\u001b[1;33m.\u001b[0m\u001b[0mfind_element\u001b[0m\u001b[1;33m(\u001b[0m\u001b[0mBy\u001b[0m\u001b[1;33m.\u001b[0m\u001b[0mXPATH\u001b[0m\u001b[1;33m,\u001b[0m\u001b[1;34mf'//*[@id=\"reviewInfo\"]/a'\u001b[0m\u001b[1;33m)\u001b[0m\u001b[1;33m.\u001b[0m\u001b[0mclick\u001b[0m\u001b[1;33m(\u001b[0m\u001b[1;33m)\u001b[0m\u001b[1;33m(\u001b[0m\u001b[1;33m)\u001b[0m\u001b[1;33m\u001b[0m\u001b[1;33m\u001b[0m\u001b[0m\n\u001b[0m",
      "\u001b[1;32mC:\\Anaconda3\\lib\\site-packages\\selenium\\webdriver\\remote\\webdriver.py\u001b[0m in \u001b[0;36mfind_element\u001b[1;34m(self, by, value)\u001b[0m\n\u001b[0;32m    859\u001b[0m             \u001b[0mvalue\u001b[0m \u001b[1;33m=\u001b[0m \u001b[1;34m'[name=\"%s\"]'\u001b[0m \u001b[1;33m%\u001b[0m \u001b[0mvalue\u001b[0m\u001b[1;33m\u001b[0m\u001b[1;33m\u001b[0m\u001b[0m\n\u001b[0;32m    860\u001b[0m \u001b[1;33m\u001b[0m\u001b[0m\n\u001b[1;32m--> 861\u001b[1;33m         \u001b[1;32mreturn\u001b[0m \u001b[0mself\u001b[0m\u001b[1;33m.\u001b[0m\u001b[0mexecute\u001b[0m\u001b[1;33m(\u001b[0m\u001b[0mCommand\u001b[0m\u001b[1;33m.\u001b[0m\u001b[0mFIND_ELEMENT\u001b[0m\u001b[1;33m,\u001b[0m \u001b[1;33m{\u001b[0m\u001b[1;34m\"using\"\u001b[0m\u001b[1;33m:\u001b[0m \u001b[0mby\u001b[0m\u001b[1;33m,\u001b[0m \u001b[1;34m\"value\"\u001b[0m\u001b[1;33m:\u001b[0m \u001b[0mvalue\u001b[0m\u001b[1;33m}\u001b[0m\u001b[1;33m)\u001b[0m\u001b[1;33m[\u001b[0m\u001b[1;34m\"value\"\u001b[0m\u001b[1;33m]\u001b[0m\u001b[1;33m\u001b[0m\u001b[1;33m\u001b[0m\u001b[0m\n\u001b[0m\u001b[0;32m    862\u001b[0m \u001b[1;33m\u001b[0m\u001b[0m\n\u001b[0;32m    863\u001b[0m     \u001b[1;32mdef\u001b[0m \u001b[0mfind_elements\u001b[0m\u001b[1;33m(\u001b[0m\u001b[0mself\u001b[0m\u001b[1;33m,\u001b[0m \u001b[0mby\u001b[0m\u001b[1;33m=\u001b[0m\u001b[0mBy\u001b[0m\u001b[1;33m.\u001b[0m\u001b[0mID\u001b[0m\u001b[1;33m,\u001b[0m \u001b[0mvalue\u001b[0m\u001b[1;33m:\u001b[0m \u001b[0mOptional\u001b[0m\u001b[1;33m[\u001b[0m\u001b[0mstr\u001b[0m\u001b[1;33m]\u001b[0m \u001b[1;33m=\u001b[0m \u001b[1;32mNone\u001b[0m\u001b[1;33m)\u001b[0m \u001b[1;33m->\u001b[0m \u001b[0mList\u001b[0m\u001b[1;33m[\u001b[0m\u001b[0mWebElement\u001b[0m\u001b[1;33m]\u001b[0m\u001b[1;33m:\u001b[0m\u001b[1;33m\u001b[0m\u001b[1;33m\u001b[0m\u001b[0m\n",
      "\u001b[1;32mC:\\Anaconda3\\lib\\site-packages\\selenium\\webdriver\\remote\\webdriver.py\u001b[0m in \u001b[0;36mexecute\u001b[1;34m(self, driver_command, params)\u001b[0m\n\u001b[0;32m    442\u001b[0m         \u001b[0mresponse\u001b[0m \u001b[1;33m=\u001b[0m \u001b[0mself\u001b[0m\u001b[1;33m.\u001b[0m\u001b[0mcommand_executor\u001b[0m\u001b[1;33m.\u001b[0m\u001b[0mexecute\u001b[0m\u001b[1;33m(\u001b[0m\u001b[0mdriver_command\u001b[0m\u001b[1;33m,\u001b[0m \u001b[0mparams\u001b[0m\u001b[1;33m)\u001b[0m\u001b[1;33m\u001b[0m\u001b[1;33m\u001b[0m\u001b[0m\n\u001b[0;32m    443\u001b[0m         \u001b[1;32mif\u001b[0m \u001b[0mresponse\u001b[0m\u001b[1;33m:\u001b[0m\u001b[1;33m\u001b[0m\u001b[1;33m\u001b[0m\u001b[0m\n\u001b[1;32m--> 444\u001b[1;33m             \u001b[0mself\u001b[0m\u001b[1;33m.\u001b[0m\u001b[0merror_handler\u001b[0m\u001b[1;33m.\u001b[0m\u001b[0mcheck_response\u001b[0m\u001b[1;33m(\u001b[0m\u001b[0mresponse\u001b[0m\u001b[1;33m)\u001b[0m\u001b[1;33m\u001b[0m\u001b[1;33m\u001b[0m\u001b[0m\n\u001b[0m\u001b[0;32m    445\u001b[0m             \u001b[0mresponse\u001b[0m\u001b[1;33m[\u001b[0m\u001b[1;34m\"value\"\u001b[0m\u001b[1;33m]\u001b[0m \u001b[1;33m=\u001b[0m \u001b[0mself\u001b[0m\u001b[1;33m.\u001b[0m\u001b[0m_unwrap_value\u001b[0m\u001b[1;33m(\u001b[0m\u001b[0mresponse\u001b[0m\u001b[1;33m.\u001b[0m\u001b[0mget\u001b[0m\u001b[1;33m(\u001b[0m\u001b[1;34m\"value\"\u001b[0m\u001b[1;33m,\u001b[0m \u001b[1;32mNone\u001b[0m\u001b[1;33m)\u001b[0m\u001b[1;33m)\u001b[0m\u001b[1;33m\u001b[0m\u001b[1;33m\u001b[0m\u001b[0m\n\u001b[0;32m    446\u001b[0m             \u001b[1;32mreturn\u001b[0m \u001b[0mresponse\u001b[0m\u001b[1;33m\u001b[0m\u001b[1;33m\u001b[0m\u001b[0m\n",
      "\u001b[1;32mC:\\Anaconda3\\lib\\site-packages\\selenium\\webdriver\\remote\\errorhandler.py\u001b[0m in \u001b[0;36mcheck_response\u001b[1;34m(self, response)\u001b[0m\n\u001b[0;32m    247\u001b[0m                 \u001b[0malert_text\u001b[0m \u001b[1;33m=\u001b[0m \u001b[0mvalue\u001b[0m\u001b[1;33m[\u001b[0m\u001b[1;34m\"alert\"\u001b[0m\u001b[1;33m]\u001b[0m\u001b[1;33m.\u001b[0m\u001b[0mget\u001b[0m\u001b[1;33m(\u001b[0m\u001b[1;34m\"text\"\u001b[0m\u001b[1;33m)\u001b[0m\u001b[1;33m\u001b[0m\u001b[1;33m\u001b[0m\u001b[0m\n\u001b[0;32m    248\u001b[0m             \u001b[1;32mraise\u001b[0m \u001b[0mexception_class\u001b[0m\u001b[1;33m(\u001b[0m\u001b[0mmessage\u001b[0m\u001b[1;33m,\u001b[0m \u001b[0mscreen\u001b[0m\u001b[1;33m,\u001b[0m \u001b[0mstacktrace\u001b[0m\u001b[1;33m,\u001b[0m \u001b[0malert_text\u001b[0m\u001b[1;33m)\u001b[0m  \u001b[1;31m# type: ignore[call-arg]  # mypy is not smart enough here\u001b[0m\u001b[1;33m\u001b[0m\u001b[1;33m\u001b[0m\u001b[0m\n\u001b[1;32m--> 249\u001b[1;33m         \u001b[1;32mraise\u001b[0m \u001b[0mexception_class\u001b[0m\u001b[1;33m(\u001b[0m\u001b[0mmessage\u001b[0m\u001b[1;33m,\u001b[0m \u001b[0mscreen\u001b[0m\u001b[1;33m,\u001b[0m \u001b[0mstacktrace\u001b[0m\u001b[1;33m)\u001b[0m\u001b[1;33m\u001b[0m\u001b[1;33m\u001b[0m\u001b[0m\n\u001b[0m",
      "\u001b[1;31mNoSuchElementException\u001b[0m: Message: no such element: Unable to locate element: {\"method\":\"xpath\",\"selector\":\"//*[@id=\"reviewInfo\"]/a\"}\n  (Session info: chrome=109.0.5414.75)\nStacktrace:\nBacktrace:\n\t(No symbol) [0x004C6643]\n\t(No symbol) [0x0045BE21]\n\t(No symbol) [0x0035DA9D]\n\t(No symbol) [0x00391342]\n\t(No symbol) [0x0039147B]\n\t(No symbol) [0x003C8DC2]\n\t(No symbol) [0x003AFDC4]\n\t(No symbol) [0x003C6B09]\n\t(No symbol) [0x003AFB76]\n\t(No symbol) [0x003849C1]\n\t(No symbol) [0x00385E5D]\n\tGetHandleVerifier [0x0073A142+2497106]\n\tGetHandleVerifier [0x007685D3+2686691]\n\tGetHandleVerifier [0x0076BB9C+2700460]\n\tGetHandleVerifier [0x00573B10+635936]\n\t(No symbol) [0x00464A1F]\n\t(No symbol) [0x0046A418]\n\t(No symbol) [0x0046A505]\n\t(No symbol) [0x0047508B]\n\tBaseThreadInitThunk [0x776400F9+25]\n\tRtlGetAppContainerNamedObjectPath [0x779E7BBE+286]\n\tRtlGetAppContainerNamedObjectPath [0x779E7B8E+238]\n"
     ]
    }
   ],
   "source": [
    "# driver 설정\n",
    "URL = 'https://www.oliveyoung.co.kr/store/main/main.do?oy=0'\n",
    "ops = webdriver.ChromeOptions()\n",
    "ops.add_experimental_option('excludeSwitches', ['enable-logging'])\n",
    "\n",
    "sv = Service(executable_path= 'C:\\\\Users\\\\admin\\\\Downloads\\\\chroemdriver')\n",
    "driver = webdriver.Chrome(service=sv, options=ops)\n",
    "\n",
    "driver.get(url=URL)\n",
    "#driver.find_element(By.XPATH,f'//*[@id=\"reviewInfo\"]/a').click()"
   ]
  },
  {
   "cell_type": "code",
   "execution_count": 7,
   "id": "499be7bd-ddad-47f8-b1b3-69dba3f53b26",
   "metadata": {},
   "outputs": [],
   "source": [
    "driver.find_element(By.XPATH, '//*[@id=\"filterBtn\"]').click()"
   ]
  },
  {
   "cell_type": "code",
   "execution_count": 8,
   "id": "0775fa73-5d2f-4d15-9757-357128619135",
   "metadata": {},
   "outputs": [],
   "source": [
    "# star 1 : //*[@id=\"searchPoint\"]/li[6]/label\n",
    "# star 5 : //*[@id=\"searchPoint\"]/li[2]/label\n",
    "# appl : //*[@id=\"btnFilterConfirm\"]\n",
    "\n",
    "driver.find_element(By.XPATH, '//*[@id=\"searchPoint\"]/li[6]/label').click()"
   ]
  },
  {
   "cell_type": "code",
   "execution_count": 9,
   "id": "e2bcda07-3324-4684-8fff-130badf60720",
   "metadata": {},
   "outputs": [],
   "source": [
    "driver.find_element(By.XPATH, '//*[@id=\"btnFilterConfirm\"]').click()\n",
    "## 이렇게 별점 조절하면 되겠다."
   ]
  },
  {
   "cell_type": "code",
   "execution_count": 10,
   "id": "16ae58ae-355a-47b6-b4b8-dbc02858c400",
   "metadata": {
    "collapsed": true,
    "jupyter": {
     "outputs_hidden": true
    },
    "tags": []
   },
   "outputs": [
    {
     "name": "stdout",
     "output_type": "stream",
     "text": [
      "__1__\n",
      "5점만점에 1점\n",
      "['복합성에 좋아요', '보습에 좋아요', '자극이 느껴져요']\n",
      "좋은 후기가 많아서 보고 구매했는데 제 피부에 너무 안 맞아서 슬프네요. 수분 부족으로 가끔 확 붉어지는 예민한 뺨이 스트레스여서 여러 상품 써보는 중인데 넘버즈인 스킨과 에센스 둘 다 구매했는데, 진정되어 있던 피부에 세안후 써보니 자극적이고 우둘투둘 전부 피부 뒤집어지듯 올라오고 자글자글 가렵고 코까지 빨개지고 피부도 붉어져요. \n",
      "바를 때의 발림성은 나쁘지 않은데 여러번 바를 수록 특유의 할머니 로션 같은 한약같은 강한 향이 있어서 호불호가 크게 있을 듯 합니다. 개인적으로는 진짜 너무 안 좋아서 평가에 별 하나도 아까워요 휴..\n",
      "__2__\n",
      "5점만점에 1점\n",
      "['지성에 좋아요', '주름/미백에 좋아요', '자극이 느껴져요']\n",
      "복합성피부, 수부지, 겨울철 보습 위주 스킨케어\n",
      "\n",
      "발효성분 안맞는 사람들은 주의하라는 리뷰를 봤는데 그게 저일줄은 몰랐네요 ㅠㅠ 쓰고 몇시간 후부터 피부에 사진처럼 두드러기 같은게 올라오고 피부 속까지 당겨요... 평소와 똑같이 스킨케어 하고 이제품만 추가했는데 피부에 문제가 있는거 보면 3번 토너가 문제가 맞는 것 같아요. 리뷰에 좋은 말 밖에 없는데 성분 잘 보고 구매하셔야 될것 같아요. 피부 너무 당겨 참을 수 없어서 세수 다하고 다시 기초케어 했더니 다시 괜찮아졌습니다.\n",
      "\n",
      "참고로 전 극민감성 피부는 아닙니다. 토너 자체가 묵직하게 점성이 있어서 강력한 보습을 원하시는 분들께는 좋은 제품이 될 수도 있을것 같네요. 실제로 주변에 극건조 피부이신 지인은 좋게 사용하는걸 보긴했어요.\n",
      "__3__\n",
      "5점만점에 1점\n",
      "['복합성에 좋아요', '진정에 좋아요', '보통이에요']\n",
      "후... 유투버 추천 보고 샀는데 썼을때 초반에 좁쌀 여드름이 쫘르르 생기길래 초반에만 그런가했는데 \n",
      "다른거로 열심히 관리해서 피부 괜찮아져서 다시 썼는데 다시 좁쌀 생겨ㅡㅡ버린다.\n",
      "__4__\n",
      "5점만점에 1점\n",
      "['건성에 좋아요', '주름/미백에 좋아요', '자극이 느껴져요']\n",
      "발효화장품 안 맞는 분들은 조심하세요!\n",
      "저 이거 바르고 얼굴에 홍조 심하게 올라오고\n",
      "열감이 너무 느껴지고 붉은 반점도 올라와서 피부과 다녀왔네요,,\n",
      "원인이 이 화장품인줄은 몰랐는데, 피부과에서 처방받은 로션 바르고 이거 안바르니까 피부 가라앉았어요ㅠ\n",
      "__5__\n",
      "5점만점에 1점\n",
      "['건성에 좋아요', '보습에 좋아요', '자극이 느껴져요']\n",
      "토너와 에센스 사이 제형이에요. 생각했던 것보다 속건조를 꽉잡아주는 느낌이 없어서 그냥 스킨팩 정도로만 쓰고 있습니다. 그러다 보니 팍팍 줄어드네요 ㅜㅜ 보습을 생각한다면 그냥 앰플을 살것 같습니다\n",
      "__6__\n",
      "5점만점에 1점\n",
      "['건성에 좋아요', '보습에 좋아요', '자극없이 순해요']\n",
      "너무 끈적거려요.  흡수돼도 겉도는 느낌이 남아있어 다음 단계로 넘어갈때 개운치 못해요.  크림을 덕지덕지 발라도 여드름 안나는 피부인데, 이 스킨은 뭐가 들어갔는지 여드름도 나요. 발효성분도 잘 맞는편인데.... 피부결도 잡아주지 못하는 느낌입니다. 그냥 개운치 못한 스킨 첫단계가 저에게 무리인듯요.....\n",
      "__7__\n",
      "5점만점에 1점\n",
      "['건성에 좋아요', '보습에 좋아요', '자극없이 순해요']\n",
      "수정,,, 사고 매일 사용 했는데 여드름이 폭발하네요.. 사용감은 참 만족스러웠는데.. 재구매의사 없어요. \n",
      "\n",
      "◾️향은 조금 쎈편 .\n",
      "◾️제형은 물스킨에 가까운편. \n",
      " 아주 라이트한 물스킨보다는 무거운데, 또 콧물 스킨의 점도는 아니라 그냥 약간 미끌한 물스킨 느낌. \n",
      "◾️닦토, 챱토, 스킨팩 멀티로 활용가능. \n",
      "◾️발효성분에 대한 호불호 있을수 있음. \n",
      "\n",
      "저같은 경우는, 제형을 좀 타요. \n",
      "원래는 한겨울에도 ㅋㄹㄴㅋ 소주스킨만 사용해도 건조함을 모르는 강철피부 였는데. 작년부터 찢어질듯한 건조함에 보습제를 찾아 다니게 되더라구요. 근데 아직도 얼굴이 보습제가 익숙하지가 않아서 그런지 어떤 크림이건 온 얼굴에 바르면  막 간지럽고 답답하고 불편해요. \n",
      "그래서 저는 토너나 워터에센스 제형을 여러겹 올리는걸 선호 하는데, 그에 완전 적합하긴 합니다. \n",
      "요즘 이걸로 닦고 챱챱 먹이고, 패드에도 적셔서 하고 다 하고 있어요. 화장대 위에 얘 하나만 있으면 끝나네요 ㅋㅋ 피부에 잘먹고 촉촉 하면서 피부가 말랑말랑 연해지는 느낌.\n",
      "__8__\n",
      "5점만점에 1점\n",
      "['복합성에 좋아요', '보습에 좋아요', '자극이 느껴져요']\n",
      "이 제품 쓰면 피부 결은 부드러운데 홍조랑 열감 심해지고\n",
      "각질이 닦이는게 아니라 덮혀서 화장 다 떠요\n",
      "__9__\n",
      "5점만점에 1점\n",
      "['건성에 좋아요', '보습에 좋아요', '자극없이 순해요']\n",
      "전 수부지인데 항상 물같은 제형의 토너만 사용하다가 겨울이 다가오면서 건조함이 느껴져 콧물제형으로 한번 바꿔보자 싶어서 처음 써본 토너인데 저하고는 잘 안 맞네요... 턱드름이 너무 올라왔어요 아프고 땡땡붓는... 놀라서 끊었더니 바로 가라앉았네요 다시 물토너로 돌아가야겠어여 ㅠㅠㅠㅔ\n",
      "__10__\n",
      "5점만점에 1점\n",
      "['건성에 좋아요', '보습에 좋아요', '자극이 느껴져요']\n",
      "저는 지성 민감성 피부에요! 유튜브에서 추천을 많이 해서 사봤는데 이거 바르자마자 다음 날 오돌토돌 뾰루지 얼굴 전체적으로 올라왔어요ㅠㅠ 기대 많이 했는데.. 너무 아쉽네요ㅠ 제 피부가 이런 발효성분들이랑 안 맞나봐요. 다른 분들도 구매하시기 전에 내 피부가 발효성분이랑 맞는지 안 맞는지 꼭 확인하고 구매하시는 게 좋을 것 같아요!!\n"
     ]
    }
   ],
   "source": [
    "# 10개씩은 가능함.\n",
    "for i in range(1,11):\n",
    "    print(f'__{i}__')\n",
    "    star = driver.find_element(By.XPATH, f'//*[@id=\"gdasList\"]/li[{i}]/div[2]/div[1]/span[1]').text\n",
    "    print(star)\n",
    "    keyword = [driver.find_element(By.XPATH, f'//*[@id=\"gdasList\"]/li[{i}]/div[2]/div[2]/dl[{j}]/dd/span').text for j in range(1,4)]\n",
    "    print(keyword)\n",
    "    rv_text = driver.find_element(By.XPATH, f'//*[@id=\"gdasList\"]/li[{i}]/div[2]/div[3]').text\n",
    "    print(rv_text)"
   ]
  },
  {
   "cell_type": "code",
   "execution_count": 6,
   "id": "1fc80262-9688-45b9-967d-911749372869",
   "metadata": {
    "collapsed": true,
    "jupyter": {
     "outputs_hidden": true
    },
    "tags": []
   },
   "outputs": [
    {
     "name": "stdout",
     "output_type": "stream",
     "text": [
      "__1__\n",
      "5점만점에 5점\n",
      "['건성에 좋아요', '보습에 좋아요', '자극없이 순해요']\n",
      "겨울철이라 피부결 관리를 하고 싶어서 이전에 패드기획전 때부터 사보고 싶었던 넘버즈인 3번 제품을 픽!\n",
      "이번 올영어워즈 기회에 유명한 토너를 구매해봤습니다. 기대됩니다.\n",
      "후르디아 바디로션과 향이 비슷해요.\n",
      "흐르는 물토너 제형이 아니고 약간 점성이 있는데 부드럽고 촉촉해요.\n",
      "__2__\n",
      "5점만점에 4점\n",
      "['건성에 좋아요', '보습에 좋아요', '자극없이 순해요']\n",
      "원채 토너를 잘 쓰지않는 편인데요\n",
      "평소 세안 후 패드로 피부결 정리후 바로 크림단계로 가는 스타일인데 이게 그렇게도 유명하다고해서..ㅎ 유명세 따라 구매해봤어요\n",
      "내 피부는 내가 관리해야하니까  이제는 토너로 속 수분감도 채워주려구요 증정품은 굉장히 미니미합니당ㅎ\n",
      "__3__\n",
      "5점만점에 5점\n",
      "['건성에 좋아요', '보습에 좋아요', '자극없이 순해요']\n",
      "🧡기존에 사용하던 토너가 좀 라이트 하게 느껴져서\n",
      "겨울용 토너로 넘버즈인 결광가득 에센스 토너를 구매하였어요\n",
      "\n",
      "✅발림성\n",
      "점성있는 에센스 토너임에도 마무리감이 산뜻합니다\n",
      "끈적임이 거의 없고 흡수가 빠릅니다\n",
      "\n",
      "✅효과\n",
      "▪️푸석푸석하고 거칠었던 피부가 아기 궁둥이처럼 보들보들해졌어요!\n",
      "▪️피부결이 좋아지면서 피부에서 광이 나요\n",
      "▪️피부가 팽팽해진 느낌을 받았습니다\n",
      "▪️세번 레이어링 하니 속건조가 잘 잡힙니다\n",
      "▪️전 날 에센스토너 바르고 잤더니 다음날 화장이 잘 먹더라구요\n",
      "▪️지인은 이 제품 3주째 바르니 피부 재생이 되어 화이트닝 효과가 있었고 잡티가 많이 개선되었다고 합니다.\n",
      "\n",
      "✅사용팁\n",
      "화장솜에 묻혀서 토너팩으로 활용해보세요!\n",
      "\n",
      "✅주의 사항\n",
      "▪️50가지 발효 성분을 담아 농축 에센스를 바른 듯\n",
      "얼굴에 결광을 채워주는 발효 에센스 토너로\n",
      "처음엔 제품이 따갑게 느껴질 수 있어요\n",
      "바르다보면 괜찮으니 써보세요\n",
      "▪️발효성분이 안맞는 분들은 테스트 후 사용하세요\n",
      "\n",
      "마음에 드는 토너였습니다\n",
      "추천드려요🫶\n",
      "\n",
      "💟저의 리뷰가 도움되셨다면 따봉👍 꾸욱 부탁드려요\n",
      "저의 다른 리뷰들도 구경하러 오세요\n",
      "득템을 도와드릴게요💗\n",
      "__4__\n",
      "5점만점에 5점\n",
      "['건성에 좋아요', '보습에 좋아요', '자극없이 순해요']\n",
      "1. 제형 - 물보단 에센스 제형이고 바르고 나면 즉각적으로 결개선 효과 있어요. 여름에는 살짝 무거울 수 있겠어요\n",
      "2. 효과 - 결토너중에는 최고였어요. 각질을 제거해서 결개선을 하는게 아니라 보습을 충분히 해줘서 되는 결개선이에요\n",
      "3. 트러블 - 살짝 답답한 느낌이 들었는데도 트러블 하나도 안생겼어요. \n",
      "\n",
      "발효성분 토너 입문템으로 좋은 토너에요. 꾸준히 사용할 듯 해요\n",
      "__5__\n",
      "5점만점에 5점\n",
      "['건성에 좋아요', '보습에 좋아요', '자극없이 순해요']\n",
      "💛 넘버즈인 3번 토너 후기 💛\n",
      "\n",
      "결광토너라는 이름에 걸맞게 피부 속부터 은은하게 윤광이 돌고 피부결 개선에 큰 도움이 된 제품이였어요\n",
      "__6__\n",
      "5점만점에 5점\n",
      "['복합성에 좋아요', '주름/미백에 좋아요', '자극없이 순해요']\n",
      "넘버즈인 3번 토너 또는 3번 결세럼 가득 만들었다는 글 많이 봤었거든요?😄 그래서 처음엔 토너 뭐 별거 있나 하는 생각에 세럼이지!!하는 마음에 결세럼 주문 완료했었어요. 그런데,, 뭔가 토너가 계속 밟혀서 결세럼 취소하고 토너를 구매하게 되었습니다.\n",
      "\n",
      "결과적으로 아주~~ 아주~~ 잘한 선택이었어요ㅠㅠ💜\n",
      "\n",
      "📍 구매이유 : 결 정리 밑 모공 관리되는 것 같다는 글이 하도 많이 보여서ㅎㅎ 속는 셈 치고 구매하게 됨\n",
      "\n",
      "📍 장점 : 진짜 피부 결이 맑아지고 결이 정리되고, 모공이 늘어나지 않고 잘 관리되는 것 같이 느껴집니다..!\n",
      "+ 수분감도 가득채워져요!\n",
      "(사진 보시면 아시겠지만, 아직 반도 비운 지 않았는데, 이걸 느끼고 있다면 한병 다 비웠을 땐 어떨지 기대가 됩니다)\n",
      "\n",
      "📍사용법 : 닦토 안하고 저는 그냥 손바닥에 토너 두고 얼굴에 찹찹 발라요!! 이걸 세번 반복합니다!!!!!! \n",
      "\n",
      "📍제형 : 물 제형은 아닙니다! 약간 묽은 듯하지만 물 제형은 아닌.. 그런 제형ㅎㅎ\n",
      "\n",
      "📍향 : 발효성분 많아서 그런가 뭔가… 향이 특이하고 강해요. 그런데 막 인위적으로 머리 아픈 향은 아니라 저는 괜찮았어요!\n",
      "__7__\n",
      "5점만점에 5점\n",
      "['건성에 좋아요', '보습에 좋아요', '자극없이 순해요']\n",
      "항상 믿고 쓰는 넘버즈원 결광토너!!\n",
      "지난 여름 좀 더 가벼운 찰떡토너를 썼었는데 아직 남아있어서 계속 사용중이였거든요.\n",
      "근데 기초관리를 아무리 해줘도 피부가 당기길래 다시 3번 결광토너로 돌아왔어요...\n",
      "역시 가을, 겨울에 사용하기 좋은 너란 녀석..\n",
      "내가 늦었지..? 널 다시 만나고 피부가 당기지 않아 너무 행복하구나🥺🥺🥺\n",
      "\n",
      "여튼 그렇게 돌아왔는데 아니.. 대용량이라니요...?\n",
      "고객의 심리를 이렇게 잘 알아주시다니 너무 좋다구요!!!\n",
      "냅다 대용량으로 질러버렸쟈냐🤍🤍🤍\n",
      "\n",
      "보습 잘되는 3번 결광토너 다들 지금 꼭 사세요.\n",
      "저 수부지에 민감 피부인데 이건 트러블 1도 안나서 정착했던 토너에요.\n",
      "\n",
      "요즘 같은 겨울에 사용하기 완전 좋아요.\n",
      "일단 화장이 잘 먹는다는 부분에서 굿굿\n",
      "__8__\n",
      "5점만점에 5점\n",
      "['복합성에 좋아요', '보습에 좋아요', '자극없이 순해요']\n",
      "✨ 재구매 6통 중인 토너입니댱 ! 워낙 넘버즈인이 스킨케어로  유명해서 뭐 더 설명할 것도 없지만!!! 그중에서도 3번 결광토너는 진짜 젤 유명한데 다 그 이유가 있습니당\n",
      "\n",
      "▪️ 제형\n",
      "제형이 완전 워터 제형은 아니고 살짝 콧물 50퍼센트 정도 들어간 콧물 제형이예요 그래서 닦토 보다는 흡토 할때 써주기 좋은 제형입니당 촉촉하고 좋아요 !\n",
      "\n",
      "▪️향\n",
      "향이 은근 있는 토너예욤 저는 향에 민감한 편은 아니라서 괜찮았는데 나는 향에 민감하다 하시는 분들은 테스터를 해보시는걸 추천합니당 !\n",
      "\n",
      "▪️ 추천하는 피부 타입\n",
      "저는 여름엔 티존엔 유분기가 도는 복합성 타입인데 넘 잘 사용하고 있어요 건성이신분들도 건조하지 않게 잘 사용하실수 있을것 같아요 :) 완전 악지성만 아니라면 완전 강추\n",
      "\n",
      "▪️ 효과\n",
      "3번 토너를 꾸준히 사용하면 피부결이 보들보들 해지는게 느껴지더라구요 속건조 잡을때도 좋고 피부가 거칠거칠 하다 ! 하시는 분들은 한번 사용해보셨음 좋겠어용\n",
      "__9__\n",
      "5점만점에 5점\n",
      "['건성에 좋아요', '보습에 좋아요', '자극없이 순해요']\n",
      "토너 \n",
      "\n",
      "유목민이라 구입\n",
      " \n",
      "좋아용\n",
      "\n",
      "대용량이고 \n",
      "\n",
      "쫀득\n",
      "\n",
      "점성제형이라 좋네용! \n",
      "\n",
      "2번정도 레이어링 해주는데 \n",
      "\n",
      "세상 촉촉해용!\n",
      "\n",
      "유명해서 구입해봣는데 만족합니다. \n",
      "\n",
      "다만 배송 2주 걸림..\n",
      "__10__\n",
      "5점만점에 5점\n",
      "['복합성에 좋아요', '진정에 좋아요', '보통이에요']\n",
      "순하면서 결케어 하기 좋은 스킨\n",
      "닦토로 사용하거나 화장솜에 부어서 올려놓고 마무리하는 식으로 사용해봤는데 그다음 기초 흡수도 잘 되는 것 같아요\n",
      "근본적으로 피부를 살려줘서 결광에센스 인가봅니다\n",
      "__11__\n"
     ]
    },
    {
     "ename": "NoSuchElementException",
     "evalue": "Message: no such element: Unable to locate element: {\"method\":\"xpath\",\"selector\":\"//*[@id=\"gdasList\"]/li[11]/div[2]/div[1]/span[1]\"}\n  (Session info: chrome=109.0.5414.75)\nStacktrace:\nBacktrace:\n\t(No symbol) [0x004C6643]\n\t(No symbol) [0x0045BE21]\n\t(No symbol) [0x0035DA9D]\n\t(No symbol) [0x00391342]\n\t(No symbol) [0x0039147B]\n\t(No symbol) [0x003C8DC2]\n\t(No symbol) [0x003AFDC4]\n\t(No symbol) [0x003C6B09]\n\t(No symbol) [0x003AFB76]\n\t(No symbol) [0x003849C1]\n\t(No symbol) [0x00385E5D]\n\tGetHandleVerifier [0x0073A142+2497106]\n\tGetHandleVerifier [0x007685D3+2686691]\n\tGetHandleVerifier [0x0076BB9C+2700460]\n\tGetHandleVerifier [0x00573B10+635936]\n\t(No symbol) [0x00464A1F]\n\t(No symbol) [0x0046A418]\n\t(No symbol) [0x0046A505]\n\t(No symbol) [0x0047508B]\n\tBaseThreadInitThunk [0x776400F9+25]\n\tRtlGetAppContainerNamedObjectPath [0x779E7BBE+286]\n\tRtlGetAppContainerNamedObjectPath [0x779E7B8E+238]\n",
     "output_type": "error",
     "traceback": [
      "\u001b[1;31m---------------------------------------------------------------------------\u001b[0m",
      "\u001b[1;31mNoSuchElementException\u001b[0m                    Traceback (most recent call last)",
      "\u001b[1;32m~\\AppData\\Local\\Temp/ipykernel_15064/1794629796.py\u001b[0m in \u001b[0;36m<module>\u001b[1;34m\u001b[0m\n\u001b[0;32m      1\u001b[0m \u001b[1;32mfor\u001b[0m \u001b[0mi\u001b[0m \u001b[1;32min\u001b[0m \u001b[0mrange\u001b[0m\u001b[1;33m(\u001b[0m\u001b[1;36m1\u001b[0m\u001b[1;33m,\u001b[0m\u001b[1;36m21\u001b[0m\u001b[1;33m)\u001b[0m\u001b[1;33m:\u001b[0m\u001b[1;33m\u001b[0m\u001b[1;33m\u001b[0m\u001b[0m\n\u001b[0;32m      2\u001b[0m     \u001b[0mprint\u001b[0m\u001b[1;33m(\u001b[0m\u001b[1;34mf'__{i}__'\u001b[0m\u001b[1;33m)\u001b[0m\u001b[1;33m\u001b[0m\u001b[1;33m\u001b[0m\u001b[0m\n\u001b[1;32m----> 3\u001b[1;33m     \u001b[0mstar\u001b[0m \u001b[1;33m=\u001b[0m \u001b[0mdriver\u001b[0m\u001b[1;33m.\u001b[0m\u001b[0mfind_element\u001b[0m\u001b[1;33m(\u001b[0m\u001b[0mBy\u001b[0m\u001b[1;33m.\u001b[0m\u001b[0mXPATH\u001b[0m\u001b[1;33m,\u001b[0m \u001b[1;34mf'//*[@id=\"gdasList\"]/li[{i}]/div[2]/div[1]/span[1]'\u001b[0m\u001b[1;33m)\u001b[0m\u001b[1;33m.\u001b[0m\u001b[0mtext\u001b[0m\u001b[1;33m\u001b[0m\u001b[1;33m\u001b[0m\u001b[0m\n\u001b[0m\u001b[0;32m      4\u001b[0m     \u001b[0mprint\u001b[0m\u001b[1;33m(\u001b[0m\u001b[0mstar\u001b[0m\u001b[1;33m)\u001b[0m\u001b[1;33m\u001b[0m\u001b[1;33m\u001b[0m\u001b[0m\n\u001b[0;32m      5\u001b[0m     \u001b[0mkeyword\u001b[0m \u001b[1;33m=\u001b[0m \u001b[1;33m[\u001b[0m\u001b[0mdriver\u001b[0m\u001b[1;33m.\u001b[0m\u001b[0mfind_element\u001b[0m\u001b[1;33m(\u001b[0m\u001b[0mBy\u001b[0m\u001b[1;33m.\u001b[0m\u001b[0mXPATH\u001b[0m\u001b[1;33m,\u001b[0m \u001b[1;34mf'//*[@id=\"gdasList\"]/li[{i}]/div[2]/div[2]/dl[{j}]/dd/span'\u001b[0m\u001b[1;33m)\u001b[0m\u001b[1;33m.\u001b[0m\u001b[0mtext\u001b[0m \u001b[1;32mfor\u001b[0m \u001b[0mj\u001b[0m \u001b[1;32min\u001b[0m \u001b[0mrange\u001b[0m\u001b[1;33m(\u001b[0m\u001b[1;36m1\u001b[0m\u001b[1;33m,\u001b[0m\u001b[1;36m4\u001b[0m\u001b[1;33m)\u001b[0m\u001b[1;33m]\u001b[0m\u001b[1;33m\u001b[0m\u001b[1;33m\u001b[0m\u001b[0m\n",
      "\u001b[1;32mC:\\Anaconda3\\lib\\site-packages\\selenium\\webdriver\\remote\\webdriver.py\u001b[0m in \u001b[0;36mfind_element\u001b[1;34m(self, by, value)\u001b[0m\n\u001b[0;32m    859\u001b[0m             \u001b[0mvalue\u001b[0m \u001b[1;33m=\u001b[0m \u001b[1;34m'[name=\"%s\"]'\u001b[0m \u001b[1;33m%\u001b[0m \u001b[0mvalue\u001b[0m\u001b[1;33m\u001b[0m\u001b[1;33m\u001b[0m\u001b[0m\n\u001b[0;32m    860\u001b[0m \u001b[1;33m\u001b[0m\u001b[0m\n\u001b[1;32m--> 861\u001b[1;33m         \u001b[1;32mreturn\u001b[0m \u001b[0mself\u001b[0m\u001b[1;33m.\u001b[0m\u001b[0mexecute\u001b[0m\u001b[1;33m(\u001b[0m\u001b[0mCommand\u001b[0m\u001b[1;33m.\u001b[0m\u001b[0mFIND_ELEMENT\u001b[0m\u001b[1;33m,\u001b[0m \u001b[1;33m{\u001b[0m\u001b[1;34m\"using\"\u001b[0m\u001b[1;33m:\u001b[0m \u001b[0mby\u001b[0m\u001b[1;33m,\u001b[0m \u001b[1;34m\"value\"\u001b[0m\u001b[1;33m:\u001b[0m \u001b[0mvalue\u001b[0m\u001b[1;33m}\u001b[0m\u001b[1;33m)\u001b[0m\u001b[1;33m[\u001b[0m\u001b[1;34m\"value\"\u001b[0m\u001b[1;33m]\u001b[0m\u001b[1;33m\u001b[0m\u001b[1;33m\u001b[0m\u001b[0m\n\u001b[0m\u001b[0;32m    862\u001b[0m \u001b[1;33m\u001b[0m\u001b[0m\n\u001b[0;32m    863\u001b[0m     \u001b[1;32mdef\u001b[0m \u001b[0mfind_elements\u001b[0m\u001b[1;33m(\u001b[0m\u001b[0mself\u001b[0m\u001b[1;33m,\u001b[0m \u001b[0mby\u001b[0m\u001b[1;33m=\u001b[0m\u001b[0mBy\u001b[0m\u001b[1;33m.\u001b[0m\u001b[0mID\u001b[0m\u001b[1;33m,\u001b[0m \u001b[0mvalue\u001b[0m\u001b[1;33m:\u001b[0m \u001b[0mOptional\u001b[0m\u001b[1;33m[\u001b[0m\u001b[0mstr\u001b[0m\u001b[1;33m]\u001b[0m \u001b[1;33m=\u001b[0m \u001b[1;32mNone\u001b[0m\u001b[1;33m)\u001b[0m \u001b[1;33m->\u001b[0m \u001b[0mList\u001b[0m\u001b[1;33m[\u001b[0m\u001b[0mWebElement\u001b[0m\u001b[1;33m]\u001b[0m\u001b[1;33m:\u001b[0m\u001b[1;33m\u001b[0m\u001b[1;33m\u001b[0m\u001b[0m\n",
      "\u001b[1;32mC:\\Anaconda3\\lib\\site-packages\\selenium\\webdriver\\remote\\webdriver.py\u001b[0m in \u001b[0;36mexecute\u001b[1;34m(self, driver_command, params)\u001b[0m\n\u001b[0;32m    442\u001b[0m         \u001b[0mresponse\u001b[0m \u001b[1;33m=\u001b[0m \u001b[0mself\u001b[0m\u001b[1;33m.\u001b[0m\u001b[0mcommand_executor\u001b[0m\u001b[1;33m.\u001b[0m\u001b[0mexecute\u001b[0m\u001b[1;33m(\u001b[0m\u001b[0mdriver_command\u001b[0m\u001b[1;33m,\u001b[0m \u001b[0mparams\u001b[0m\u001b[1;33m)\u001b[0m\u001b[1;33m\u001b[0m\u001b[1;33m\u001b[0m\u001b[0m\n\u001b[0;32m    443\u001b[0m         \u001b[1;32mif\u001b[0m \u001b[0mresponse\u001b[0m\u001b[1;33m:\u001b[0m\u001b[1;33m\u001b[0m\u001b[1;33m\u001b[0m\u001b[0m\n\u001b[1;32m--> 444\u001b[1;33m             \u001b[0mself\u001b[0m\u001b[1;33m.\u001b[0m\u001b[0merror_handler\u001b[0m\u001b[1;33m.\u001b[0m\u001b[0mcheck_response\u001b[0m\u001b[1;33m(\u001b[0m\u001b[0mresponse\u001b[0m\u001b[1;33m)\u001b[0m\u001b[1;33m\u001b[0m\u001b[1;33m\u001b[0m\u001b[0m\n\u001b[0m\u001b[0;32m    445\u001b[0m             \u001b[0mresponse\u001b[0m\u001b[1;33m[\u001b[0m\u001b[1;34m\"value\"\u001b[0m\u001b[1;33m]\u001b[0m \u001b[1;33m=\u001b[0m \u001b[0mself\u001b[0m\u001b[1;33m.\u001b[0m\u001b[0m_unwrap_value\u001b[0m\u001b[1;33m(\u001b[0m\u001b[0mresponse\u001b[0m\u001b[1;33m.\u001b[0m\u001b[0mget\u001b[0m\u001b[1;33m(\u001b[0m\u001b[1;34m\"value\"\u001b[0m\u001b[1;33m,\u001b[0m \u001b[1;32mNone\u001b[0m\u001b[1;33m)\u001b[0m\u001b[1;33m)\u001b[0m\u001b[1;33m\u001b[0m\u001b[1;33m\u001b[0m\u001b[0m\n\u001b[0;32m    446\u001b[0m             \u001b[1;32mreturn\u001b[0m \u001b[0mresponse\u001b[0m\u001b[1;33m\u001b[0m\u001b[1;33m\u001b[0m\u001b[0m\n",
      "\u001b[1;32mC:\\Anaconda3\\lib\\site-packages\\selenium\\webdriver\\remote\\errorhandler.py\u001b[0m in \u001b[0;36mcheck_response\u001b[1;34m(self, response)\u001b[0m\n\u001b[0;32m    247\u001b[0m                 \u001b[0malert_text\u001b[0m \u001b[1;33m=\u001b[0m \u001b[0mvalue\u001b[0m\u001b[1;33m[\u001b[0m\u001b[1;34m\"alert\"\u001b[0m\u001b[1;33m]\u001b[0m\u001b[1;33m.\u001b[0m\u001b[0mget\u001b[0m\u001b[1;33m(\u001b[0m\u001b[1;34m\"text\"\u001b[0m\u001b[1;33m)\u001b[0m\u001b[1;33m\u001b[0m\u001b[1;33m\u001b[0m\u001b[0m\n\u001b[0;32m    248\u001b[0m             \u001b[1;32mraise\u001b[0m \u001b[0mexception_class\u001b[0m\u001b[1;33m(\u001b[0m\u001b[0mmessage\u001b[0m\u001b[1;33m,\u001b[0m \u001b[0mscreen\u001b[0m\u001b[1;33m,\u001b[0m \u001b[0mstacktrace\u001b[0m\u001b[1;33m,\u001b[0m \u001b[0malert_text\u001b[0m\u001b[1;33m)\u001b[0m  \u001b[1;31m# type: ignore[call-arg]  # mypy is not smart enough here\u001b[0m\u001b[1;33m\u001b[0m\u001b[1;33m\u001b[0m\u001b[0m\n\u001b[1;32m--> 249\u001b[1;33m         \u001b[1;32mraise\u001b[0m \u001b[0mexception_class\u001b[0m\u001b[1;33m(\u001b[0m\u001b[0mmessage\u001b[0m\u001b[1;33m,\u001b[0m \u001b[0mscreen\u001b[0m\u001b[1;33m,\u001b[0m \u001b[0mstacktrace\u001b[0m\u001b[1;33m)\u001b[0m\u001b[1;33m\u001b[0m\u001b[1;33m\u001b[0m\u001b[0m\n\u001b[0m",
      "\u001b[1;31mNoSuchElementException\u001b[0m: Message: no such element: Unable to locate element: {\"method\":\"xpath\",\"selector\":\"//*[@id=\"gdasList\"]/li[11]/div[2]/div[1]/span[1]\"}\n  (Session info: chrome=109.0.5414.75)\nStacktrace:\nBacktrace:\n\t(No symbol) [0x004C6643]\n\t(No symbol) [0x0045BE21]\n\t(No symbol) [0x0035DA9D]\n\t(No symbol) [0x00391342]\n\t(No symbol) [0x0039147B]\n\t(No symbol) [0x003C8DC2]\n\t(No symbol) [0x003AFDC4]\n\t(No symbol) [0x003C6B09]\n\t(No symbol) [0x003AFB76]\n\t(No symbol) [0x003849C1]\n\t(No symbol) [0x00385E5D]\n\tGetHandleVerifier [0x0073A142+2497106]\n\tGetHandleVerifier [0x007685D3+2686691]\n\tGetHandleVerifier [0x0076BB9C+2700460]\n\tGetHandleVerifier [0x00573B10+635936]\n\t(No symbol) [0x00464A1F]\n\t(No symbol) [0x0046A418]\n\t(No symbol) [0x0046A505]\n\t(No symbol) [0x0047508B]\n\tBaseThreadInitThunk [0x776400F9+25]\n\tRtlGetAppContainerNamedObjectPath [0x779E7BBE+286]\n\tRtlGetAppContainerNamedObjectPath [0x779E7B8E+238]\n"
     ]
    }
   ],
   "source": [
    "# \n",
    "for i in range(1,11):\n",
    "    print(f'__{i}__')\n",
    "    star = driver.find_element(By.XPATH, f'//*[@id=\"gdasList\"]/li[{i}]/div[2]/div[1]/span[1]').text\n",
    "    print(star)\n",
    "    keyword = [driver.find_element(By.XPATH, f'//*[@id=\"gdasList\"]/li[{i}]/div[2]/div[2]/dl[{j}]/dd/span').text for j in range(1,4)]\n",
    "    print(keyword)\n",
    "    rv_text = driver.find_element(By.XPATH, f'//*[@id=\"gdasList\"]/li[{i}]/div[2]/div[3]').text\n",
    "    print(rv_text)"
   ]
  },
  {
   "cell_type": "code",
   "execution_count": null,
   "id": "36217cd2-194f-47ef-8483-4b29b7735cb3",
   "metadata": {},
   "outputs": [],
   "source": [
    "# 별점 1만 본 후에 5점짜리만 보기\n",
    "driver.find_element(By.XPATH, '//*[@id=\"filterBtn\"]').click()\n",
    "driver.find_element(By.XPATH, '//*[@id=\"searchPoint\"]/li[2]/label').click()\n",
    "driver.find_element(By.XPATH, '//*[@id=\"btnFilterConfirm\"]').click()"
   ]
  },
  {
   "cell_type": "markdown",
   "id": "26bb2cde-2c09-46eb-aed8-10b0af4a9af3",
   "metadata": {},
   "source": [
    "### 경로 정리하기\n",
    "\n",
    "1. 대분류 페이지로 이동\n",
    "    driver.get(url = n) // n = a(b,c,d)\n",
    "2. 중분류 페이지 클릭하기\n",
    "    driver.find_element(By.XPATH,f'//*[@id=\"Contents\"]/div/div[1]/ul/li[{idx+1}]/a').click()\n",
    "3. 해당 카테고리의 상품 클릭하기\n",
    "    driver.find_element(By.XPATH,f'//*[@id=\"Contents\"]/ul[{i+1}]/li[{j}]/div/a/img').click()\n",
    "4. 리뷰란 클릭하기\n",
    "    driver.find_element(By.XPATH,f'//*[@id=\"reviewInfo\"]/a').click()\n",
    "4-5. 리뷰별점 필터 클릭하기\n",
    "    driver.find_element(By.XPATH, '//*[@id=\"filterBtn\"]').click()\n",
    "5. 5점짜리 별점 보기\n",
    "    driver.find_element(By.XPATH, '//*[@id=\"searchPoint\"]/li[2]/label').click()  # 5점\n",
    "    driver.find_element(By.XPATH, '//*[@id=\"searchPoint\"]/li[6]/label').click() # 1점\n",
    "    driver.find_element(By.XPATH, '//*[@id=\"btnFilterConfirm\"]').click() #선택사항 시행\n",
    "\n",
    "# 다른 페이지 클릭하기 \n",
    "    \n",
    "    cate = driver.find_element(By.XPATH,'//*[@id=\"Contents\"]/p').text\n",
    "    for i in range(1, 4):\n",
    "        for j in range(1,5):\n",
    "            driver.find_element(By.XPATH,f'//*[@id=\"Contents\"]/ul[{i+1}]/li[{j}]/div/a/img').click()"
   ]
  },
  {
   "cell_type": "code",
   "execution_count": 5,
   "id": "25e06396-8563-4a52-a6aa-c0e17b2c2b02",
   "metadata": {},
   "outputs": [],
   "source": [
    "## 스킨케어\n",
    "a = 'https://www.oliveyoung.co.kr/store/display/getCategoryShop.do?dispCatNo=10000010001'\n",
    "## 마스크팩\n",
    "b = 'https://www.oliveyoung.co.kr/store/display/getCategoryShop.do?dispCatNo=10000010009&gateCd=Drawer'\n",
    "## 클렌징\n",
    "c = 'https://www.oliveyoung.co.kr/store/display/getCategoryShop.do?dispCatNo=10000010010&gateCd=Drawer'\n",
    "## 선케어\n",
    "d = 'https://www.oliveyoung.co.kr/store/display/getCategoryShop.do?dispCatNo=10000010011&gateCd=Drawer'"
   ]
  },
  {
   "cell_type": "code",
   "execution_count": 15,
   "id": "95cc391a-963f-49b8-89ff-ee5a7a88e238",
   "metadata": {},
   "outputs": [],
   "source": [
    "driver.get(url=a) # 대분류 "
   ]
  },
  {
   "cell_type": "code",
   "execution_count": 16,
   "id": "17ec6e0a-64c1-4b35-ab1b-244fad2ce945",
   "metadata": {},
   "outputs": [],
   "source": [
    "driver.find_element(By.XPATH,f'//*[@id=\"Contents\"]/div/div[1]/ul/li[1]/a').click()  # 중분류"
   ]
  },
  {
   "cell_type": "code",
   "execution_count": 17,
   "id": "a1244ed1-c6e1-4220-8eeb-a5eda70f593f",
   "metadata": {},
   "outputs": [],
   "source": [
    "driver.find_element(By.XPATH,f'//*[@id=\"Contents\"]/ul[2]/li[1]/div/a/img').click() # (1,1)상품"
   ]
  },
  {
   "cell_type": "code",
   "execution_count": 18,
   "id": "f572059c-0d31-43bd-9567-15df390da233",
   "metadata": {},
   "outputs": [],
   "source": [
    "driver.find_element(By.XPATH,f'//*[@id=\"reviewInfo\"]/a').click() # 리뷰란\n",
    "time.sleep(1)\n",
    "driver.find_element(By.XPATH, '//*[@id=\"filterBtn\"]').click() # 리뷰필터\n",
    "time.sleep(1)\n",
    "driver.find_element(By.XPATH, '//*[@id=\"searchPoint\"]/li[2]/label').click() # 5점만\n",
    "time.sleep(1) # 기다리는 시간을 안주면 해당페이지가 안떠있어서 오류가 발생함\n",
    "driver.find_element(By.XPATH, '//*[@id=\"btnFilterConfirm\"]').click() # 옵션 적용"
   ]
  },
  {
   "cell_type": "code",
   "execution_count": 19,
   "id": "482f924a-7414-4822-a87e-7e4acd63562a",
   "metadata": {},
   "outputs": [],
   "source": [
    "## 이렇게 5점을 다시 눌러야 1점만 적용됨.\n",
    "driver.find_element(By.XPATH, '//*[@id=\"filterBtn\"]').click() # 리뷰필터\n",
    "time.sleep(1)\n",
    "driver.find_element(By.XPATH, '//*[@id=\"searchPoint\"]/li[2]/label').click()\n",
    "driver.find_element(By.XPATH, '//*[@id=\"searchPoint\"]/li[6]/label').click() # 1점\n",
    "time.sleep(1) # 기다리는 시간을 안주면 해당페이지가 안떠있어서 오류가 발생함\n",
    "driver.find_element(By.XPATH, '//*[@id=\"btnFilterConfirm\"]').click() # 옵션 적용"
   ]
  },
  {
   "cell_type": "markdown",
   "id": "711fefc9-506a-43c3-84cb-98ee7e7be3b5",
   "metadata": {},
   "source": [
    "# 5점, 1점 하나씩 가져오기"
   ]
  },
  {
   "cell_type": "code",
   "execution_count": 21,
   "id": "c4f3224a-63ae-4cf6-8534-fbd300c38ada",
   "metadata": {},
   "outputs": [
    {
     "name": "stdout",
     "output_type": "stream",
     "text": [
      "__1__\n",
      "5점만점에 5점\n",
      "[4년연속 맨즈케어1등]아이디얼포맨 퍼펙트올인원밀크 어워즈 한정기획(2022)\n",
      "__2__\n",
      "5점만점에 5점\n",
      "[4년연속 맨즈케어1등]아이디얼포맨 퍼펙트올인원밀크 어워즈 한정기획(2022)\n",
      "__3__\n",
      "5점만점에 5점\n",
      "[4년연속 맨즈케어1등]아이디얼포맨 퍼펙트올인원밀크 어워즈 한정기획(2022)\n",
      "__4__\n",
      "5점만점에 5점\n",
      "[4년연속 맨즈케어1등]아이디얼포맨 퍼펙트올인원밀크 어워즈 한정기획(2022)\n",
      "__5__\n",
      "5점만점에 5점\n",
      "[4년연속 맨즈케어1등]아이디얼포맨 퍼펙트올인원밀크 어워즈 한정기획(2022)\n",
      "__6__\n",
      "5점만점에 5점\n",
      "[4년연속 맨즈케어1등]아이디얼포맨 퍼펙트올인원밀크 어워즈 한정기획(2022)\n",
      "__7__\n",
      "5점만점에 5점\n",
      "[4년연속 맨즈케어1등]아이디얼포맨 퍼펙트올인원밀크 어워즈 한정기획(2022)\n",
      "__8__\n",
      "5점만점에 5점\n",
      "[4년연속 맨즈케어1등]아이디얼포맨 퍼펙트올인원밀크 어워즈 한정기획(2022)\n",
      "__9__\n",
      "5점만점에 5점\n",
      "[4년연속 맨즈케어1등]아이디얼포맨 퍼펙트올인원밀크 어워즈 한정기획(2022)\n",
      "__10__\n",
      "5점만점에 5점\n",
      "[4년연속 맨즈케어1등]아이디얼포맨 퍼펙트올인원밀크 어워즈 한정기획(2022)\n",
      "__1__\n",
      "5점만점에 1점\n",
      "[4년연속 맨즈케어1등]아이디얼포맨 퍼펙트올인원밀크 어워즈 한정기획(2022)\n",
      "__2__\n",
      "5점만점에 1점\n",
      "[4년연속 맨즈케어1등]아이디얼포맨 퍼펙트올인원밀크 어워즈 한정기획(2022)\n",
      "__3__\n",
      "5점만점에 1점\n",
      "[4년연속 맨즈케어1등]아이디얼포맨 퍼펙트올인원밀크 어워즈 한정기획(2022)\n",
      "__4__\n",
      "5점만점에 1점\n",
      "[4년연속 맨즈케어1등]아이디얼포맨 퍼펙트올인원밀크 어워즈 한정기획(2022)\n",
      "__5__\n",
      "5점만점에 1점\n",
      "[4년연속 맨즈케어1등]아이디얼포맨 퍼펙트올인원밀크 어워즈 한정기획(2022)\n",
      "__6__\n"
     ]
    },
    {
     "ename": "NoSuchElementException",
     "evalue": "Message: no such element: Unable to locate element: {\"method\":\"xpath\",\"selector\":\"//*[@id=\"gdasList\"]/li[6]/div[2]/div[1]/span[1]\"}\n  (Session info: chrome=109.0.5414.75)\nStacktrace:\nBacktrace:\n\t(No symbol) [0x004C6643]\n\t(No symbol) [0x0045BE21]\n\t(No symbol) [0x0035DA9D]\n\t(No symbol) [0x00391342]\n\t(No symbol) [0x0039147B]\n\t(No symbol) [0x003C8DC2]\n\t(No symbol) [0x003AFDC4]\n\t(No symbol) [0x003C6B09]\n\t(No symbol) [0x003AFB76]\n\t(No symbol) [0x003849C1]\n\t(No symbol) [0x00385E5D]\n\tGetHandleVerifier [0x0073A142+2497106]\n\tGetHandleVerifier [0x007685D3+2686691]\n\tGetHandleVerifier [0x0076BB9C+2700460]\n\tGetHandleVerifier [0x00573B10+635936]\n\t(No symbol) [0x00464A1F]\n\t(No symbol) [0x0046A418]\n\t(No symbol) [0x0046A505]\n\t(No symbol) [0x0047508B]\n\tBaseThreadInitThunk [0x776400F9+25]\n\tRtlGetAppContainerNamedObjectPath [0x779E7BBE+286]\n\tRtlGetAppContainerNamedObjectPath [0x779E7B8E+238]\n",
     "output_type": "error",
     "traceback": [
      "\u001b[1;31m---------------------------------------------------------------------------\u001b[0m",
      "\u001b[1;31mNoSuchElementException\u001b[0m                    Traceback (most recent call last)",
      "\u001b[1;32m~\\AppData\\Local\\Temp/ipykernel_10836/1117553494.py\u001b[0m in \u001b[0;36m<module>\u001b[1;34m\u001b[0m\n\u001b[0;32m     35\u001b[0m     \u001b[0mprint\u001b[0m\u001b[1;33m(\u001b[0m\u001b[1;34mf'__{i}__'\u001b[0m\u001b[1;33m)\u001b[0m\u001b[1;33m\u001b[0m\u001b[1;33m\u001b[0m\u001b[0m\n\u001b[0;32m     36\u001b[0m     \u001b[0mpname\u001b[0m \u001b[1;33m=\u001b[0m \u001b[0mdriver\u001b[0m\u001b[1;33m.\u001b[0m\u001b[0mfind_element\u001b[0m\u001b[1;33m(\u001b[0m\u001b[0mBy\u001b[0m\u001b[1;33m.\u001b[0m\u001b[0mXPATH\u001b[0m\u001b[1;33m,\u001b[0m\u001b[1;34m'//*[@id=\"Contents\"]/div[2]/div[2]/div/p[2]'\u001b[0m\u001b[1;33m)\u001b[0m\u001b[1;33m.\u001b[0m\u001b[0mtext\u001b[0m\u001b[1;33m\u001b[0m\u001b[1;33m\u001b[0m\u001b[0m\n\u001b[1;32m---> 37\u001b[1;33m     \u001b[0mstar\u001b[0m \u001b[1;33m=\u001b[0m \u001b[0mdriver\u001b[0m\u001b[1;33m.\u001b[0m\u001b[0mfind_element\u001b[0m\u001b[1;33m(\u001b[0m\u001b[0mBy\u001b[0m\u001b[1;33m.\u001b[0m\u001b[0mXPATH\u001b[0m\u001b[1;33m,\u001b[0m \u001b[1;34mf'//*[@id=\"gdasList\"]/li[{i}]/div[2]/div[1]/span[1]'\u001b[0m\u001b[1;33m)\u001b[0m\u001b[1;33m.\u001b[0m\u001b[0mtext\u001b[0m\u001b[1;33m\u001b[0m\u001b[1;33m\u001b[0m\u001b[0m\n\u001b[0m\u001b[0;32m     38\u001b[0m     \u001b[0mprint\u001b[0m\u001b[1;33m(\u001b[0m\u001b[0mstar\u001b[0m\u001b[1;33m)\u001b[0m\u001b[1;33m\u001b[0m\u001b[1;33m\u001b[0m\u001b[0m\n\u001b[0;32m     39\u001b[0m     \u001b[0mkeyword\u001b[0m \u001b[1;33m=\u001b[0m \u001b[1;33m[\u001b[0m\u001b[0mdriver\u001b[0m\u001b[1;33m.\u001b[0m\u001b[0mfind_element\u001b[0m\u001b[1;33m(\u001b[0m\u001b[0mBy\u001b[0m\u001b[1;33m.\u001b[0m\u001b[0mXPATH\u001b[0m\u001b[1;33m,\u001b[0m \u001b[1;34mf'//*[@id=\"gdasList\"]/li[{i}]/div[2]/div[2]/dl[{j}]/dd/span'\u001b[0m\u001b[1;33m)\u001b[0m\u001b[1;33m.\u001b[0m\u001b[0mtext\u001b[0m \u001b[1;32mfor\u001b[0m \u001b[0mj\u001b[0m \u001b[1;32min\u001b[0m \u001b[0mrange\u001b[0m\u001b[1;33m(\u001b[0m\u001b[1;36m1\u001b[0m\u001b[1;33m,\u001b[0m\u001b[1;36m4\u001b[0m\u001b[1;33m)\u001b[0m\u001b[1;33m]\u001b[0m\u001b[1;33m\u001b[0m\u001b[1;33m\u001b[0m\u001b[0m\n",
      "\u001b[1;32mC:\\Anaconda3\\lib\\site-packages\\selenium\\webdriver\\remote\\webdriver.py\u001b[0m in \u001b[0;36mfind_element\u001b[1;34m(self, by, value)\u001b[0m\n\u001b[0;32m    859\u001b[0m             \u001b[0mvalue\u001b[0m \u001b[1;33m=\u001b[0m \u001b[1;34m'[name=\"%s\"]'\u001b[0m \u001b[1;33m%\u001b[0m \u001b[0mvalue\u001b[0m\u001b[1;33m\u001b[0m\u001b[1;33m\u001b[0m\u001b[0m\n\u001b[0;32m    860\u001b[0m \u001b[1;33m\u001b[0m\u001b[0m\n\u001b[1;32m--> 861\u001b[1;33m         \u001b[1;32mreturn\u001b[0m \u001b[0mself\u001b[0m\u001b[1;33m.\u001b[0m\u001b[0mexecute\u001b[0m\u001b[1;33m(\u001b[0m\u001b[0mCommand\u001b[0m\u001b[1;33m.\u001b[0m\u001b[0mFIND_ELEMENT\u001b[0m\u001b[1;33m,\u001b[0m \u001b[1;33m{\u001b[0m\u001b[1;34m\"using\"\u001b[0m\u001b[1;33m:\u001b[0m \u001b[0mby\u001b[0m\u001b[1;33m,\u001b[0m \u001b[1;34m\"value\"\u001b[0m\u001b[1;33m:\u001b[0m \u001b[0mvalue\u001b[0m\u001b[1;33m}\u001b[0m\u001b[1;33m)\u001b[0m\u001b[1;33m[\u001b[0m\u001b[1;34m\"value\"\u001b[0m\u001b[1;33m]\u001b[0m\u001b[1;33m\u001b[0m\u001b[1;33m\u001b[0m\u001b[0m\n\u001b[0m\u001b[0;32m    862\u001b[0m \u001b[1;33m\u001b[0m\u001b[0m\n\u001b[0;32m    863\u001b[0m     \u001b[1;32mdef\u001b[0m \u001b[0mfind_elements\u001b[0m\u001b[1;33m(\u001b[0m\u001b[0mself\u001b[0m\u001b[1;33m,\u001b[0m \u001b[0mby\u001b[0m\u001b[1;33m=\u001b[0m\u001b[0mBy\u001b[0m\u001b[1;33m.\u001b[0m\u001b[0mID\u001b[0m\u001b[1;33m,\u001b[0m \u001b[0mvalue\u001b[0m\u001b[1;33m:\u001b[0m \u001b[0mOptional\u001b[0m\u001b[1;33m[\u001b[0m\u001b[0mstr\u001b[0m\u001b[1;33m]\u001b[0m \u001b[1;33m=\u001b[0m \u001b[1;32mNone\u001b[0m\u001b[1;33m)\u001b[0m \u001b[1;33m->\u001b[0m \u001b[0mList\u001b[0m\u001b[1;33m[\u001b[0m\u001b[0mWebElement\u001b[0m\u001b[1;33m]\u001b[0m\u001b[1;33m:\u001b[0m\u001b[1;33m\u001b[0m\u001b[1;33m\u001b[0m\u001b[0m\n",
      "\u001b[1;32mC:\\Anaconda3\\lib\\site-packages\\selenium\\webdriver\\remote\\webdriver.py\u001b[0m in \u001b[0;36mexecute\u001b[1;34m(self, driver_command, params)\u001b[0m\n\u001b[0;32m    442\u001b[0m         \u001b[0mresponse\u001b[0m \u001b[1;33m=\u001b[0m \u001b[0mself\u001b[0m\u001b[1;33m.\u001b[0m\u001b[0mcommand_executor\u001b[0m\u001b[1;33m.\u001b[0m\u001b[0mexecute\u001b[0m\u001b[1;33m(\u001b[0m\u001b[0mdriver_command\u001b[0m\u001b[1;33m,\u001b[0m \u001b[0mparams\u001b[0m\u001b[1;33m)\u001b[0m\u001b[1;33m\u001b[0m\u001b[1;33m\u001b[0m\u001b[0m\n\u001b[0;32m    443\u001b[0m         \u001b[1;32mif\u001b[0m \u001b[0mresponse\u001b[0m\u001b[1;33m:\u001b[0m\u001b[1;33m\u001b[0m\u001b[1;33m\u001b[0m\u001b[0m\n\u001b[1;32m--> 444\u001b[1;33m             \u001b[0mself\u001b[0m\u001b[1;33m.\u001b[0m\u001b[0merror_handler\u001b[0m\u001b[1;33m.\u001b[0m\u001b[0mcheck_response\u001b[0m\u001b[1;33m(\u001b[0m\u001b[0mresponse\u001b[0m\u001b[1;33m)\u001b[0m\u001b[1;33m\u001b[0m\u001b[1;33m\u001b[0m\u001b[0m\n\u001b[0m\u001b[0;32m    445\u001b[0m             \u001b[0mresponse\u001b[0m\u001b[1;33m[\u001b[0m\u001b[1;34m\"value\"\u001b[0m\u001b[1;33m]\u001b[0m \u001b[1;33m=\u001b[0m \u001b[0mself\u001b[0m\u001b[1;33m.\u001b[0m\u001b[0m_unwrap_value\u001b[0m\u001b[1;33m(\u001b[0m\u001b[0mresponse\u001b[0m\u001b[1;33m.\u001b[0m\u001b[0mget\u001b[0m\u001b[1;33m(\u001b[0m\u001b[1;34m\"value\"\u001b[0m\u001b[1;33m,\u001b[0m \u001b[1;32mNone\u001b[0m\u001b[1;33m)\u001b[0m\u001b[1;33m)\u001b[0m\u001b[1;33m\u001b[0m\u001b[1;33m\u001b[0m\u001b[0m\n\u001b[0;32m    446\u001b[0m             \u001b[1;32mreturn\u001b[0m \u001b[0mresponse\u001b[0m\u001b[1;33m\u001b[0m\u001b[1;33m\u001b[0m\u001b[0m\n",
      "\u001b[1;32mC:\\Anaconda3\\lib\\site-packages\\selenium\\webdriver\\remote\\errorhandler.py\u001b[0m in \u001b[0;36mcheck_response\u001b[1;34m(self, response)\u001b[0m\n\u001b[0;32m    247\u001b[0m                 \u001b[0malert_text\u001b[0m \u001b[1;33m=\u001b[0m \u001b[0mvalue\u001b[0m\u001b[1;33m[\u001b[0m\u001b[1;34m\"alert\"\u001b[0m\u001b[1;33m]\u001b[0m\u001b[1;33m.\u001b[0m\u001b[0mget\u001b[0m\u001b[1;33m(\u001b[0m\u001b[1;34m\"text\"\u001b[0m\u001b[1;33m)\u001b[0m\u001b[1;33m\u001b[0m\u001b[1;33m\u001b[0m\u001b[0m\n\u001b[0;32m    248\u001b[0m             \u001b[1;32mraise\u001b[0m \u001b[0mexception_class\u001b[0m\u001b[1;33m(\u001b[0m\u001b[0mmessage\u001b[0m\u001b[1;33m,\u001b[0m \u001b[0mscreen\u001b[0m\u001b[1;33m,\u001b[0m \u001b[0mstacktrace\u001b[0m\u001b[1;33m,\u001b[0m \u001b[0malert_text\u001b[0m\u001b[1;33m)\u001b[0m  \u001b[1;31m# type: ignore[call-arg]  # mypy is not smart enough here\u001b[0m\u001b[1;33m\u001b[0m\u001b[1;33m\u001b[0m\u001b[0m\n\u001b[1;32m--> 249\u001b[1;33m         \u001b[1;32mraise\u001b[0m \u001b[0mexception_class\u001b[0m\u001b[1;33m(\u001b[0m\u001b[0mmessage\u001b[0m\u001b[1;33m,\u001b[0m \u001b[0mscreen\u001b[0m\u001b[1;33m,\u001b[0m \u001b[0mstacktrace\u001b[0m\u001b[1;33m)\u001b[0m\u001b[1;33m\u001b[0m\u001b[1;33m\u001b[0m\u001b[0m\n\u001b[0m",
      "\u001b[1;31mNoSuchElementException\u001b[0m: Message: no such element: Unable to locate element: {\"method\":\"xpath\",\"selector\":\"//*[@id=\"gdasList\"]/li[6]/div[2]/div[1]/span[1]\"}\n  (Session info: chrome=109.0.5414.75)\nStacktrace:\nBacktrace:\n\t(No symbol) [0x004C6643]\n\t(No symbol) [0x0045BE21]\n\t(No symbol) [0x0035DA9D]\n\t(No symbol) [0x00391342]\n\t(No symbol) [0x0039147B]\n\t(No symbol) [0x003C8DC2]\n\t(No symbol) [0x003AFDC4]\n\t(No symbol) [0x003C6B09]\n\t(No symbol) [0x003AFB76]\n\t(No symbol) [0x003849C1]\n\t(No symbol) [0x00385E5D]\n\tGetHandleVerifier [0x0073A142+2497106]\n\tGetHandleVerifier [0x007685D3+2686691]\n\tGetHandleVerifier [0x0076BB9C+2700460]\n\tGetHandleVerifier [0x00573B10+635936]\n\t(No symbol) [0x00464A1F]\n\t(No symbol) [0x0046A418]\n\t(No symbol) [0x0046A505]\n\t(No symbol) [0x0047508B]\n\tBaseThreadInitThunk [0x776400F9+25]\n\tRtlGetAppContainerNamedObjectPath [0x779E7BBE+286]\n\tRtlGetAppContainerNamedObjectPath [0x779E7B8E+238]\n"
     ]
    }
   ],
   "source": [
    "# 하나의 상품에서 5점짜리와 1점짜리 리뷰 10개씩 가져오기\n",
    "\n",
    "## 상품에 접근\n",
    "driver.get(url=a)\n",
    "driver.find_element(By.XPATH,f'//*[@id=\"Contents\"]/div/div[1]/ul/li[1]/a').click()\n",
    "driver.find_element(By.XPATH,f'//*[@id=\"Contents\"]/ul[2]/li[1]/div/a/img').click()\n",
    "## 리뷰에 접근\n",
    "driver.find_element(By.XPATH,f'//*[@id=\"reviewInfo\"]/a').click()\n",
    "time.sleep(1)\n",
    "driver.find_element(By.XPATH, '//*[@id=\"filterBtn\"]').click()\n",
    "time.sleep(1)\n",
    "## 5점 리뷰에 접근\n",
    "driver.find_element(By.XPATH, '//*[@id=\"searchPoint\"]/li[2]/label').click() # 5점만\n",
    "time.sleep(1) \n",
    "driver.find_element(By.XPATH, '//*[@id=\"btnFilterConfirm\"]').click()\n",
    "time.sleep(1)\n",
    "## 리뷰 10개 가져오기\n",
    "for i in range(1,11):\n",
    "    print(f'__{i}__')\n",
    "    pname = driver.find_element(By.XPATH,'//*[@id=\"Contents\"]/div[2]/div[2]/div/p[2]').text\n",
    "    star = driver.find_element(By.XPATH, f'//*[@id=\"gdasList\"]/li[{i}]/div[2]/div[1]/span[1]').text\n",
    "    print(star)\n",
    "    keyword = [driver.find_element(By.XPATH, f'//*[@id=\"gdasList\"]/li[{i}]/div[2]/div[2]/dl[{j}]/dd/span').text for j in range(1,4)]\n",
    "    # print(keyword)\n",
    "    rv_text = driver.find_element(By.XPATH, f'//*[@id=\"gdasList\"]/li[{i}]/div[2]/div[3]').text\n",
    "    print(pname)\n",
    "## 리뷰 1점에 접근\n",
    "driver.find_element(By.XPATH, '//*[@id=\"filterBtn\"]').click() # 리뷰필터\n",
    "time.sleep(1)\n",
    "driver.find_element(By.XPATH, '//*[@id=\"searchPoint\"]/li[2]/label').click()\n",
    "driver.find_element(By.XPATH, '//*[@id=\"searchPoint\"]/li[6]/label').click() # 1점\n",
    "time.sleep(1) \n",
    "driver.find_element(By.XPATH, '//*[@id=\"btnFilterConfirm\"]').click()\n",
    "for i in range(1,11):\n",
    "    print(f'__{i}__')\n",
    "    pname = driver.find_element(By.XPATH,'//*[@id=\"Contents\"]/div[2]/div[2]/div/p[2]').text\n",
    "    star = driver.find_element(By.XPATH, f'//*[@id=\"gdasList\"]/li[{i}]/div[2]/div[1]/span[1]').text\n",
    "    print(star)\n",
    "    keyword = [driver.find_element(By.XPATH, f'//*[@id=\"gdasList\"]/li[{i}]/div[2]/div[2]/dl[{j}]/dd/span').text for j in range(1,4)]\n",
    "    # print(keyword)\n",
    "    rv_text = driver.find_element(By.XPATH, f'//*[@id=\"gdasList\"]/li[{i}]/div[2]/div[3]').text\n",
    "    print(pname)"
   ]
  },
  {
   "cell_type": "markdown",
   "id": "8ef6d6c0-3453-47e3-8360-e2e7e731d256",
   "metadata": {},
   "source": [
    "## 인기순위로 20개 가져오기\n"
   ]
  },
  {
   "cell_type": "code",
   "execution_count": 24,
   "id": "1df3b41b-fd50-45f6-9f4e-fcbb82fc4769",
   "metadata": {},
   "outputs": [
    {
     "name": "stdout",
     "output_type": "stream",
     "text": [
      "__1__\n",
      "5점만점에 5점\n",
      "[4년연속 맨즈케어1등]아이디얼포맨 퍼펙트올인원밀크 어워즈 한정기획(2022)\n",
      "__2__\n",
      "5점만점에 5점\n",
      "[4년연속 맨즈케어1등]아이디얼포맨 퍼펙트올인원밀크 어워즈 한정기획(2022)\n",
      "__3__\n",
      "5점만점에 5점\n",
      "[4년연속 맨즈케어1등]아이디얼포맨 퍼펙트올인원밀크 어워즈 한정기획(2022)\n",
      "__4__\n",
      "5점만점에 5점\n",
      "[4년연속 맨즈케어1등]아이디얼포맨 퍼펙트올인원밀크 어워즈 한정기획(2022)\n",
      "__5__\n",
      "5점만점에 5점\n",
      "[4년연속 맨즈케어1등]아이디얼포맨 퍼펙트올인원밀크 어워즈 한정기획(2022)\n",
      "__6__\n",
      "5점만점에 5점\n",
      "[4년연속 맨즈케어1등]아이디얼포맨 퍼펙트올인원밀크 어워즈 한정기획(2022)\n",
      "__7__\n",
      "5점만점에 5점\n",
      "[4년연속 맨즈케어1등]아이디얼포맨 퍼펙트올인원밀크 어워즈 한정기획(2022)\n",
      "__8__\n",
      "5점만점에 5점\n",
      "[4년연속 맨즈케어1등]아이디얼포맨 퍼펙트올인원밀크 어워즈 한정기획(2022)\n",
      "__9__\n",
      "5점만점에 5점\n",
      "[4년연속 맨즈케어1등]아이디얼포맨 퍼펙트올인원밀크 어워즈 한정기획(2022)\n",
      "__10__\n",
      "5점만점에 5점\n",
      "[4년연속 맨즈케어1등]아이디얼포맨 퍼펙트올인원밀크 어워즈 한정기획(2022)\n"
     ]
    },
    {
     "ename": "NoSuchElementException",
     "evalue": "Message: no such element: Unable to locate element: {\"method\":\"xpath\",\"selector\":\"//*[@id=\"gdasContentsArea\"]/div/div[6]/a[1]\"}\n  (Session info: chrome=109.0.5414.75)\nStacktrace:\nBacktrace:\n\t(No symbol) [0x004C6643]\n\t(No symbol) [0x0045BE21]\n\t(No symbol) [0x0035DA9D]\n\t(No symbol) [0x00391342]\n\t(No symbol) [0x0039147B]\n\t(No symbol) [0x003C8DC2]\n\t(No symbol) [0x003AFDC4]\n\t(No symbol) [0x003C6B09]\n\t(No symbol) [0x003AFB76]\n\t(No symbol) [0x003849C1]\n\t(No symbol) [0x00385E5D]\n\tGetHandleVerifier [0x0073A142+2497106]\n\tGetHandleVerifier [0x007685D3+2686691]\n\tGetHandleVerifier [0x0076BB9C+2700460]\n\tGetHandleVerifier [0x00573B10+635936]\n\t(No symbol) [0x00464A1F]\n\t(No symbol) [0x0046A418]\n\t(No symbol) [0x0046A505]\n\t(No symbol) [0x0047508B]\n\tBaseThreadInitThunk [0x776400F9+25]\n\tRtlGetAppContainerNamedObjectPath [0x779E7BBE+286]\n\tRtlGetAppContainerNamedObjectPath [0x779E7B8E+238]\n",
     "output_type": "error",
     "traceback": [
      "\u001b[1;31m---------------------------------------------------------------------------\u001b[0m",
      "\u001b[1;31mNoSuchElementException\u001b[0m                    Traceback (most recent call last)",
      "\u001b[1;32m~\\AppData\\Local\\Temp/ipykernel_10836/1329162917.py\u001b[0m in \u001b[0;36m<module>\u001b[1;34m\u001b[0m\n\u001b[0;32m     15\u001b[0m     \u001b[0mrv_text\u001b[0m \u001b[1;33m=\u001b[0m \u001b[0mdriver\u001b[0m\u001b[1;33m.\u001b[0m\u001b[0mfind_element\u001b[0m\u001b[1;33m(\u001b[0m\u001b[0mBy\u001b[0m\u001b[1;33m.\u001b[0m\u001b[0mXPATH\u001b[0m\u001b[1;33m,\u001b[0m \u001b[1;34mf'//*[@id=\"gdasList\"]/li[{i}]/div[2]/div[3]'\u001b[0m\u001b[1;33m)\u001b[0m\u001b[1;33m.\u001b[0m\u001b[0mtext\u001b[0m\u001b[1;33m\u001b[0m\u001b[1;33m\u001b[0m\u001b[0m\n\u001b[0;32m     16\u001b[0m     \u001b[0mprint\u001b[0m\u001b[1;33m(\u001b[0m\u001b[0mpname\u001b[0m\u001b[1;33m)\u001b[0m\u001b[1;33m\u001b[0m\u001b[1;33m\u001b[0m\u001b[0m\n\u001b[1;32m---> 17\u001b[1;33m \u001b[0mdriver\u001b[0m\u001b[1;33m.\u001b[0m\u001b[0mfind_element\u001b[0m\u001b[1;33m(\u001b[0m\u001b[0mBy\u001b[0m\u001b[1;33m.\u001b[0m\u001b[0mXPATH\u001b[0m\u001b[1;33m,\u001b[0m \u001b[1;34m'//*[@id=\"gdasContentsArea\"]/div/div[6]/a[1]'\u001b[0m\u001b[1;33m)\u001b[0m\u001b[1;33m.\u001b[0m\u001b[0mclick\u001b[0m\u001b[1;33m(\u001b[0m\u001b[1;33m)\u001b[0m\u001b[1;33m\u001b[0m\u001b[1;33m\u001b[0m\u001b[0m\n\u001b[0m\u001b[0;32m     18\u001b[0m \u001b[0mtime\u001b[0m\u001b[1;33m.\u001b[0m\u001b[0msleep\u001b[0m\u001b[1;33m(\u001b[0m\u001b[1;36m3\u001b[0m\u001b[1;33m)\u001b[0m\u001b[1;33m\u001b[0m\u001b[1;33m\u001b[0m\u001b[0m\n\u001b[0;32m     19\u001b[0m \u001b[1;32mfor\u001b[0m \u001b[0mi\u001b[0m \u001b[1;32min\u001b[0m \u001b[0mrange\u001b[0m\u001b[1;33m(\u001b[0m\u001b[1;36m1\u001b[0m\u001b[1;33m,\u001b[0m\u001b[1;36m11\u001b[0m\u001b[1;33m)\u001b[0m\u001b[1;33m:\u001b[0m\u001b[1;33m\u001b[0m\u001b[1;33m\u001b[0m\u001b[0m\n",
      "\u001b[1;32mC:\\Anaconda3\\lib\\site-packages\\selenium\\webdriver\\remote\\webdriver.py\u001b[0m in \u001b[0;36mfind_element\u001b[1;34m(self, by, value)\u001b[0m\n\u001b[0;32m    859\u001b[0m             \u001b[0mvalue\u001b[0m \u001b[1;33m=\u001b[0m \u001b[1;34m'[name=\"%s\"]'\u001b[0m \u001b[1;33m%\u001b[0m \u001b[0mvalue\u001b[0m\u001b[1;33m\u001b[0m\u001b[1;33m\u001b[0m\u001b[0m\n\u001b[0;32m    860\u001b[0m \u001b[1;33m\u001b[0m\u001b[0m\n\u001b[1;32m--> 861\u001b[1;33m         \u001b[1;32mreturn\u001b[0m \u001b[0mself\u001b[0m\u001b[1;33m.\u001b[0m\u001b[0mexecute\u001b[0m\u001b[1;33m(\u001b[0m\u001b[0mCommand\u001b[0m\u001b[1;33m.\u001b[0m\u001b[0mFIND_ELEMENT\u001b[0m\u001b[1;33m,\u001b[0m \u001b[1;33m{\u001b[0m\u001b[1;34m\"using\"\u001b[0m\u001b[1;33m:\u001b[0m \u001b[0mby\u001b[0m\u001b[1;33m,\u001b[0m \u001b[1;34m\"value\"\u001b[0m\u001b[1;33m:\u001b[0m \u001b[0mvalue\u001b[0m\u001b[1;33m}\u001b[0m\u001b[1;33m)\u001b[0m\u001b[1;33m[\u001b[0m\u001b[1;34m\"value\"\u001b[0m\u001b[1;33m]\u001b[0m\u001b[1;33m\u001b[0m\u001b[1;33m\u001b[0m\u001b[0m\n\u001b[0m\u001b[0;32m    862\u001b[0m \u001b[1;33m\u001b[0m\u001b[0m\n\u001b[0;32m    863\u001b[0m     \u001b[1;32mdef\u001b[0m \u001b[0mfind_elements\u001b[0m\u001b[1;33m(\u001b[0m\u001b[0mself\u001b[0m\u001b[1;33m,\u001b[0m \u001b[0mby\u001b[0m\u001b[1;33m=\u001b[0m\u001b[0mBy\u001b[0m\u001b[1;33m.\u001b[0m\u001b[0mID\u001b[0m\u001b[1;33m,\u001b[0m \u001b[0mvalue\u001b[0m\u001b[1;33m:\u001b[0m \u001b[0mOptional\u001b[0m\u001b[1;33m[\u001b[0m\u001b[0mstr\u001b[0m\u001b[1;33m]\u001b[0m \u001b[1;33m=\u001b[0m \u001b[1;32mNone\u001b[0m\u001b[1;33m)\u001b[0m \u001b[1;33m->\u001b[0m \u001b[0mList\u001b[0m\u001b[1;33m[\u001b[0m\u001b[0mWebElement\u001b[0m\u001b[1;33m]\u001b[0m\u001b[1;33m:\u001b[0m\u001b[1;33m\u001b[0m\u001b[1;33m\u001b[0m\u001b[0m\n",
      "\u001b[1;32mC:\\Anaconda3\\lib\\site-packages\\selenium\\webdriver\\remote\\webdriver.py\u001b[0m in \u001b[0;36mexecute\u001b[1;34m(self, driver_command, params)\u001b[0m\n\u001b[0;32m    442\u001b[0m         \u001b[0mresponse\u001b[0m \u001b[1;33m=\u001b[0m \u001b[0mself\u001b[0m\u001b[1;33m.\u001b[0m\u001b[0mcommand_executor\u001b[0m\u001b[1;33m.\u001b[0m\u001b[0mexecute\u001b[0m\u001b[1;33m(\u001b[0m\u001b[0mdriver_command\u001b[0m\u001b[1;33m,\u001b[0m \u001b[0mparams\u001b[0m\u001b[1;33m)\u001b[0m\u001b[1;33m\u001b[0m\u001b[1;33m\u001b[0m\u001b[0m\n\u001b[0;32m    443\u001b[0m         \u001b[1;32mif\u001b[0m \u001b[0mresponse\u001b[0m\u001b[1;33m:\u001b[0m\u001b[1;33m\u001b[0m\u001b[1;33m\u001b[0m\u001b[0m\n\u001b[1;32m--> 444\u001b[1;33m             \u001b[0mself\u001b[0m\u001b[1;33m.\u001b[0m\u001b[0merror_handler\u001b[0m\u001b[1;33m.\u001b[0m\u001b[0mcheck_response\u001b[0m\u001b[1;33m(\u001b[0m\u001b[0mresponse\u001b[0m\u001b[1;33m)\u001b[0m\u001b[1;33m\u001b[0m\u001b[1;33m\u001b[0m\u001b[0m\n\u001b[0m\u001b[0;32m    445\u001b[0m             \u001b[0mresponse\u001b[0m\u001b[1;33m[\u001b[0m\u001b[1;34m\"value\"\u001b[0m\u001b[1;33m]\u001b[0m \u001b[1;33m=\u001b[0m \u001b[0mself\u001b[0m\u001b[1;33m.\u001b[0m\u001b[0m_unwrap_value\u001b[0m\u001b[1;33m(\u001b[0m\u001b[0mresponse\u001b[0m\u001b[1;33m.\u001b[0m\u001b[0mget\u001b[0m\u001b[1;33m(\u001b[0m\u001b[1;34m\"value\"\u001b[0m\u001b[1;33m,\u001b[0m \u001b[1;32mNone\u001b[0m\u001b[1;33m)\u001b[0m\u001b[1;33m)\u001b[0m\u001b[1;33m\u001b[0m\u001b[1;33m\u001b[0m\u001b[0m\n\u001b[0;32m    446\u001b[0m             \u001b[1;32mreturn\u001b[0m \u001b[0mresponse\u001b[0m\u001b[1;33m\u001b[0m\u001b[1;33m\u001b[0m\u001b[0m\n",
      "\u001b[1;32mC:\\Anaconda3\\lib\\site-packages\\selenium\\webdriver\\remote\\errorhandler.py\u001b[0m in \u001b[0;36mcheck_response\u001b[1;34m(self, response)\u001b[0m\n\u001b[0;32m    247\u001b[0m                 \u001b[0malert_text\u001b[0m \u001b[1;33m=\u001b[0m \u001b[0mvalue\u001b[0m\u001b[1;33m[\u001b[0m\u001b[1;34m\"alert\"\u001b[0m\u001b[1;33m]\u001b[0m\u001b[1;33m.\u001b[0m\u001b[0mget\u001b[0m\u001b[1;33m(\u001b[0m\u001b[1;34m\"text\"\u001b[0m\u001b[1;33m)\u001b[0m\u001b[1;33m\u001b[0m\u001b[1;33m\u001b[0m\u001b[0m\n\u001b[0;32m    248\u001b[0m             \u001b[1;32mraise\u001b[0m \u001b[0mexception_class\u001b[0m\u001b[1;33m(\u001b[0m\u001b[0mmessage\u001b[0m\u001b[1;33m,\u001b[0m \u001b[0mscreen\u001b[0m\u001b[1;33m,\u001b[0m \u001b[0mstacktrace\u001b[0m\u001b[1;33m,\u001b[0m \u001b[0malert_text\u001b[0m\u001b[1;33m)\u001b[0m  \u001b[1;31m# type: ignore[call-arg]  # mypy is not smart enough here\u001b[0m\u001b[1;33m\u001b[0m\u001b[1;33m\u001b[0m\u001b[0m\n\u001b[1;32m--> 249\u001b[1;33m         \u001b[1;32mraise\u001b[0m \u001b[0mexception_class\u001b[0m\u001b[1;33m(\u001b[0m\u001b[0mmessage\u001b[0m\u001b[1;33m,\u001b[0m \u001b[0mscreen\u001b[0m\u001b[1;33m,\u001b[0m \u001b[0mstacktrace\u001b[0m\u001b[1;33m)\u001b[0m\u001b[1;33m\u001b[0m\u001b[1;33m\u001b[0m\u001b[0m\n\u001b[0m",
      "\u001b[1;31mNoSuchElementException\u001b[0m: Message: no such element: Unable to locate element: {\"method\":\"xpath\",\"selector\":\"//*[@id=\"gdasContentsArea\"]/div/div[6]/a[1]\"}\n  (Session info: chrome=109.0.5414.75)\nStacktrace:\nBacktrace:\n\t(No symbol) [0x004C6643]\n\t(No symbol) [0x0045BE21]\n\t(No symbol) [0x0035DA9D]\n\t(No symbol) [0x00391342]\n\t(No symbol) [0x0039147B]\n\t(No symbol) [0x003C8DC2]\n\t(No symbol) [0x003AFDC4]\n\t(No symbol) [0x003C6B09]\n\t(No symbol) [0x003AFB76]\n\t(No symbol) [0x003849C1]\n\t(No symbol) [0x00385E5D]\n\tGetHandleVerifier [0x0073A142+2497106]\n\tGetHandleVerifier [0x007685D3+2686691]\n\tGetHandleVerifier [0x0076BB9C+2700460]\n\tGetHandleVerifier [0x00573B10+635936]\n\t(No symbol) [0x00464A1F]\n\t(No symbol) [0x0046A418]\n\t(No symbol) [0x0046A505]\n\t(No symbol) [0x0047508B]\n\tBaseThreadInitThunk [0x776400F9+25]\n\tRtlGetAppContainerNamedObjectPath [0x779E7BBE+286]\n\tRtlGetAppContainerNamedObjectPath [0x779E7B8E+238]\n"
     ]
    }
   ],
   "source": [
    "## 상품에 접근\n",
    "driver.get(url=a)\n",
    "driver.find_element(By.XPATH,f'//*[@id=\"Contents\"]/div/div[1]/ul/li[1]/a').click()\n",
    "driver.find_element(By.XPATH,f'//*[@id=\"Contents\"]/ul[2]/li[1]/div/a/img').click()\n",
    "## 리뷰에 접근\n",
    "driver.find_element(By.XPATH,f'//*[@id=\"reviewInfo\"]/a').click()\n",
    "time.sleep(3)\n",
    "for i in range(1,11):\n",
    "    print(f'__{i}__')\n",
    "    pname = driver.find_element(By.XPATH,'//*[@id=\"Contents\"]/div[2]/div[2]/div/p[2]').text\n",
    "    star = driver.find_element(By.XPATH, f'//*[@id=\"gdasList\"]/li[{i}]/div[2]/div[1]/span[1]').text\n",
    "    print(star)\n",
    "    keyword = [driver.find_element(By.XPATH, f'//*[@id=\"gdasList\"]/li[{i}]/div[2]/div[2]/dl[{j}]/dd/span').text for j in range(1,4)]\n",
    "    # print(keyword)\n",
    "    rv_text = driver.find_element(By.XPATH, f'//*[@id=\"gdasList\"]/li[{i}]/div[2]/div[3]').text\n",
    "    print(pname)\n",
    "driver.find_element(By.XPATH, '//*[@id=\"gdasContentsArea\"]/div/div[6]/a[1]').click()\n",
    "time.sleep(3)\n",
    "for i in range(1,11):\n",
    "    print(f'__{10+i}__')\n",
    "    pname = driver.find_element(By.XPATH,'//*[@id=\"Contents\"]/div[2]/div[2]/div/p[2]').text\n",
    "    star = driver.find_element(By.XPATH, f'//*[@id=\"gdasList\"]/li[{i}]/div[2]/div[1]/span[1]').text\n",
    "    print(star)\n",
    "    keyword = [driver.find_element(By.XPATH, f'//*[@id=\"gdasList\"]/li[{i}]/div[2]/div[2]/dl[{j}]/dd/span').text for j in range(1,4)]\n",
    "    # print(keyword)\n",
    "    rv_text = driver.find_element(By.XPATH, f'//*[@id=\"gdasList\"]/li[{i}]/div[2]/div[3]').text\n",
    "    print(pname)"
   ]
  },
  {
   "cell_type": "code",
   "execution_count": 55,
   "id": "e81638b2-ff02-4be3-bf1f-e336c59bc59d",
   "metadata": {},
   "outputs": [],
   "source": [
    "# driver.find_element(By.XPATH, '//*[@id=\"gdasContentsArea\"]/div/div[6]/strong').click()\n",
    "x = driver.find_element(By.CSS_SELECTOR, '#gdasContentsArea > div > div.pageing > a:nth-child(3)')\n",
    "x.send_keys()\n",
    "# 셀렉터 : #gdasContentsArea > div > div.pageing > a:nth-child(1)"
   ]
  },
  {
   "cell_type": "code",
   "execution_count": 61,
   "id": "42c917a8-e180-4de6-8a29-f8848b48d0cf",
   "metadata": {},
   "outputs": [
    {
     "ename": "NoSuchElementException",
     "evalue": "Message: no such element: Unable to locate element: {\"method\":\"xpath\",\"selector\":\"//*[@id=\"gdasContentsArea\"]/div/div[6]/a[1]\"}\n  (Session info: chrome=109.0.5414.75)\nStacktrace:\nBacktrace:\n\t(No symbol) [0x004C6643]\n\t(No symbol) [0x0045BE21]\n\t(No symbol) [0x0035DA9D]\n\t(No symbol) [0x00391342]\n\t(No symbol) [0x0039147B]\n\t(No symbol) [0x003C8DC2]\n\t(No symbol) [0x003AFDC4]\n\t(No symbol) [0x003C6B09]\n\t(No symbol) [0x003AFB76]\n\t(No symbol) [0x003849C1]\n\t(No symbol) [0x00385E5D]\n\tGetHandleVerifier [0x0073A142+2497106]\n\tGetHandleVerifier [0x007685D3+2686691]\n\tGetHandleVerifier [0x0076BB9C+2700460]\n\tGetHandleVerifier [0x00573B10+635936]\n\t(No symbol) [0x00464A1F]\n\t(No symbol) [0x0046A418]\n\t(No symbol) [0x0046A505]\n\t(No symbol) [0x0047508B]\n\tBaseThreadInitThunk [0x776400F9+25]\n\tRtlGetAppContainerNamedObjectPath [0x779E7BBE+286]\n\tRtlGetAppContainerNamedObjectPath [0x779E7B8E+238]\n",
     "output_type": "error",
     "traceback": [
      "\u001b[1;31m---------------------------------------------------------------------------\u001b[0m",
      "\u001b[1;31mNoSuchElementException\u001b[0m                    Traceback (most recent call last)",
      "\u001b[1;32m~\\AppData\\Local\\Temp/ipykernel_10836/22840747.py\u001b[0m in \u001b[0;36m<module>\u001b[1;34m\u001b[0m\n\u001b[1;32m----> 1\u001b[1;33m \u001b[0mdriver\u001b[0m\u001b[1;33m.\u001b[0m\u001b[0mfind_element\u001b[0m\u001b[1;33m(\u001b[0m\u001b[0mBy\u001b[0m\u001b[1;33m.\u001b[0m\u001b[0mXPATH\u001b[0m\u001b[1;33m,\u001b[0m \u001b[1;34m'//*[@id=\"gdasContentsArea\"]/div/div[6]/a[1]'\u001b[0m\u001b[1;33m)\u001b[0m\u001b[1;33m.\u001b[0m\u001b[0mperform\u001b[0m\u001b[1;33m(\u001b[0m\u001b[1;33m)\u001b[0m\u001b[1;33m\u001b[0m\u001b[1;33m\u001b[0m\u001b[0m\n\u001b[0m",
      "\u001b[1;32mC:\\Anaconda3\\lib\\site-packages\\selenium\\webdriver\\remote\\webdriver.py\u001b[0m in \u001b[0;36mfind_element\u001b[1;34m(self, by, value)\u001b[0m\n\u001b[0;32m    859\u001b[0m             \u001b[0mvalue\u001b[0m \u001b[1;33m=\u001b[0m \u001b[1;34m'[name=\"%s\"]'\u001b[0m \u001b[1;33m%\u001b[0m \u001b[0mvalue\u001b[0m\u001b[1;33m\u001b[0m\u001b[1;33m\u001b[0m\u001b[0m\n\u001b[0;32m    860\u001b[0m \u001b[1;33m\u001b[0m\u001b[0m\n\u001b[1;32m--> 861\u001b[1;33m         \u001b[1;32mreturn\u001b[0m \u001b[0mself\u001b[0m\u001b[1;33m.\u001b[0m\u001b[0mexecute\u001b[0m\u001b[1;33m(\u001b[0m\u001b[0mCommand\u001b[0m\u001b[1;33m.\u001b[0m\u001b[0mFIND_ELEMENT\u001b[0m\u001b[1;33m,\u001b[0m \u001b[1;33m{\u001b[0m\u001b[1;34m\"using\"\u001b[0m\u001b[1;33m:\u001b[0m \u001b[0mby\u001b[0m\u001b[1;33m,\u001b[0m \u001b[1;34m\"value\"\u001b[0m\u001b[1;33m:\u001b[0m \u001b[0mvalue\u001b[0m\u001b[1;33m}\u001b[0m\u001b[1;33m)\u001b[0m\u001b[1;33m[\u001b[0m\u001b[1;34m\"value\"\u001b[0m\u001b[1;33m]\u001b[0m\u001b[1;33m\u001b[0m\u001b[1;33m\u001b[0m\u001b[0m\n\u001b[0m\u001b[0;32m    862\u001b[0m \u001b[1;33m\u001b[0m\u001b[0m\n\u001b[0;32m    863\u001b[0m     \u001b[1;32mdef\u001b[0m \u001b[0mfind_elements\u001b[0m\u001b[1;33m(\u001b[0m\u001b[0mself\u001b[0m\u001b[1;33m,\u001b[0m \u001b[0mby\u001b[0m\u001b[1;33m=\u001b[0m\u001b[0mBy\u001b[0m\u001b[1;33m.\u001b[0m\u001b[0mID\u001b[0m\u001b[1;33m,\u001b[0m \u001b[0mvalue\u001b[0m\u001b[1;33m:\u001b[0m \u001b[0mOptional\u001b[0m\u001b[1;33m[\u001b[0m\u001b[0mstr\u001b[0m\u001b[1;33m]\u001b[0m \u001b[1;33m=\u001b[0m \u001b[1;32mNone\u001b[0m\u001b[1;33m)\u001b[0m \u001b[1;33m->\u001b[0m \u001b[0mList\u001b[0m\u001b[1;33m[\u001b[0m\u001b[0mWebElement\u001b[0m\u001b[1;33m]\u001b[0m\u001b[1;33m:\u001b[0m\u001b[1;33m\u001b[0m\u001b[1;33m\u001b[0m\u001b[0m\n",
      "\u001b[1;32mC:\\Anaconda3\\lib\\site-packages\\selenium\\webdriver\\remote\\webdriver.py\u001b[0m in \u001b[0;36mexecute\u001b[1;34m(self, driver_command, params)\u001b[0m\n\u001b[0;32m    442\u001b[0m         \u001b[0mresponse\u001b[0m \u001b[1;33m=\u001b[0m \u001b[0mself\u001b[0m\u001b[1;33m.\u001b[0m\u001b[0mcommand_executor\u001b[0m\u001b[1;33m.\u001b[0m\u001b[0mexecute\u001b[0m\u001b[1;33m(\u001b[0m\u001b[0mdriver_command\u001b[0m\u001b[1;33m,\u001b[0m \u001b[0mparams\u001b[0m\u001b[1;33m)\u001b[0m\u001b[1;33m\u001b[0m\u001b[1;33m\u001b[0m\u001b[0m\n\u001b[0;32m    443\u001b[0m         \u001b[1;32mif\u001b[0m \u001b[0mresponse\u001b[0m\u001b[1;33m:\u001b[0m\u001b[1;33m\u001b[0m\u001b[1;33m\u001b[0m\u001b[0m\n\u001b[1;32m--> 444\u001b[1;33m             \u001b[0mself\u001b[0m\u001b[1;33m.\u001b[0m\u001b[0merror_handler\u001b[0m\u001b[1;33m.\u001b[0m\u001b[0mcheck_response\u001b[0m\u001b[1;33m(\u001b[0m\u001b[0mresponse\u001b[0m\u001b[1;33m)\u001b[0m\u001b[1;33m\u001b[0m\u001b[1;33m\u001b[0m\u001b[0m\n\u001b[0m\u001b[0;32m    445\u001b[0m             \u001b[0mresponse\u001b[0m\u001b[1;33m[\u001b[0m\u001b[1;34m\"value\"\u001b[0m\u001b[1;33m]\u001b[0m \u001b[1;33m=\u001b[0m \u001b[0mself\u001b[0m\u001b[1;33m.\u001b[0m\u001b[0m_unwrap_value\u001b[0m\u001b[1;33m(\u001b[0m\u001b[0mresponse\u001b[0m\u001b[1;33m.\u001b[0m\u001b[0mget\u001b[0m\u001b[1;33m(\u001b[0m\u001b[1;34m\"value\"\u001b[0m\u001b[1;33m,\u001b[0m \u001b[1;32mNone\u001b[0m\u001b[1;33m)\u001b[0m\u001b[1;33m)\u001b[0m\u001b[1;33m\u001b[0m\u001b[1;33m\u001b[0m\u001b[0m\n\u001b[0;32m    446\u001b[0m             \u001b[1;32mreturn\u001b[0m \u001b[0mresponse\u001b[0m\u001b[1;33m\u001b[0m\u001b[1;33m\u001b[0m\u001b[0m\n",
      "\u001b[1;32mC:\\Anaconda3\\lib\\site-packages\\selenium\\webdriver\\remote\\errorhandler.py\u001b[0m in \u001b[0;36mcheck_response\u001b[1;34m(self, response)\u001b[0m\n\u001b[0;32m    247\u001b[0m                 \u001b[0malert_text\u001b[0m \u001b[1;33m=\u001b[0m \u001b[0mvalue\u001b[0m\u001b[1;33m[\u001b[0m\u001b[1;34m\"alert\"\u001b[0m\u001b[1;33m]\u001b[0m\u001b[1;33m.\u001b[0m\u001b[0mget\u001b[0m\u001b[1;33m(\u001b[0m\u001b[1;34m\"text\"\u001b[0m\u001b[1;33m)\u001b[0m\u001b[1;33m\u001b[0m\u001b[1;33m\u001b[0m\u001b[0m\n\u001b[0;32m    248\u001b[0m             \u001b[1;32mraise\u001b[0m \u001b[0mexception_class\u001b[0m\u001b[1;33m(\u001b[0m\u001b[0mmessage\u001b[0m\u001b[1;33m,\u001b[0m \u001b[0mscreen\u001b[0m\u001b[1;33m,\u001b[0m \u001b[0mstacktrace\u001b[0m\u001b[1;33m,\u001b[0m \u001b[0malert_text\u001b[0m\u001b[1;33m)\u001b[0m  \u001b[1;31m# type: ignore[call-arg]  # mypy is not smart enough here\u001b[0m\u001b[1;33m\u001b[0m\u001b[1;33m\u001b[0m\u001b[0m\n\u001b[1;32m--> 249\u001b[1;33m         \u001b[1;32mraise\u001b[0m \u001b[0mexception_class\u001b[0m\u001b[1;33m(\u001b[0m\u001b[0mmessage\u001b[0m\u001b[1;33m,\u001b[0m \u001b[0mscreen\u001b[0m\u001b[1;33m,\u001b[0m \u001b[0mstacktrace\u001b[0m\u001b[1;33m)\u001b[0m\u001b[1;33m\u001b[0m\u001b[1;33m\u001b[0m\u001b[0m\n\u001b[0m",
      "\u001b[1;31mNoSuchElementException\u001b[0m: Message: no such element: Unable to locate element: {\"method\":\"xpath\",\"selector\":\"//*[@id=\"gdasContentsArea\"]/div/div[6]/a[1]\"}\n  (Session info: chrome=109.0.5414.75)\nStacktrace:\nBacktrace:\n\t(No symbol) [0x004C6643]\n\t(No symbol) [0x0045BE21]\n\t(No symbol) [0x0035DA9D]\n\t(No symbol) [0x00391342]\n\t(No symbol) [0x0039147B]\n\t(No symbol) [0x003C8DC2]\n\t(No symbol) [0x003AFDC4]\n\t(No symbol) [0x003C6B09]\n\t(No symbol) [0x003AFB76]\n\t(No symbol) [0x003849C1]\n\t(No symbol) [0x00385E5D]\n\tGetHandleVerifier [0x0073A142+2497106]\n\tGetHandleVerifier [0x007685D3+2686691]\n\tGetHandleVerifier [0x0076BB9C+2700460]\n\tGetHandleVerifier [0x00573B10+635936]\n\t(No symbol) [0x00464A1F]\n\t(No symbol) [0x0046A418]\n\t(No symbol) [0x0046A505]\n\t(No symbol) [0x0047508B]\n\tBaseThreadInitThunk [0x776400F9+25]\n\tRtlGetAppContainerNamedObjectPath [0x779E7BBE+286]\n\tRtlGetAppContainerNamedObjectPath [0x779E7B8E+238]\n"
     ]
    }
   ],
   "source": [
    "driver.find_element(By.XPATH, '//*[@id=\"gdasContentsArea\"]/div/div[6]/a[1]').perform()"
   ]
  },
  {
   "cell_type": "code",
   "execution_count": null,
   "id": "e6680870-a330-4eb5-88c5-7a4f381496e9",
   "metadata": {},
   "outputs": [],
   "source": [
    "#gdasContentsArea > div > div.pageing"
   ]
  },
  {
   "cell_type": "code",
   "execution_count": 47,
   "id": "e656a517-da98-426e-b26e-767c98bf52ca",
   "metadata": {},
   "outputs": [
    {
     "ename": "NoSuchElementException",
     "evalue": "Message: no such element: Unable to locate element: {\"method\":\"css selector\",\"selector\":\"div.paging > *\"}\n  (Session info: chrome=109.0.5414.75)\nStacktrace:\nBacktrace:\n\t(No symbol) [0x004C6643]\n\t(No symbol) [0x0045BE21]\n\t(No symbol) [0x0035DA9D]\n\t(No symbol) [0x00391342]\n\t(No symbol) [0x0039147B]\n\t(No symbol) [0x003C8DC2]\n\t(No symbol) [0x003AFDC4]\n\t(No symbol) [0x003C6B09]\n\t(No symbol) [0x003AFB76]\n\t(No symbol) [0x003849C1]\n\t(No symbol) [0x00385E5D]\n\tGetHandleVerifier [0x0073A142+2497106]\n\tGetHandleVerifier [0x007685D3+2686691]\n\tGetHandleVerifier [0x0076BB9C+2700460]\n\tGetHandleVerifier [0x00573B10+635936]\n\t(No symbol) [0x00464A1F]\n\t(No symbol) [0x0046A418]\n\t(No symbol) [0x0046A505]\n\t(No symbol) [0x0047508B]\n\tBaseThreadInitThunk [0x776400F9+25]\n\tRtlGetAppContainerNamedObjectPath [0x779E7BBE+286]\n\tRtlGetAppContainerNamedObjectPath [0x779E7B8E+238]\n",
     "output_type": "error",
     "traceback": [
      "\u001b[1;31m---------------------------------------------------------------------------\u001b[0m",
      "\u001b[1;31mNoSuchElementException\u001b[0m                    Traceback (most recent call last)",
      "\u001b[1;32m~\\AppData\\Local\\Temp/ipykernel_10836/1814266432.py\u001b[0m in \u001b[0;36m<module>\u001b[1;34m\u001b[0m\n\u001b[0;32m      1\u001b[0m \u001b[1;32mfor\u001b[0m \u001b[0mi\u001b[0m \u001b[1;32min\u001b[0m \u001b[0mrange\u001b[0m\u001b[1;33m(\u001b[0m\u001b[1;36m2\u001b[0m\u001b[1;33m,\u001b[0m\u001b[1;36m4\u001b[0m\u001b[1;33m)\u001b[0m\u001b[1;33m:\u001b[0m\u001b[1;33m\u001b[0m\u001b[1;33m\u001b[0m\u001b[0m\n\u001b[1;32m----> 2\u001b[1;33m     \u001b[0mpage_bar\u001b[0m \u001b[1;33m=\u001b[0m \u001b[0mdriver\u001b[0m\u001b[1;33m.\u001b[0m\u001b[0mfind_element\u001b[0m\u001b[1;33m(\u001b[0m\u001b[0mBy\u001b[0m\u001b[1;33m.\u001b[0m\u001b[0mCSS_SELECTOR\u001b[0m\u001b[1;33m,\u001b[0m \u001b[1;34m\"div.paging > *\"\u001b[0m\u001b[1;33m)\u001b[0m\u001b[1;33m\u001b[0m\u001b[1;33m\u001b[0m\u001b[0m\n\u001b[0m\u001b[0;32m      3\u001b[0m     \u001b[0mpage_bar\u001b[0m\u001b[1;33m.\u001b[0m\u001b[0mclick\u001b[0m\u001b[1;33m(\u001b[0m\u001b[1;33m)\u001b[0m\u001b[1;33m\u001b[0m\u001b[1;33m\u001b[0m\u001b[0m\n\u001b[0;32m      4\u001b[0m     \u001b[0mtime\u001b[0m\u001b[1;33m.\u001b[0m\u001b[0msleep\u001b[0m\u001b[1;33m(\u001b[0m\u001b[1;36m2\u001b[0m\u001b[1;33m)\u001b[0m\u001b[1;33m\u001b[0m\u001b[1;33m\u001b[0m\u001b[0m\n",
      "\u001b[1;32mC:\\Anaconda3\\lib\\site-packages\\selenium\\webdriver\\remote\\webdriver.py\u001b[0m in \u001b[0;36mfind_element\u001b[1;34m(self, by, value)\u001b[0m\n\u001b[0;32m    859\u001b[0m             \u001b[0mvalue\u001b[0m \u001b[1;33m=\u001b[0m \u001b[1;34m'[name=\"%s\"]'\u001b[0m \u001b[1;33m%\u001b[0m \u001b[0mvalue\u001b[0m\u001b[1;33m\u001b[0m\u001b[1;33m\u001b[0m\u001b[0m\n\u001b[0;32m    860\u001b[0m \u001b[1;33m\u001b[0m\u001b[0m\n\u001b[1;32m--> 861\u001b[1;33m         \u001b[1;32mreturn\u001b[0m \u001b[0mself\u001b[0m\u001b[1;33m.\u001b[0m\u001b[0mexecute\u001b[0m\u001b[1;33m(\u001b[0m\u001b[0mCommand\u001b[0m\u001b[1;33m.\u001b[0m\u001b[0mFIND_ELEMENT\u001b[0m\u001b[1;33m,\u001b[0m \u001b[1;33m{\u001b[0m\u001b[1;34m\"using\"\u001b[0m\u001b[1;33m:\u001b[0m \u001b[0mby\u001b[0m\u001b[1;33m,\u001b[0m \u001b[1;34m\"value\"\u001b[0m\u001b[1;33m:\u001b[0m \u001b[0mvalue\u001b[0m\u001b[1;33m}\u001b[0m\u001b[1;33m)\u001b[0m\u001b[1;33m[\u001b[0m\u001b[1;34m\"value\"\u001b[0m\u001b[1;33m]\u001b[0m\u001b[1;33m\u001b[0m\u001b[1;33m\u001b[0m\u001b[0m\n\u001b[0m\u001b[0;32m    862\u001b[0m \u001b[1;33m\u001b[0m\u001b[0m\n\u001b[0;32m    863\u001b[0m     \u001b[1;32mdef\u001b[0m \u001b[0mfind_elements\u001b[0m\u001b[1;33m(\u001b[0m\u001b[0mself\u001b[0m\u001b[1;33m,\u001b[0m \u001b[0mby\u001b[0m\u001b[1;33m=\u001b[0m\u001b[0mBy\u001b[0m\u001b[1;33m.\u001b[0m\u001b[0mID\u001b[0m\u001b[1;33m,\u001b[0m \u001b[0mvalue\u001b[0m\u001b[1;33m:\u001b[0m \u001b[0mOptional\u001b[0m\u001b[1;33m[\u001b[0m\u001b[0mstr\u001b[0m\u001b[1;33m]\u001b[0m \u001b[1;33m=\u001b[0m \u001b[1;32mNone\u001b[0m\u001b[1;33m)\u001b[0m \u001b[1;33m->\u001b[0m \u001b[0mList\u001b[0m\u001b[1;33m[\u001b[0m\u001b[0mWebElement\u001b[0m\u001b[1;33m]\u001b[0m\u001b[1;33m:\u001b[0m\u001b[1;33m\u001b[0m\u001b[1;33m\u001b[0m\u001b[0m\n",
      "\u001b[1;32mC:\\Anaconda3\\lib\\site-packages\\selenium\\webdriver\\remote\\webdriver.py\u001b[0m in \u001b[0;36mexecute\u001b[1;34m(self, driver_command, params)\u001b[0m\n\u001b[0;32m    442\u001b[0m         \u001b[0mresponse\u001b[0m \u001b[1;33m=\u001b[0m \u001b[0mself\u001b[0m\u001b[1;33m.\u001b[0m\u001b[0mcommand_executor\u001b[0m\u001b[1;33m.\u001b[0m\u001b[0mexecute\u001b[0m\u001b[1;33m(\u001b[0m\u001b[0mdriver_command\u001b[0m\u001b[1;33m,\u001b[0m \u001b[0mparams\u001b[0m\u001b[1;33m)\u001b[0m\u001b[1;33m\u001b[0m\u001b[1;33m\u001b[0m\u001b[0m\n\u001b[0;32m    443\u001b[0m         \u001b[1;32mif\u001b[0m \u001b[0mresponse\u001b[0m\u001b[1;33m:\u001b[0m\u001b[1;33m\u001b[0m\u001b[1;33m\u001b[0m\u001b[0m\n\u001b[1;32m--> 444\u001b[1;33m             \u001b[0mself\u001b[0m\u001b[1;33m.\u001b[0m\u001b[0merror_handler\u001b[0m\u001b[1;33m.\u001b[0m\u001b[0mcheck_response\u001b[0m\u001b[1;33m(\u001b[0m\u001b[0mresponse\u001b[0m\u001b[1;33m)\u001b[0m\u001b[1;33m\u001b[0m\u001b[1;33m\u001b[0m\u001b[0m\n\u001b[0m\u001b[0;32m    445\u001b[0m             \u001b[0mresponse\u001b[0m\u001b[1;33m[\u001b[0m\u001b[1;34m\"value\"\u001b[0m\u001b[1;33m]\u001b[0m \u001b[1;33m=\u001b[0m \u001b[0mself\u001b[0m\u001b[1;33m.\u001b[0m\u001b[0m_unwrap_value\u001b[0m\u001b[1;33m(\u001b[0m\u001b[0mresponse\u001b[0m\u001b[1;33m.\u001b[0m\u001b[0mget\u001b[0m\u001b[1;33m(\u001b[0m\u001b[1;34m\"value\"\u001b[0m\u001b[1;33m,\u001b[0m \u001b[1;32mNone\u001b[0m\u001b[1;33m)\u001b[0m\u001b[1;33m)\u001b[0m\u001b[1;33m\u001b[0m\u001b[1;33m\u001b[0m\u001b[0m\n\u001b[0;32m    446\u001b[0m             \u001b[1;32mreturn\u001b[0m \u001b[0mresponse\u001b[0m\u001b[1;33m\u001b[0m\u001b[1;33m\u001b[0m\u001b[0m\n",
      "\u001b[1;32mC:\\Anaconda3\\lib\\site-packages\\selenium\\webdriver\\remote\\errorhandler.py\u001b[0m in \u001b[0;36mcheck_response\u001b[1;34m(self, response)\u001b[0m\n\u001b[0;32m    247\u001b[0m                 \u001b[0malert_text\u001b[0m \u001b[1;33m=\u001b[0m \u001b[0mvalue\u001b[0m\u001b[1;33m[\u001b[0m\u001b[1;34m\"alert\"\u001b[0m\u001b[1;33m]\u001b[0m\u001b[1;33m.\u001b[0m\u001b[0mget\u001b[0m\u001b[1;33m(\u001b[0m\u001b[1;34m\"text\"\u001b[0m\u001b[1;33m)\u001b[0m\u001b[1;33m\u001b[0m\u001b[1;33m\u001b[0m\u001b[0m\n\u001b[0;32m    248\u001b[0m             \u001b[1;32mraise\u001b[0m \u001b[0mexception_class\u001b[0m\u001b[1;33m(\u001b[0m\u001b[0mmessage\u001b[0m\u001b[1;33m,\u001b[0m \u001b[0mscreen\u001b[0m\u001b[1;33m,\u001b[0m \u001b[0mstacktrace\u001b[0m\u001b[1;33m,\u001b[0m \u001b[0malert_text\u001b[0m\u001b[1;33m)\u001b[0m  \u001b[1;31m# type: ignore[call-arg]  # mypy is not smart enough here\u001b[0m\u001b[1;33m\u001b[0m\u001b[1;33m\u001b[0m\u001b[0m\n\u001b[1;32m--> 249\u001b[1;33m         \u001b[1;32mraise\u001b[0m \u001b[0mexception_class\u001b[0m\u001b[1;33m(\u001b[0m\u001b[0mmessage\u001b[0m\u001b[1;33m,\u001b[0m \u001b[0mscreen\u001b[0m\u001b[1;33m,\u001b[0m \u001b[0mstacktrace\u001b[0m\u001b[1;33m)\u001b[0m\u001b[1;33m\u001b[0m\u001b[1;33m\u001b[0m\u001b[0m\n\u001b[0m",
      "\u001b[1;31mNoSuchElementException\u001b[0m: Message: no such element: Unable to locate element: {\"method\":\"css selector\",\"selector\":\"div.paging > *\"}\n  (Session info: chrome=109.0.5414.75)\nStacktrace:\nBacktrace:\n\t(No symbol) [0x004C6643]\n\t(No symbol) [0x0045BE21]\n\t(No symbol) [0x0035DA9D]\n\t(No symbol) [0x00391342]\n\t(No symbol) [0x0039147B]\n\t(No symbol) [0x003C8DC2]\n\t(No symbol) [0x003AFDC4]\n\t(No symbol) [0x003C6B09]\n\t(No symbol) [0x003AFB76]\n\t(No symbol) [0x003849C1]\n\t(No symbol) [0x00385E5D]\n\tGetHandleVerifier [0x0073A142+2497106]\n\tGetHandleVerifier [0x007685D3+2686691]\n\tGetHandleVerifier [0x0076BB9C+2700460]\n\tGetHandleVerifier [0x00573B10+635936]\n\t(No symbol) [0x00464A1F]\n\t(No symbol) [0x0046A418]\n\t(No symbol) [0x0046A505]\n\t(No symbol) [0x0047508B]\n\tBaseThreadInitThunk [0x776400F9+25]\n\tRtlGetAppContainerNamedObjectPath [0x779E7BBE+286]\n\tRtlGetAppContainerNamedObjectPath [0x779E7B8E+238]\n"
     ]
    }
   ],
   "source": [
    "for i in range(2,4):\n",
    "    page_bar = driver.find_element(By.CSS_SELECTOR, \"div.paging > *\")\n",
    "    page_bar.click()\n",
    "    time.sleep(2)\n"
   ]
  },
  {
   "cell_type": "code",
   "execution_count": 56,
   "id": "23c3a750-c851-4a4b-affd-49a1272a8512",
   "metadata": {},
   "outputs": [],
   "source": [
    "# 최신순 \n",
    "driver.find_element(By.XPATH, '//*[@id=\"gdasSort\"]/li[3]/a').click() \n",
    "## 이거는 실행됨 "
   ]
  },
  {
   "cell_type": "markdown",
   "id": "1b6931a5-8d85-4b3f-bfa9-2b2152ee372b",
   "metadata": {},
   "source": [
    "### 우선은 인기순과 최신순 각각 10개씩"
   ]
  },
  {
   "cell_type": "code",
   "execution_count": 62,
   "id": "4653478f-277e-43e9-8e3f-778a4d0c21c7",
   "metadata": {},
   "outputs": [
    {
     "name": "stdout",
     "output_type": "stream",
     "text": [
      "__1__\n",
      "5점만점에 5점\n",
      "[4년연속 맨즈케어1등]아이디얼포맨 퍼펙트올인원밀크 어워즈 한정기획(2022)\n",
      "__2__\n",
      "5점만점에 5점\n",
      "[4년연속 맨즈케어1등]아이디얼포맨 퍼펙트올인원밀크 어워즈 한정기획(2022)\n",
      "__3__\n",
      "5점만점에 5점\n",
      "[4년연속 맨즈케어1등]아이디얼포맨 퍼펙트올인원밀크 어워즈 한정기획(2022)\n",
      "__4__\n",
      "5점만점에 5점\n",
      "[4년연속 맨즈케어1등]아이디얼포맨 퍼펙트올인원밀크 어워즈 한정기획(2022)\n",
      "__5__\n",
      "5점만점에 5점\n",
      "[4년연속 맨즈케어1등]아이디얼포맨 퍼펙트올인원밀크 어워즈 한정기획(2022)\n",
      "__6__\n",
      "5점만점에 5점\n",
      "[4년연속 맨즈케어1등]아이디얼포맨 퍼펙트올인원밀크 어워즈 한정기획(2022)\n",
      "__7__\n",
      "5점만점에 5점\n",
      "[4년연속 맨즈케어1등]아이디얼포맨 퍼펙트올인원밀크 어워즈 한정기획(2022)\n",
      "__8__\n",
      "5점만점에 5점\n",
      "[4년연속 맨즈케어1등]아이디얼포맨 퍼펙트올인원밀크 어워즈 한정기획(2022)\n",
      "__9__\n",
      "5점만점에 5점\n",
      "[4년연속 맨즈케어1등]아이디얼포맨 퍼펙트올인원밀크 어워즈 한정기획(2022)\n",
      "__10__\n",
      "5점만점에 5점\n",
      "[4년연속 맨즈케어1등]아이디얼포맨 퍼펙트올인원밀크 어워즈 한정기획(2022)\n",
      "__11__\n",
      "5점만점에 5점\n",
      "[4년연속 맨즈케어1등]아이디얼포맨 퍼펙트올인원밀크 어워즈 한정기획(2022)\n",
      "__12__\n",
      "5점만점에 5점\n",
      "[4년연속 맨즈케어1등]아이디얼포맨 퍼펙트올인원밀크 어워즈 한정기획(2022)\n",
      "__13__\n",
      "5점만점에 5점\n",
      "[4년연속 맨즈케어1등]아이디얼포맨 퍼펙트올인원밀크 어워즈 한정기획(2022)\n",
      "__14__\n",
      "5점만점에 5점\n",
      "[4년연속 맨즈케어1등]아이디얼포맨 퍼펙트올인원밀크 어워즈 한정기획(2022)\n",
      "__15__\n",
      "5점만점에 5점\n",
      "[4년연속 맨즈케어1등]아이디얼포맨 퍼펙트올인원밀크 어워즈 한정기획(2022)\n",
      "__16__\n",
      "5점만점에 5점\n",
      "[4년연속 맨즈케어1등]아이디얼포맨 퍼펙트올인원밀크 어워즈 한정기획(2022)\n",
      "__17__\n",
      "5점만점에 5점\n",
      "[4년연속 맨즈케어1등]아이디얼포맨 퍼펙트올인원밀크 어워즈 한정기획(2022)\n",
      "__18__\n",
      "5점만점에 5점\n",
      "[4년연속 맨즈케어1등]아이디얼포맨 퍼펙트올인원밀크 어워즈 한정기획(2022)\n",
      "__19__\n",
      "5점만점에 5점\n",
      "[4년연속 맨즈케어1등]아이디얼포맨 퍼펙트올인원밀크 어워즈 한정기획(2022)\n",
      "__20__\n",
      "5점만점에 5점\n",
      "[4년연속 맨즈케어1등]아이디얼포맨 퍼펙트올인원밀크 어워즈 한정기획(2022)\n"
     ]
    }
   ],
   "source": [
    "## 상품에 접근\n",
    "driver.get(url=a)\n",
    "driver.find_element(By.XPATH,f'//*[@id=\"Contents\"]/div/div[1]/ul/li[1]/a').click()\n",
    "driver.find_element(By.XPATH,f'//*[@id=\"Contents\"]/ul[2]/li[1]/div/a/img').click()\n",
    "## 리뷰에 접근\n",
    "driver.find_element(By.XPATH,f'//*[@id=\"reviewInfo\"]/a').click()\n",
    "time.sleep(3)\n",
    "for i in range(1,11):\n",
    "    print(f'__{i}__')\n",
    "    pname = driver.find_element(By.XPATH,'//*[@id=\"Contents\"]/div[2]/div[2]/div/p[2]').text\n",
    "    star = driver.find_element(By.XPATH, f'//*[@id=\"gdasList\"]/li[{i}]/div[2]/div[1]/span[1]').text\n",
    "    print(star)\n",
    "    keyword = [driver.find_element(By.XPATH, f'//*[@id=\"gdasList\"]/li[{i}]/div[2]/div[2]/dl[{j}]/dd/span').text for j in range(1,4)]\n",
    "    # print(keyword)\n",
    "    rv_text = driver.find_element(By.XPATH, f'//*[@id=\"gdasList\"]/li[{i}]/div[2]/div[3]').text\n",
    "    print(pname)\n",
    "# 최신순 리뷰 접근\n",
    "driver.find_element(By.XPATH, '//*[@id=\"gdasSort\"]/li[3]/a').click()\n",
    "time.sleep(3)\n",
    "for i in range(1,11):\n",
    "    print(f'__{10+i}__')\n",
    "    pname = driver.find_element(By.XPATH,'//*[@id=\"Contents\"]/div[2]/div[2]/div/p[2]').text\n",
    "    star = driver.find_element(By.XPATH, f'//*[@id=\"gdasList\"]/li[{i}]/div[2]/div[1]/span[1]').text\n",
    "    print(star)\n",
    "    keyword = [driver.find_element(By.XPATH, f'//*[@id=\"gdasList\"]/li[{i}]/div[2]/div[2]/dl[{j}]/dd/span').text for j in range(1,4)]\n",
    "    # print(keyword)\n",
    "    rv_text = driver.find_element(By.XPATH, f'//*[@id=\"gdasList\"]/li[{i}]/div[2]/div[3]').text\n",
    "    print(pname)"
   ]
  },
  {
   "cell_type": "code",
   "execution_count": null,
   "id": "cb6d123b-9bcb-428e-9263-e09d1506065d",
   "metadata": {},
   "outputs": [],
   "source": []
  }
 ],
 "metadata": {
  "kernelspec": {
   "display_name": "Python 3 (ipykernel)",
   "language": "python",
   "name": "python3"
  },
  "language_info": {
   "codemirror_mode": {
    "name": "ipython",
    "version": 3
   },
   "file_extension": ".py",
   "mimetype": "text/x-python",
   "name": "python",
   "nbconvert_exporter": "python",
   "pygments_lexer": "ipython3",
   "version": "3.9.7"
  }
 },
 "nbformat": 4,
 "nbformat_minor": 5
}
